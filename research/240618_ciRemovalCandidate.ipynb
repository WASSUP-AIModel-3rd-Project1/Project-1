{
 "cells": [
  {
   "cell_type": "code",
   "execution_count": 1,
   "metadata": {},
   "outputs": [],
   "source": [
    "import pandas as pd\n",
    "import numpy as np\n",
    "import os"
   ]
  },
  {
   "cell_type": "code",
   "execution_count": 2,
   "metadata": {},
   "outputs": [],
   "source": [
    "import matplotlib.pyplot as plt\n",
    "plt.rcParams['font.family'] ='Malgun Gothic'\n",
    "plt.rcParams['axes.unicode_minus'] =False"
   ]
  },
  {
   "cell_type": "code",
   "execution_count": 3,
   "metadata": {},
   "outputs": [],
   "source": [
    "DATASET_DIR = ''\n",
    "dir_name = './'\n",
    "file_name = 'BigCitiesHealth.csv'"
   ]
  },
  {
   "cell_type": "code",
   "execution_count": 4,
   "metadata": {},
   "outputs": [
    {
     "name": "stderr",
     "output_type": "stream",
     "text": [
      "C:\\Users\\Post Scriptum\\AppData\\Local\\Temp\\ipykernel_44376\\664991473.py:2: DtypeWarning: Columns (30) have mixed types. Specify dtype option on import or set low_memory=False.\n",
      "  df = pd.read_csv(file_path)\n"
     ]
    },
    {
     "name": "stdout",
     "output_type": "stream",
     "text": [
      "<class 'pandas.core.frame.DataFrame'>\n",
      "RangeIndex: 189979 entries, 0 to 189978\n",
      "Data columns (total 31 columns):\n",
      " #   Column                           Non-Null Count   Dtype  \n",
      "---  ------                           --------------   -----  \n",
      " 0   metric_item_label                189979 non-null  object \n",
      " 1   metric_cat_label                 189979 non-null  object \n",
      " 2   metric_subcat_label              189979 non-null  object \n",
      " 3   metric_item_label_subtitle       189979 non-null  object \n",
      " 4   metric_cat_item_yaxis_label      189979 non-null  object \n",
      " 5   metric_source_desc_label_fn      189979 non-null  object \n",
      " 6   metric_source_desc_label_url_fn  189979 non-null  object \n",
      " 7   geo_label_city                   189979 non-null  object \n",
      " 8   geo_label_state                  188667 non-null  object \n",
      " 9   geo_label_citystate              189979 non-null  object \n",
      " 10  geo_fips_code                    188667 non-null  float64\n",
      " 11  value                            189979 non-null  float64\n",
      " 12  date_label                       189979 non-null  int64  \n",
      " 13  geo_label_proxy_or_real          189979 non-null  object \n",
      " 14  geo_label_proxy_footnote         16804 non-null   object \n",
      " 15  geo_fips_desc                    189979 non-null  object \n",
      " 16  date_label_proxy_or_real         189979 non-null  object \n",
      " 17  date_label_proxy_footnote        54759 non-null   object \n",
      " 18  value_ci_flag_yesno              189979 non-null  object \n",
      " 19  value_95_ci_low                  118670 non-null  float64\n",
      " 20  value_95_ci_high                 118682 non-null  float64\n",
      " 21  value_90_ci_low                  0 non-null       float64\n",
      " 22  value_90_ci_high                 0 non-null       float64\n",
      " 23  geo_strata_region                188667 non-null  object \n",
      " 24  geo_strata_poverty               188667 non-null  object \n",
      " 25  geo_strata_Population            188667 non-null  object \n",
      " 26  geo_strata_PopDensity            188667 non-null  object \n",
      " 27  geo_strata_Segregation           188667 non-null  object \n",
      " 28  strata_race_label                189979 non-null  object \n",
      " 29  strata_sex_label                 189979 non-null  object \n",
      " 30  strata_race_sex_label            46662 non-null   object \n",
      "dtypes: float64(6), int64(1), object(24)\n",
      "memory usage: 44.9+ MB\n"
     ]
    }
   ],
   "source": [
    "file_path = os.path.join(DATASET_DIR,dir_name,file_name)\n",
    "df = pd.read_csv(file_path)\n",
    "\n",
    "df.info()"
   ]
  },
  {
   "cell_type": "code",
   "execution_count": 5,
   "metadata": {},
   "outputs": [],
   "source": [
    "df[\"metric_label\"] = df[\"metric_subcat_label\"]+' | '+df[\"metric_item_label\"] "
   ]
  },
  {
   "cell_type": "code",
   "execution_count": 9,
   "metadata": {},
   "outputs": [],
   "source": [
    "cond0 = df['geo_label_city'] == 'U.S. Total'\n",
    "\n",
    "df_US = df.loc[cond0].copy()\n",
    "df_city = df.loc[~cond0].copy()\n",
    "\n",
    "# display(df_US.info())\n",
    "# display(df_city.info())"
   ]
  },
  {
   "cell_type": "code",
   "execution_count": 7,
   "metadata": {},
   "outputs": [
    {
     "data": {
      "text/plain": [
       "(0, 70183, 70183)"
      ]
     },
     "execution_count": 7,
     "metadata": {},
     "output_type": "execute_result"
    }
   ],
   "source": [
    "col_list = ['value_95_ci_low',\n",
    " 'value_95_ci_high']\n",
    "\n",
    "#전부다 없는 경우\n",
    "cond1 = df_city[col_list].isna().all(axis=1)\n",
    "\n",
    "# flag = no 인 경우\n",
    "cond2 = df_city['value_ci_flag_yesno'] == 'no'\n",
    "\n",
    "np.sum(cond1 != cond2), np.sum(cond1), np.sum(cond2)"
   ]
  },
  {
   "cell_type": "code",
   "execution_count": 10,
   "metadata": {},
   "outputs": [
    {
     "name": "stdout",
     "output_type": "stream",
     "text": [
      "Births | Low Birthweight                                                         :       2275\n",
      "Births | Prenatal Care                                                           :       2185\n",
      "Births | Preterm Births                                                          :       1225\n",
      "Births | Teen Births                                                             :       2235\n",
      "Cancer | All Cancer Deaths                                                       :       6220\n",
      "Cancer | Breast Cancer Deaths                                                    :       1773\n",
      "Cancer | Colorectal Cancer Deaths                                                :       5044\n",
      "Cancer | Lung Cancer Deaths                                                      :       5475\n",
      "Cancer | Prostate Cancer Deaths                                                  :       1713\n",
      "Cardiovascular Disease | Cardiovascular Disease Deaths                           :       6182\n",
      "Cardiovascular Disease | Heart Disease Deaths                                    :       6125\n",
      "Cardiovascular Disease | High Blood Pressure                                     :        455\n",
      "Crime Incidents | Homicides                                                      :       4740\n",
      "Deaths | Deaths from All Causes                                                  :       6231\n",
      "Deaths | Gun Deaths (Firearms)                                                   :       4904\n",
      "Deaths | Infant Deaths                                                           :       1470\n",
      "Deaths | Injury Deaths                                                           :       6392\n",
      "Deaths | Maternal Deaths                                                         :       1001\n",
      "Deaths | Motor Vehicle Deaths                                                    :       5112\n",
      "Deaths | Premature Death                                                         :       6825\n",
      "Diabetes and Obesity | Adult Obesity                                             :        455\n",
      "Diabetes and Obesity | Diabetes                                                  :        455\n",
      "Diabetes and Obesity | Diabetes Deaths                                           :       5476\n",
      "Mental Health | Adult Mental Distress                                            :        455\n",
      "Mental Health | Suicide                                                          :       5137\n",
      "Oral Health | Dental Care                                                        :        455\n",
      "Physical Activity | Adult Physical Inactivity                                    :        455\n",
      "Respiratory Infection | COVID-19 Deaths                                          :       1396\n",
      "Respiratory Infection | Pneumonia or Influenza Deaths                            :       4827\n",
      "Sexually Transmitted Disease | HIV-Related Deaths                                :       3368\n",
      "Substance Use | Adult Binge Drinking                                             :        455\n",
      "Substance Use | Adult Smoking                                                    :        455\n",
      "Substance Use | Drug Overdose Deaths                                             :       5450\n",
      "Substance Use | Opioid Overdose Deaths                                           :       4814\n"
     ]
    }
   ],
   "source": [
    "#모든 레코드에 대해 CI 있는\n",
    "metric_w_ci = set(df_city.loc[~cond1,'metric_label'].unique()) # 최소 한개에 대해 CI 있는\n",
    "metric_wo_ci = set(df_city.loc[cond1,'metric_label'].unique()) # CI 없는\n",
    "\n",
    "metirc_full_ci = sorted(list(metric_w_ci.difference(metric_wo_ci)))\n",
    "\n",
    "for col in metirc_full_ci:\n",
    "    cond = df_city['metric_label'] == col\n",
    "    print(col.ljust(75),f\"     : {np.sum(cond):>10}\")"
   ]
  },
  {
   "cell_type": "code",
   "execution_count": null,
   "metadata": {},
   "outputs": [],
   "source": []
  }
 ],
 "metadata": {
  "kernelspec": {
   "display_name": "Python 3",
   "language": "python",
   "name": "python3"
  },
  "language_info": {
   "codemirror_mode": {
    "name": "ipython",
    "version": 3
   },
   "file_extension": ".py",
   "mimetype": "text/x-python",
   "name": "python",
   "nbconvert_exporter": "python",
   "pygments_lexer": "ipython3",
   "version": "3.8.15"
  }
 },
 "nbformat": 4,
 "nbformat_minor": 2
}
