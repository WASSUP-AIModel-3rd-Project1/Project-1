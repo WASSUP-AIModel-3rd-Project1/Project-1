{
 "cells": [
  {
   "cell_type": "code",
   "execution_count": 1,
   "metadata": {},
   "outputs": [],
   "source": [
    "import pandas as pd\n",
    "import numpy as np\n",
    "import os"
   ]
  },
  {
   "cell_type": "code",
   "execution_count": 2,
   "metadata": {},
   "outputs": [],
   "source": [
    "DATASET_DIR = '/home/doeun/code/AI/ESTSOFT2024/workspace/dataset/'\n",
    "dir_name = 'america_big_cities_health_inventory'\n",
    "file_name = 'BigCitiesHealth.csv'"
   ]
  },
  {
   "cell_type": "code",
   "execution_count": 3,
   "metadata": {},
   "outputs": [
    {
     "name": "stderr",
     "output_type": "stream",
     "text": [
      "/tmp/ipykernel_139564/664991473.py:2: DtypeWarning: Columns (30) have mixed types. Specify dtype option on import or set low_memory=False.\n",
      "  df = pd.read_csv(file_path)\n"
     ]
    },
    {
     "name": "stdout",
     "output_type": "stream",
     "text": [
      "<class 'pandas.core.frame.DataFrame'>\n",
      "RangeIndex: 189979 entries, 0 to 189978\n",
      "Data columns (total 31 columns):\n",
      " #   Column                           Non-Null Count   Dtype  \n",
      "---  ------                           --------------   -----  \n",
      " 0   metric_item_label                189979 non-null  object \n",
      " 1   metric_cat_label                 189979 non-null  object \n",
      " 2   metric_subcat_label              189979 non-null  object \n",
      " 3   metric_item_label_subtitle       189979 non-null  object \n",
      " 4   metric_cat_item_yaxis_label      189979 non-null  object \n",
      " 5   metric_source_desc_label_fn      189979 non-null  object \n",
      " 6   metric_source_desc_label_url_fn  189979 non-null  object \n",
      " 7   geo_label_city                   189979 non-null  object \n",
      " 8   geo_label_state                  188667 non-null  object \n",
      " 9   geo_label_citystate              189979 non-null  object \n",
      " 10  geo_fips_code                    188667 non-null  float64\n",
      " 11  value                            189979 non-null  float64\n",
      " 12  date_label                       189979 non-null  int64  \n",
      " 13  geo_label_proxy_or_real          189979 non-null  object \n",
      " 14  geo_label_proxy_footnote         16804 non-null   object \n",
      " 15  geo_fips_desc                    189979 non-null  object \n",
      " 16  date_label_proxy_or_real         189979 non-null  object \n",
      " 17  date_label_proxy_footnote        54759 non-null   object \n",
      " 18  value_ci_flag_yesno              189979 non-null  object \n",
      " 19  value_95_ci_low                  118670 non-null  float64\n",
      " 20  value_95_ci_high                 118682 non-null  float64\n",
      " 21  value_90_ci_low                  0 non-null       float64\n",
      " 22  value_90_ci_high                 0 non-null       float64\n",
      " 23  geo_strata_region                188667 non-null  object \n",
      " 24  geo_strata_poverty               188667 non-null  object \n",
      " 25  geo_strata_Population            188666 non-null  object \n",
      " 26  geo_strata_PopDensity            188667 non-null  object \n",
      " 27  geo_strata_Segregation           188667 non-null  object \n",
      " 28  strata_race_label                189979 non-null  object \n",
      " 29  strata_sex_label                 189979 non-null  object \n",
      " 30  strata_race_sex_label            46662 non-null   object \n",
      "dtypes: float64(6), int64(1), object(24)\n",
      "memory usage: 44.9+ MB\n"
     ]
    }
   ],
   "source": [
    "file_path = os.path.join(DATASET_DIR,dir_name,file_name)\n",
    "df = pd.read_csv(file_path)\n",
    "\n",
    "df.info()"
   ]
  },
  {
   "cell_type": "code",
   "execution_count": 4,
   "metadata": {},
   "outputs": [],
   "source": [
    "df[\"metric_label\"] = df[\"metric_subcat_label\"]+' | '+df[\"metric_item_label\"] "
   ]
  },
  {
   "cell_type": "code",
   "execution_count": 51,
   "metadata": {},
   "outputs": [
    {
     "data": {
      "text/plain": [
       "metric_label\n",
       "Deaths | Premature Death                                  6825\n",
       "Deaths | Injury Deaths                                    6405\n",
       "Deaths | Deaths from All Causes                           6244\n",
       "Cancer | All Cancer Deaths                                6233\n",
       "Cardiovascular Disease | Cardiovascular Disease Deaths    6195\n",
       "                                                          ... \n",
       "Housing | Homeless, Total                                  266\n",
       "Housing | Vacant Housing and Homelessness                  266\n",
       "Housing | Homeless, Children                               256\n",
       "Respiratory Infection | COVID-19 Vaccination, Adults        70\n",
       "Respiratory Infection | COVID-19 Vaccination, Seniors       70\n",
       "Name: count, Length: 118, dtype: int64"
      ]
     },
     "execution_count": 51,
     "metadata": {},
     "output_type": "execute_result"
    }
   ],
   "source": [
    "df[\"metric_label\"].value_counts()"
   ]
  },
  {
   "cell_type": "markdown",
   "metadata": {},
   "source": [
    "1. race/sex stratified 된 데이터 체크"
   ]
  },
  {
   "cell_type": "code",
   "execution_count": 5,
   "metadata": {},
   "outputs": [
    {
     "data": {
      "text/plain": [
       "['geo_strata_region',\n",
       " 'geo_strata_poverty',\n",
       " 'geo_strata_Population',\n",
       " 'geo_strata_PopDensity',\n",
       " 'geo_strata_Segregation',\n",
       " 'strata_race_label',\n",
       " 'strata_sex_label',\n",
       " 'strata_race_sex_label']"
      ]
     },
     "execution_count": 5,
     "metadata": {},
     "output_type": "execute_result"
    }
   ],
   "source": [
    "list(filter(lambda x: 'strata' in x,df.columns))"
   ]
  },
  {
   "cell_type": "code",
   "execution_count": 6,
   "metadata": {},
   "outputs": [
    {
     "data": {
      "text/plain": [
       "geo_strata_region\n",
       "West         66810\n",
       "South        62748\n",
       "Midwest      40546\n",
       "Northeast    18563\n",
       "Name: count, dtype: int64"
      ]
     },
     "metadata": {},
     "output_type": "display_data"
    },
    {
     "data": {
      "text/plain": [
       "geo_strata_poverty\n",
       "Less poor cities (<18% poor)    141688\n",
       "Poorest cities (18%+ poor)       46979\n",
       "Name: count, dtype: int64"
      ]
     },
     "metadata": {},
     "output_type": "display_data"
    },
    {
     "data": {
      "text/plain": [
       "geo_strata_Population\n",
       "Smaller (<1.3 million)    134116\n",
       "Largest (>1.3 million)     54550\n",
       "Name: count, dtype: int64"
      ]
     },
     "metadata": {},
     "output_type": "display_data"
    },
    {
     "data": {
      "text/plain": [
       "geo_strata_PopDensity\n",
       "Lower pop. density (<10k per sq mi)      152508\n",
       "Highest pop. density (>10k per sq mi)     36158\n",
       "Smaller (<1.3 million)                        1\n",
       "Name: count, dtype: int64"
      ]
     },
     "metadata": {},
     "output_type": "display_data"
    },
    {
     "data": {
      "text/plain": [
       "geo_strata_Segregation\n",
       "Less Segregated (<50%)      104633\n",
       "Highly Segregated (50%+)     84034\n",
       "Name: count, dtype: int64"
      ]
     },
     "metadata": {},
     "output_type": "display_data"
    }
   ],
   "source": [
    "col_list = ['geo_strata_region',\n",
    " 'geo_strata_poverty',\n",
    " 'geo_strata_Population',\n",
    " 'geo_strata_PopDensity',\n",
    " 'geo_strata_Segregation']\n",
    "for col in col_list:\n",
    "    display(df[col].value_counts())"
   ]
  },
  {
   "cell_type": "code",
   "execution_count": 7,
   "metadata": {},
   "outputs": [
    {
     "data": {
      "text/plain": [
       "strata_race_label\n",
       "All                              66201\n",
       "White                            33779\n",
       "Black                            33286\n",
       "Hispanic                         28961\n",
       "Asian/PI                         14895\n",
       "Asian                             6568\n",
       "American Indian/Alaska Native     6289\n",
       "Name: count, dtype: int64"
      ]
     },
     "metadata": {},
     "output_type": "display_data"
    },
    {
     "data": {
      "text/plain": [
       "strata_sex_label\n",
       "Both      123865\n",
       "Male       35128\n",
       "Female     30986\n",
       "Name: count, dtype: int64"
      ]
     },
     "metadata": {},
     "output_type": "display_data"
    },
    {
     "data": {
      "text/plain": [
       "strata_race_sex_label\n",
       "White Male         7579\n",
       "Black Male         7502\n",
       "White Female       6814\n",
       "Black Female       6398\n",
       "Hispanic Male      6323\n",
       "Hispanic Female    4886\n",
       "Asian/PI Male      3892\n",
       "Asian/PI Female    3268\n",
       "Name: count, dtype: int64"
      ]
     },
     "metadata": {},
     "output_type": "display_data"
    }
   ],
   "source": [
    "col_list = ['strata_race_label',\n",
    " 'strata_sex_label',\n",
    " 'strata_race_sex_label']\n",
    "for col in col_list:\n",
    "    display(df[col].value_counts())"
   ]
  },
  {
   "cell_type": "code",
   "execution_count": 8,
   "metadata": {},
   "outputs": [
    {
     "data": {
      "text/plain": [
       "0"
      ]
     },
     "execution_count": 8,
     "metadata": {},
     "output_type": "execute_result"
    }
   ],
   "source": [
    "np.sum(df['strata_sex_label'].isna())"
   ]
  },
  {
   "cell_type": "code",
   "execution_count": 9,
   "metadata": {},
   "outputs": [
    {
     "data": {
      "text/plain": [
       "46749"
      ]
     },
     "execution_count": 9,
     "metadata": {},
     "output_type": "execute_result"
    }
   ],
   "source": [
    "cond1 = (df['strata_race_label'] == 'All') & (df['strata_sex_label'] == 'Both')\n",
    "np.sum(cond1)"
   ]
  },
  {
   "cell_type": "code",
   "execution_count": 10,
   "metadata": {},
   "outputs": [
    {
     "data": {
      "text/plain": [
       "strata_race_label\n",
       "All                              46749\n",
       "White                            19386\n",
       "Black                            19386\n",
       "Hispanic                         17752\n",
       "Asian/PI                          7735\n",
       "Asian                             6568\n",
       "American Indian/Alaska Native     6289\n",
       "Name: count, dtype: int64"
      ]
     },
     "metadata": {},
     "output_type": "display_data"
    }
   ],
   "source": [
    "cond0 =(df['strata_sex_label'] == 'Both')\n",
    "display(df.loc[cond0,'strata_race_label'].value_counts())"
   ]
  },
  {
   "cell_type": "code",
   "execution_count": 11,
   "metadata": {},
   "outputs": [
    {
     "data": {
      "text/plain": [
       "strata_sex_label\n",
       "Both      46749\n",
       "Male       9832\n",
       "Female     9620\n",
       "Name: count, dtype: int64"
      ]
     },
     "metadata": {},
     "output_type": "display_data"
    }
   ],
   "source": [
    "cond0 =(df['strata_race_label'] == 'All')\n",
    "display(df.loc[cond0,'strata_sex_label'].value_counts())"
   ]
  },
  {
   "cell_type": "code",
   "execution_count": 12,
   "metadata": {},
   "outputs": [
    {
     "data": {
      "text/plain": [
       "strata_race_label\n",
       "All                              66201\n",
       "White                            19386\n",
       "Black                            19386\n",
       "Hispanic                         17752\n",
       "Asian/PI                          7735\n",
       "Asian                             6568\n",
       "American Indian/Alaska Native     6289\n",
       "Name: count, dtype: int64"
      ]
     },
     "metadata": {},
     "output_type": "display_data"
    },
    {
     "data": {
      "text/plain": [
       "strata_sex_label\n",
       "Both      123865\n",
       "Male        9832\n",
       "Female      9620\n",
       "Name: count, dtype: int64"
      ]
     },
     "metadata": {},
     "output_type": "display_data"
    }
   ],
   "source": [
    "cond0 = (df['strata_race_sex_label'].isna())\n",
    "display(df.loc[cond0,'strata_race_label'].value_counts())\n",
    "display(df.loc[cond0,'strata_sex_label'].value_counts())"
   ]
  },
  {
   "cell_type": "code",
   "execution_count": 13,
   "metadata": {},
   "outputs": [
    {
     "data": {
      "text/plain": [
       "strata_race_sex_label  strata_race_label\n",
       "White Male             White                7579\n",
       "Black Male             Black                7502\n",
       "White Female           White                6814\n",
       "Black Female           Black                6398\n",
       "Hispanic Male          Hispanic             6323\n",
       "Hispanic Female        Hispanic             4886\n",
       "Asian/PI Male          Asian/PI             3892\n",
       "Asian/PI Female        Asian/PI             3268\n",
       "Name: count, dtype: int64"
      ]
     },
     "metadata": {},
     "output_type": "display_data"
    },
    {
     "data": {
      "text/plain": [
       "strata_race_sex_label  strata_sex_label\n",
       "White Male             Male                7579\n",
       "Black Male             Male                7502\n",
       "White Female           Female              6814\n",
       "Black Female           Female              6398\n",
       "Hispanic Male          Male                6323\n",
       "Hispanic Female        Female              4886\n",
       "Asian/PI Male          Male                3892\n",
       "Asian/PI Female        Female              3268\n",
       "Name: count, dtype: int64"
      ]
     },
     "metadata": {},
     "output_type": "display_data"
    }
   ],
   "source": [
    "cond0 = (~df['strata_race_sex_label'].isna())\n",
    "display(df.loc[cond0,['strata_race_sex_label','strata_race_label']].value_counts())\n",
    "display(df.loc[cond0,['strata_race_sex_label','strata_sex_label']].value_counts())"
   ]
  },
  {
   "cell_type": "markdown",
   "metadata": {},
   "source": [
    "2. geo_strata 관련 column들 확인"
   ]
  },
  {
   "cell_type": "code",
   "execution_count": 14,
   "metadata": {},
   "outputs": [
    {
     "data": {
      "text/plain": [
       "array(['Cleveland', 'Oakland', 'San Francisco', 'Long Beach', 'Dallas',\n",
       "       'Las Vegas', 'San Antonio', 'Columbus', 'Seattle', 'New York City',\n",
       "       'Tucson', 'Phoenix', 'Fort Worth', 'Indianapolis', 'Oklahoma City',\n",
       "       'San Diego', 'Houston', 'Boston', 'Philadelphia', 'Denver',\n",
       "       'Charlotte', 'Portland', 'Kansas City', 'Los Angeles',\n",
       "       'Washington', 'Detroit', 'Chicago', 'Milwaukee', 'San Jose',\n",
       "       'Austin', 'Memphis', 'Louisville', 'Baltimore', 'Minneapolis',\n",
       "       'El Paso', 'U.S. Total'], dtype=object)"
      ]
     },
     "execution_count": 14,
     "metadata": {},
     "output_type": "execute_result"
    }
   ],
   "source": [
    "df['geo_label_city'].unique()"
   ]
  },
  {
   "cell_type": "code",
   "execution_count": 15,
   "metadata": {},
   "outputs": [
    {
     "data": {
      "text/plain": [
       "geo_label_city  geo_strata_region  geo_strata_poverty            geo_strata_Population   geo_strata_PopDensity                  geo_strata_Segregation  \n",
       "New York City   Northeast          Less poor cities (<18% poor)  Largest (>1.3 million)  Highest pop. density (>10k per sq mi)  Highly Segregated (50%+)    6535\n",
       "Houston         South              Poorest cities (18%+ poor)    Largest (>1.3 million)  Lower pop. density (<10k per sq mi)    Highly Segregated (50%+)    6431\n",
       "Los Angeles     West               Less poor cities (<18% poor)  Largest (>1.3 million)  Lower pop. density (<10k per sq mi)    Highly Segregated (50%+)    6372\n",
       "Philadelphia    Northeast          Poorest cities (18%+ poor)    Largest (>1.3 million)  Highest pop. density (>10k per sq mi)  Highly Segregated (50%+)    6310\n",
       "San Diego       West               Less poor cities (<18% poor)  Largest (>1.3 million)  Lower pop. density (<10k per sq mi)    Less Segregated (<50%)      6251\n",
       "Chicago         Midwest            Less poor cities (<18% poor)  Largest (>1.3 million)  Highest pop. density (>10k per sq mi)  Highly Segregated (50%+)    6210\n",
       "San Francisco   West               Less poor cities (<18% poor)  Smaller (<1.3 million)  Highest pop. density (>10k per sq mi)  Less Segregated (<50%)      6121\n",
       "Las Vegas       West               Less poor cities (<18% poor)  Smaller (<1.3 million)  Lower pop. density (<10k per sq mi)    Less Segregated (<50%)      5848\n",
       "Boston          Northeast          Less poor cities (<18% poor)  Smaller (<1.3 million)  Highest pop. density (>10k per sq mi)  Highly Segregated (50%+)    5718\n",
       "Oakland         West               Less poor cities (<18% poor)  Smaller (<1.3 million)  Lower pop. density (<10k per sq mi)    Less Segregated (<50%)      5676\n",
       "Dallas          South              Less poor cities (<18% poor)  Largest (>1.3 million)  Lower pop. density (<10k per sq mi)    Highly Segregated (50%+)    5655\n",
       "Fort Worth      South              Less poor cities (<18% poor)  Smaller (<1.3 million)  Lower pop. density (<10k per sq mi)    Less Segregated (<50%)      5628\n",
       "Seattle         West               Less poor cities (<18% poor)  Smaller (<1.3 million)  Lower pop. density (<10k per sq mi)    Less Segregated (<50%)      5507\n",
       "Phoenix         West               Less poor cities (<18% poor)  Largest (>1.3 million)  Lower pop. density (<10k per sq mi)    Highly Segregated (50%+)    5437\n",
       "Charlotte       South              Less poor cities (<18% poor)  Smaller (<1.3 million)  Lower pop. density (<10k per sq mi)    Less Segregated (<50%)      5381\n",
       "San Antonio     South              Less poor cities (<18% poor)  Largest (>1.3 million)  Lower pop. density (<10k per sq mi)    Less Segregated (<50%)      5349\n",
       "Washington      South              Less poor cities (<18% poor)  Smaller (<1.3 million)  Highest pop. density (>10k per sq mi)  Highly Segregated (50%+)    5264\n",
       "Portland        West               Less poor cities (<18% poor)  Smaller (<1.3 million)  Lower pop. density (<10k per sq mi)    Less Segregated (<50%)      5219\n",
       "Long Beach      West               Less poor cities (<18% poor)  Smaller (<1.3 million)  Lower pop. density (<10k per sq mi)    Highly Segregated (50%+)    5215\n",
       "San Jose        West               Less poor cities (<18% poor)  Smaller (<1.3 million)  Lower pop. density (<10k per sq mi)    Less Segregated (<50%)      5206\n",
       "Austin          South              Less poor cities (<18% poor)  Smaller (<1.3 million)  Lower pop. density (<10k per sq mi)    Less Segregated (<50%)      5198\n",
       "Detroit         Midwest            Poorest cities (18%+ poor)    Smaller (<1.3 million)  Lower pop. density (<10k per sq mi)    Highly Segregated (50%+)    5160\n",
       "Denver          West               Less poor cities (<18% poor)  Smaller (<1.3 million)  Lower pop. density (<10k per sq mi)    Less Segregated (<50%)      5157\n",
       "Cleveland       Midwest            Poorest cities (18%+ poor)    Smaller (<1.3 million)  Lower pop. density (<10k per sq mi)    Highly Segregated (50%+)    5113\n",
       "Baltimore       South              Poorest cities (18%+ poor)    Smaller (<1.3 million)  Lower pop. density (<10k per sq mi)    Highly Segregated (50%+)    5101\n",
       "Oklahoma City   South              Less poor cities (<18% poor)  Smaller (<1.3 million)  Lower pop. density (<10k per sq mi)    Less Segregated (<50%)      5030\n",
       "Indianapolis    Midwest            Less poor cities (<18% poor)  Smaller (<1.3 million)  Lower pop. density (<10k per sq mi)    Less Segregated (<50%)      4916\n",
       "Columbus        Midwest            Less poor cities (<18% poor)  Smaller (<1.3 million)  Lower pop. density (<10k per sq mi)    Less Segregated (<50%)      4907\n",
       "Milwaukee       Midwest            Poorest cities (18%+ poor)    Smaller (<1.3 million)  Lower pop. density (<10k per sq mi)    Highly Segregated (50%+)    4881\n",
       "Kansas City     Midwest            Less poor cities (<18% poor)  Smaller (<1.3 million)  Lower pop. density (<10k per sq mi)    Less Segregated (<50%)      4848\n",
       "Tucson          West               Poorest cities (18%+ poor)    Smaller (<1.3 million)  Lower pop. density (<10k per sq mi)    Less Segregated (<50%)      4799\n",
       "Memphis         South              Poorest cities (18%+ poor)    Smaller (<1.3 million)  Lower pop. density (<10k per sq mi)    Highly Segregated (50%+)    4631\n",
       "El Paso         South              Poorest cities (18%+ poor)    Smaller (<1.3 million)  Lower pop. density (<10k per sq mi)    Less Segregated (<50%)      4553\n",
       "Louisville      South              Less poor cities (<18% poor)  Smaller (<1.3 million)  Lower pop. density (<10k per sq mi)    Less Segregated (<50%)      4527\n",
       "Minneapolis     Midwest            Less poor cities (<18% poor)  Smaller (<1.3 million)  Lower pop. density (<10k per sq mi)    Less Segregated (<50%)      4511\n",
       "Long Beach      West               Less poor cities (<18% poor)  Smaller (<1.3 million)  Smaller (<1.3 million)                 Highly Segregated (50%+)       1\n",
       "Name: count, dtype: int64"
      ]
     },
     "execution_count": 15,
     "metadata": {},
     "output_type": "execute_result"
    }
   ],
   "source": [
    "col_list = ['geo_strata_region',\n",
    " 'geo_strata_poverty',\n",
    " 'geo_strata_Population',\n",
    " 'geo_strata_PopDensity',\n",
    " 'geo_strata_Segregation']\n",
    "df[['geo_label_city']+col_list].value_counts()"
   ]
  },
  {
   "cell_type": "code",
   "execution_count": 16,
   "metadata": {},
   "outputs": [
    {
     "data": {
      "text/plain": [
       "(36, 36)"
      ]
     },
     "execution_count": 16,
     "metadata": {},
     "output_type": "execute_result"
    }
   ],
   "source": [
    "len(df[['geo_label_city']+col_list].value_counts()), len(df['geo_label_city'].value_counts())\n"
   ]
  },
  {
   "cell_type": "markdown",
   "metadata": {},
   "source": [
    "3. value_ci 관련 col 확인"
   ]
  },
  {
   "cell_type": "code",
   "execution_count": 17,
   "metadata": {},
   "outputs": [
    {
     "data": {
      "text/plain": [
       "value_ci_flag_yesno\n",
       "yes    118682\n",
       "no      71297\n",
       "Name: count, dtype: int64"
      ]
     },
     "execution_count": 17,
     "metadata": {},
     "output_type": "execute_result"
    }
   ],
   "source": [
    "df['value_ci_flag_yesno'].value_counts()"
   ]
  },
  {
   "cell_type": "code",
   "execution_count": 18,
   "metadata": {},
   "outputs": [
    {
     "data": {
      "text/plain": [
       "0"
      ]
     },
     "execution_count": 18,
     "metadata": {},
     "output_type": "execute_result"
    }
   ],
   "source": [
    "np.sum(df['value_ci_flag_yesno'].isna())"
   ]
  },
  {
   "cell_type": "code",
   "execution_count": 19,
   "metadata": {},
   "outputs": [
    {
     "data": {
      "text/plain": [
       "['geo_label_city',\n",
       " 'geo_label_citystate',\n",
       " 'value_ci_flag_yesno',\n",
       " 'value_95_ci_low',\n",
       " 'value_95_ci_high',\n",
       " 'value_90_ci_low',\n",
       " 'value_90_ci_high']"
      ]
     },
     "execution_count": 19,
     "metadata": {},
     "output_type": "execute_result"
    }
   ],
   "source": [
    "list(filter(lambda x: 'ci' in x,df.columns))"
   ]
  },
  {
   "cell_type": "code",
   "execution_count": 20,
   "metadata": {},
   "outputs": [
    {
     "data": {
      "text/html": [
       "<div>\n",
       "<style scoped>\n",
       "    .dataframe tbody tr th:only-of-type {\n",
       "        vertical-align: middle;\n",
       "    }\n",
       "\n",
       "    .dataframe tbody tr th {\n",
       "        vertical-align: top;\n",
       "    }\n",
       "\n",
       "    .dataframe thead th {\n",
       "        text-align: right;\n",
       "    }\n",
       "</style>\n",
       "<table border=\"1\" class=\"dataframe\">\n",
       "  <thead>\n",
       "    <tr style=\"text-align: right;\">\n",
       "      <th></th>\n",
       "      <th>value_ci_flag_yesno</th>\n",
       "      <th>value_95_ci_low</th>\n",
       "      <th>value_95_ci_high</th>\n",
       "      <th>value_90_ci_low</th>\n",
       "      <th>value_90_ci_high</th>\n",
       "    </tr>\n",
       "  </thead>\n",
       "  <tbody>\n",
       "    <tr>\n",
       "      <th>0</th>\n",
       "      <td>yes</td>\n",
       "      <td>195.006700</td>\n",
       "      <td>225.194591</td>\n",
       "      <td>NaN</td>\n",
       "      <td>NaN</td>\n",
       "    </tr>\n",
       "    <tr>\n",
       "      <th>1</th>\n",
       "      <td>yes</td>\n",
       "      <td>124.494012</td>\n",
       "      <td>211.553695</td>\n",
       "      <td>NaN</td>\n",
       "      <td>NaN</td>\n",
       "    </tr>\n",
       "    <tr>\n",
       "      <th>2</th>\n",
       "      <td>yes</td>\n",
       "      <td>92.047403</td>\n",
       "      <td>101.613187</td>\n",
       "      <td>NaN</td>\n",
       "      <td>NaN</td>\n",
       "    </tr>\n",
       "    <tr>\n",
       "      <th>3</th>\n",
       "      <td>yes</td>\n",
       "      <td>88.474786</td>\n",
       "      <td>122.786969</td>\n",
       "      <td>NaN</td>\n",
       "      <td>NaN</td>\n",
       "    </tr>\n",
       "    <tr>\n",
       "      <th>4</th>\n",
       "      <td>yes</td>\n",
       "      <td>275.648062</td>\n",
       "      <td>320.086062</td>\n",
       "      <td>NaN</td>\n",
       "      <td>NaN</td>\n",
       "    </tr>\n",
       "    <tr>\n",
       "      <th>...</th>\n",
       "      <td>...</td>\n",
       "      <td>...</td>\n",
       "      <td>...</td>\n",
       "      <td>...</td>\n",
       "      <td>...</td>\n",
       "    </tr>\n",
       "    <tr>\n",
       "      <th>189974</th>\n",
       "      <td>no</td>\n",
       "      <td>NaN</td>\n",
       "      <td>NaN</td>\n",
       "      <td>NaN</td>\n",
       "      <td>NaN</td>\n",
       "    </tr>\n",
       "    <tr>\n",
       "      <th>189975</th>\n",
       "      <td>no</td>\n",
       "      <td>NaN</td>\n",
       "      <td>NaN</td>\n",
       "      <td>NaN</td>\n",
       "      <td>NaN</td>\n",
       "    </tr>\n",
       "    <tr>\n",
       "      <th>189976</th>\n",
       "      <td>no</td>\n",
       "      <td>NaN</td>\n",
       "      <td>NaN</td>\n",
       "      <td>NaN</td>\n",
       "      <td>NaN</td>\n",
       "    </tr>\n",
       "    <tr>\n",
       "      <th>189977</th>\n",
       "      <td>no</td>\n",
       "      <td>NaN</td>\n",
       "      <td>NaN</td>\n",
       "      <td>NaN</td>\n",
       "      <td>NaN</td>\n",
       "    </tr>\n",
       "    <tr>\n",
       "      <th>189978</th>\n",
       "      <td>no</td>\n",
       "      <td>NaN</td>\n",
       "      <td>NaN</td>\n",
       "      <td>NaN</td>\n",
       "      <td>NaN</td>\n",
       "    </tr>\n",
       "  </tbody>\n",
       "</table>\n",
       "<p>189979 rows × 5 columns</p>\n",
       "</div>"
      ],
      "text/plain": [
       "       value_ci_flag_yesno  value_95_ci_low  value_95_ci_high  \\\n",
       "0                      yes       195.006700        225.194591   \n",
       "1                      yes       124.494012        211.553695   \n",
       "2                      yes        92.047403        101.613187   \n",
       "3                      yes        88.474786        122.786969   \n",
       "4                      yes       275.648062        320.086062   \n",
       "...                    ...              ...               ...   \n",
       "189974                  no              NaN               NaN   \n",
       "189975                  no              NaN               NaN   \n",
       "189976                  no              NaN               NaN   \n",
       "189977                  no              NaN               NaN   \n",
       "189978                  no              NaN               NaN   \n",
       "\n",
       "        value_90_ci_low  value_90_ci_high  \n",
       "0                   NaN               NaN  \n",
       "1                   NaN               NaN  \n",
       "2                   NaN               NaN  \n",
       "3                   NaN               NaN  \n",
       "4                   NaN               NaN  \n",
       "...                 ...               ...  \n",
       "189974              NaN               NaN  \n",
       "189975              NaN               NaN  \n",
       "189976              NaN               NaN  \n",
       "189977              NaN               NaN  \n",
       "189978              NaN               NaN  \n",
       "\n",
       "[189979 rows x 5 columns]"
      ]
     },
     "execution_count": 20,
     "metadata": {},
     "output_type": "execute_result"
    }
   ],
   "source": [
    "df[['value_ci_flag_yesno',\n",
    "    'value_95_ci_low',\n",
    " 'value_95_ci_high',\n",
    " 'value_90_ci_low',\n",
    " 'value_90_ci_high']]"
   ]
  },
  {
   "cell_type": "code",
   "execution_count": 21,
   "metadata": {},
   "outputs": [
    {
     "data": {
      "text/plain": [
       "(0, 71297, 71297)"
      ]
     },
     "execution_count": 21,
     "metadata": {},
     "output_type": "execute_result"
    }
   ],
   "source": [
    "col_list = ['value_95_ci_low',\n",
    " 'value_95_ci_high',\n",
    " 'value_90_ci_low',\n",
    " 'value_90_ci_high']\n",
    "\n",
    "cond1 = df[col_list].isna().all(axis=1)\n",
    "cond2 = df['value_ci_flag_yesno'] == 'no'\n",
    "\n",
    "np.sum(cond1 != cond2), np.sum(cond1), np.sum(cond2)"
   ]
  },
  {
   "cell_type": "code",
   "execution_count": 22,
   "metadata": {},
   "outputs": [
    {
     "data": {
      "text/plain": [
       "117"
      ]
     },
     "execution_count": 22,
     "metadata": {},
     "output_type": "execute_result"
    }
   ],
   "source": [
    "len(df.loc[cond1,'metric_label'].unique())"
   ]
  },
  {
   "cell_type": "code",
   "execution_count": 23,
   "metadata": {},
   "outputs": [
    {
     "data": {
      "text/plain": [
       "53"
      ]
     },
     "execution_count": 23,
     "metadata": {},
     "output_type": "execute_result"
    }
   ],
   "source": [
    "len(df.loc[~cond1,'metric_label'].unique())"
   ]
  },
  {
   "cell_type": "code",
   "execution_count": 24,
   "metadata": {},
   "outputs": [
    {
     "data": {
      "text/plain": [
       "metric_label\n",
       "Deaths | Premature Death                                  6825\n",
       "Deaths | Injury Deaths                                    6392\n",
       "Deaths | Deaths from All Causes                           6231\n",
       "Cancer | All Cancer Deaths                                6220\n",
       "Cardiovascular Disease | Cardiovascular Disease Deaths    6182\n",
       "Cardiovascular Disease | Heart Disease Deaths             6125\n",
       "Diabetes and Obesity | Diabetes Deaths                    5476\n",
       "Cancer | Lung Cancer Deaths                               5475\n",
       "Substance Use | Drug Overdose Deaths                      5450\n",
       "Mental Health | Suicide                                   5137\n",
       "Deaths | Motor Vehicle Deaths                             5112\n",
       "Cancer | Colorectal Cancer Deaths                         5044\n",
       "Deaths | Gun Deaths (Firearms)                            4904\n",
       "Respiratory Infection | Pneumonia or Influenza Deaths     4827\n",
       "Substance Use | Opioid Overdose Deaths                    4814\n",
       "Crime Incidents | Homicides                               4740\n",
       "Sexually Transmitted Disease | HIV-Related Deaths         3368\n",
       "Births | Low Birthweight                                  2275\n",
       "Births | Teen Births                                      2235\n",
       "Births | Prenatal Care                                    2185\n",
       "Cancer | Breast Cancer Deaths                             1773\n",
       "Cancer | Prostate Cancer Deaths                           1713\n",
       "Deaths | Infant Deaths                                    1470\n",
       "Respiratory Infection | COVID-19 Deaths                   1396\n",
       "Births | Preterm Births                                   1225\n",
       "Deaths | Maternal Deaths                                  1001\n",
       "Substance Use | Adult Smoking                              455\n",
       "Substance Use | Adult Binge Drinking                       455\n",
       "Mental Health | Adult Mental Distress                      455\n",
       "Diabetes and Obesity | Adult Obesity                       455\n",
       "Diabetes and Obesity | Diabetes                            455\n",
       "Oral Health | Dental Care                                  455\n",
       "Physical Activity | Adult Physical Inactivity              455\n",
       "Cardiovascular Disease | High Blood Pressure               455\n",
       "Substance Use | Teen Marijuana                             432\n",
       "Diabetes and Obesity | Teen Obesity                        429\n",
       "Substance Use | Teen Alcohol                               426\n",
       "Mental Health | School Bullying                            425\n",
       "Mental Health | Teen Mental Distress                       424\n",
       "Mental Health | Electronic Bullying                        424\n",
       "Physical Activity | Teen Physical Activity                 423\n",
       "Physical Activity | Teen Physical Inactivity               414\n",
       "Substance Use | Teen Smoking                               411\n",
       "Physical Activity | Teen TV Time                           410\n",
       "School Violence | Weapons in School                        393\n",
       "School Violence | Fighting in School                       392\n",
       "Physical Activity | Teen Computer Time                     384\n",
       "Respiratory Disease | Teen Asthma                          379\n",
       "Dietary Quality | Teen Soda                                377\n",
       "Mental Health | Teen Suicidal Ideation                     357\n",
       "Dietary Quality | Teen Breakfast                           343\n",
       "Physical Activity | Teen Physical Education                334\n",
       "Birth Control | Teen Birth Control                         270\n",
       "Name: count, dtype: int64"
      ]
     },
     "execution_count": 24,
     "metadata": {},
     "output_type": "execute_result"
    }
   ],
   "source": [
    "df.loc[~cond1,'metric_label'].value_counts()"
   ]
  },
  {
   "cell_type": "code",
   "execution_count": 25,
   "metadata": {},
   "outputs": [
    {
     "data": {
      "text/plain": [
       "{'Deaths | Premature Death'}"
      ]
     },
     "execution_count": 25,
     "metadata": {},
     "output_type": "execute_result"
    }
   ],
   "source": [
    "metric_w_ci = set(df.loc[~cond1,'metric_label'].unique())\n",
    "metric_wo_ci = set(df.loc[cond1,'metric_label'].unique())\n",
    "\n",
    "metric_w_ci.difference(metric_wo_ci)"
   ]
  },
  {
   "cell_type": "code",
   "execution_count": 26,
   "metadata": {},
   "outputs": [
    {
     "data": {
      "text/plain": [
       "(65, 117)"
      ]
     },
     "execution_count": 26,
     "metadata": {},
     "output_type": "execute_result"
    }
   ],
   "source": [
    "len(metric_wo_ci.difference(metric_w_ci)), len(metric_wo_ci)"
   ]
  },
  {
   "cell_type": "code",
   "execution_count": 48,
   "metadata": {},
   "outputs": [
    {
     "name": "stdout",
     "output_type": "stream",
     "text": [
      "Active Transportation | Riding Bike to Work                                      :        468\n",
      "Active Transportation | Walking to Work                                          :       2218\n",
      "Air Pollution | Hazardous Air Quality                                            :        467\n",
      "Air Pollution | Poor Air Quality                                                 :        467\n",
      "Crime Incidents | Violent Crime                                                  :        454\n",
      "Deaths | Police Killings                                                         :       1495\n",
      "Deaths | Racial Disparity in Police Killings                                     :        455\n",
      "Disability | People with Disabilities                                            :       2743\n",
      "Education | College Graduates                                                    :       2743\n",
      "Education | Preschool Enrollment                                                 :        468\n",
      "Food Access | Limited Supermarket Access                                         :        432\n",
      "Health Insurance | Uninsured, All Ages                                           :       2110\n",
      "Health Insurance | Uninsured, Child                                              :       2110\n",
      "Heat and Disasters | Climate-related  Disasters                                  :        468\n",
      "Heat and Disasters | Community Social Vulnerability to Climate Disasters         :        468\n",
      "Heat and Disasters | Longer Summers                                              :        455\n",
      "Heat and Disasters | Number of Heat Waves                                        :        455\n",
      "Housing | Homeless, Children                                                     :        256\n",
      "Housing | Homeless, Total                                                        :        266\n",
      "Housing | Owner Occupied Housing                                                 :       2743\n"
     ]
    }
   ],
   "source": [
    "metirc_null_ci = sorted(list(metric_wo_ci.difference(metric_w_ci)))\n",
    "\n",
    "for col in metirc_null_ci[:20]:\n",
    "    cond = df['metric_label'] == col\n",
    "    print(col.ljust(75),f\"     : {np.sum(cond):>10}\")"
   ]
  },
  {
   "cell_type": "code",
   "execution_count": 49,
   "metadata": {},
   "outputs": [
    {
     "name": "stdout",
     "output_type": "stream",
     "text": [
      "Housing | Renters vs. Owners                                                     :       2743\n",
      "Housing | Vacant Housing Units                                                   :        468\n",
      "Housing | Vacant Housing and Homelessness                                        :        266\n",
      "Income Inequality | Household Income Inequality                                  :        468\n",
      "Income Inequality | Income Inequality                                            :        468\n",
      "Income | Households with Higher-Incomes                                          :        468\n",
      "Income | Per-capita Household Income                                             :       2743\n",
      "Income | Poverty and Near Poverty in All Ages                                    :        468\n",
      "Income | Poverty in All Ages                                                     :       2743\n",
      "Income | Poverty in Children                                                     :       2743\n",
      "Income-related | Excessive Housing Cost                                          :        360\n",
      "Income-related | Public Assistance                                               :        468\n",
      "Income-related | Service Workers                                                 :       2743\n",
      "Income-related | Unemployment                                                    :       2743\n",
      "Language and Nativity | Foreign Born Population                                  :        468\n",
      "Language and Nativity | Primarily Speak Chinese                                  :        360\n",
      "Language and Nativity | Primarily Speak English                                  :        360\n",
      "Language and Nativity | Primarily Speak Spanish                                  :        360\n",
      "Lead Poisoning | Child Lead Levels 10+ mcg/dL                                    :        289\n",
      "Lead Poisoning | Child Lead Levels 5+ mcg/dL                                     :        366\n"
     ]
    }
   ],
   "source": [
    "for col in metirc_null_ci[20:40]:\n",
    "    cond = df['metric_label'] == col\n",
    "    print(col.ljust(75),f\"     : {np.sum(cond):>10}\")"
   ]
  },
  {
   "cell_type": "code",
   "execution_count": 50,
   "metadata": {},
   "outputs": [
    {
     "name": "stdout",
     "output_type": "stream",
     "text": [
      "Lead Poisoning | Child Lead Testing                                              :        361\n",
      "Lead Poisoning | Housing Lead Risk                                               :        468\n",
      "Life Expectancy at Birth | Life Expectancy                                       :       5004\n",
      "Population | Children                                                            :        468\n",
      "Population | Population Density                                                  :        455\n",
      "Population | Seniors                                                             :        468\n",
      "Population | Single-Parent Families                                              :       2218\n",
      "Race/Ethnicity | Minority Population                                             :        468\n",
      "Racial Segregation Indices | Racial Segregation, White and Asian                 :        468\n",
      "Racial Segregation Indices | Racial Segregation, White and Black                 :        468\n",
      "Racial Segregation Indices | Racial Segregation, White and Hispanic              :        468\n",
      "Racial Segregation Indices | Racial Segregation, White and Non-White             :        468\n",
      "Respiratory Infection | COVID-19 Vaccination, Adults                             :         70\n",
      "Respiratory Infection | COVID-19 Vaccination, Seniors                            :         70\n",
      "Respiratory Infection | Flu Vaccinations, Medicare                               :       2008\n",
      "Respiratory Infection | New Tuberculosis Cases                                   :        468\n",
      "Sexually Transmitted Disease | HIV/AIDS Prevalence                               :       2909\n",
      "Sexually Transmitted Disease | New Chlamydia Cases                               :        465\n",
      "Sexually Transmitted Disease | New Gonorrhea Cases                               :        465\n",
      "Sexually Transmitted Disease | Syphilis Prevalence                               :        465\n",
      "Sexually Transmitted Disease | Syphilis, Newborns                                :        468\n",
      "Transportation | Drives Alone to Work                                            :       2218\n",
      "Transportation | Lack of Car                                                     :        468\n",
      "Transportation | Longer Driving Commute Time                                     :        360\n",
      "Transportation | Public Transportation Use                                       :       2218\n"
     ]
    }
   ],
   "source": [
    "for col in metirc_null_ci[40:]:\n",
    "    cond = df['metric_label'] == col\n",
    "    print(col.ljust(75),f\"     : {np.sum(cond):>10}\")"
   ]
  },
  {
   "cell_type": "code",
   "execution_count": null,
   "metadata": {},
   "outputs": [],
   "source": []
  }
 ],
 "metadata": {
  "kernelspec": {
   "display_name": "EST_NA",
   "language": "python",
   "name": "python3"
  },
  "language_info": {
   "codemirror_mode": {
    "name": "ipython",
    "version": 3
   },
   "file_extension": ".py",
   "mimetype": "text/x-python",
   "name": "python",
   "nbconvert_exporter": "python",
   "pygments_lexer": "ipython3",
   "version": "3.8.12"
  },
  "orig_nbformat": 4
 },
 "nbformat": 4,
 "nbformat_minor": 2
}
