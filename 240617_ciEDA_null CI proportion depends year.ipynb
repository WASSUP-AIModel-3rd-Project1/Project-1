{
 "cells": [
  {
   "cell_type": "code",
   "execution_count": 1,
   "metadata": {},
   "outputs": [],
   "source": [
    "import pandas as pd\n",
    "import numpy as np\n",
    "import os"
   ]
  },
  {
   "cell_type": "code",
   "execution_count": 2,
   "metadata": {},
   "outputs": [],
   "source": [
    "DATASET_DIR = ''\n",
    "dir_name = './'\n",
    "file_name = 'BigCitiesHealth.csv'"
   ]
  },
  {
   "cell_type": "code",
   "execution_count": 6,
   "metadata": {},
   "outputs": [
    {
     "name": "stdout",
     "output_type": "stream",
     "text": [
      "<class 'pandas.core.frame.DataFrame'>\n",
      "RangeIndex: 56353 entries, 0 to 56352\n",
      "Data columns (total 31 columns):\n",
      " #   Column                           Non-Null Count  Dtype  \n",
      "---  ------                           --------------  -----  \n",
      " 0   metric_item_label                56353 non-null  object \n",
      " 1   metric_cat_label                 56353 non-null  object \n",
      " 2   metric_subcat_label              56352 non-null  object \n",
      " 3   metric_item_label_subtitle       56352 non-null  object \n",
      " 4   metric_cat_item_yaxis_label      56352 non-null  object \n",
      " 5   metric_source_desc_label_fn      56352 non-null  object \n",
      " 6   metric_source_desc_label_url_fn  56352 non-null  object \n",
      " 7   geo_label_city                   56352 non-null  object \n",
      " 8   geo_label_state                  56071 non-null  object \n",
      " 9   geo_label_citystate              56352 non-null  object \n",
      " 10  geo_fips_code                    56071 non-null  float64\n",
      " 11  value                            56352 non-null  float64\n",
      " 12  date_label                       56352 non-null  float64\n",
      " 13  geo_label_proxy_or_real          56352 non-null  object \n",
      " 14  geo_label_proxy_footnote         7244 non-null   object \n",
      " 15  geo_fips_desc                    56352 non-null  object \n",
      " 16  date_label_proxy_or_real         56352 non-null  object \n",
      " 17  date_label_proxy_footnote        4866 non-null   object \n",
      " 18  value_ci_flag_yesno              56352 non-null  object \n",
      " 19  value_95_ci_low                  52175 non-null  float64\n",
      " 20  value_95_ci_high                 52187 non-null  float64\n",
      " 21  value_90_ci_low                  0 non-null      float64\n",
      " 22  value_90_ci_high                 0 non-null      float64\n",
      " 23  geo_strata_region                56071 non-null  object \n",
      " 24  geo_strata_poverty               56071 non-null  object \n",
      " 25  geo_strata_Population            56071 non-null  object \n",
      " 26  geo_strata_PopDensity            56071 non-null  object \n",
      " 27  geo_strata_Segregation           56071 non-null  object \n",
      " 28  strata_race_label                56352 non-null  object \n",
      " 29  strata_sex_label                 56352 non-null  object \n",
      " 30  strata_race_sex_label            22174 non-null  object \n",
      "dtypes: float64(7), object(24)\n",
      "memory usage: 13.3+ MB\n"
     ]
    }
   ],
   "source": [
    "file_path = os.path.join(DATASET_DIR,dir_name,file_name)\n",
    "df = pd.read_csv(file_path)\n",
    "\n",
    "df.info()"
   ]
  },
  {
   "cell_type": "code",
   "execution_count": 7,
   "metadata": {},
   "outputs": [],
   "source": [
    "df[\"metric_label\"] = df[\"metric_subcat_label\"]+' | '+df[\"metric_item_label\"] "
   ]
  },
  {
   "cell_type": "code",
   "execution_count": 8,
   "metadata": {},
   "outputs": [
    {
     "data": {
      "text/plain": [
       "metric_label\n",
       "Deaths | Deaths from All Causes                           6244\n",
       "Cancer | All Cancer Deaths                                6233\n",
       "Cardiovascular Disease | Cardiovascular Disease Deaths    6195\n",
       "Cardiovascular Disease | Heart Disease Deaths             6138\n",
       "Diabetes and Obesity | Diabetes Deaths                    5489\n",
       "Cancer | Lung Cancer Deaths                               5488\n",
       "Cancer | Colorectal Cancer Deaths                         5057\n",
       "Disability | People with Disabilities                     2743\n",
       "Deaths | Premature Death                                  2635\n",
       "Cancer | Breast Cancer Deaths                             1786\n",
       "Cancer | Prostate Cancer Deaths                           1726\n",
       "Diabetes and Obesity | Teen Obesity                        571\n",
       "Physical Activity | Teen Physical Activity                 566\n",
       "Physical Activity | Teen TV Time                           555\n",
       "Physical Activity | Teen Physical Inactivity               549\n",
       "Physical Activity | Teen Computer Time                     529\n",
       "Dietary Quality | Teen Soda                                518\n",
       "Respiratory Disease | Teen Asthma                          517\n",
       "Dietary Quality | Teen Breakfast                           486\n",
       "Cardiovascular Disease | High Blood Pressure               468\n",
       "Diabetes and Obesity | Diabetes                            468\n",
       "Diabetes and Obesity | Adult Obesity                       468\n",
       "Physical Activity | Adult Physical Inactivity              468\n",
       "Physical Activity | Teen Physical Education                455\n",
       "Name: count, dtype: int64"
      ]
     },
     "execution_count": 8,
     "metadata": {},
     "output_type": "execute_result"
    }
   ],
   "source": [
    "df[\"metric_label\"].value_counts()"
   ]
  },
  {
   "cell_type": "markdown",
   "metadata": {},
   "source": [
    "1. race/sex stratified 된 데이터 체크"
   ]
  },
  {
   "cell_type": "code",
   "execution_count": 9,
   "metadata": {},
   "outputs": [
    {
     "data": {
      "text/plain": [
       "['geo_strata_region',\n",
       " 'geo_strata_poverty',\n",
       " 'geo_strata_Population',\n",
       " 'geo_strata_PopDensity',\n",
       " 'geo_strata_Segregation',\n",
       " 'strata_race_label',\n",
       " 'strata_sex_label',\n",
       " 'strata_race_sex_label']"
      ]
     },
     "execution_count": 9,
     "metadata": {},
     "output_type": "execute_result"
    }
   ],
   "source": [
    "#컬럼 이름에 층위가 들어간 컬럼만 따로 분리\n",
    "list(filter(lambda x: 'strata' in x,df.columns))"
   ]
  },
  {
   "cell_type": "code",
   "execution_count": 10,
   "metadata": {},
   "outputs": [
    {
     "data": {
      "text/plain": [
       "geo_strata_region\n",
       "West         20501\n",
       "South        18177\n",
       "Midwest      11460\n",
       "Northeast     5933\n",
       "Name: count, dtype: int64"
      ]
     },
     "metadata": {},
     "output_type": "display_data"
    },
    {
     "data": {
      "text/plain": [
       "geo_strata_poverty\n",
       "Less poor cities (<18% poor)    42668\n",
       "Poorest cities (18%+ poor)      13403\n",
       "Name: count, dtype: int64"
      ]
     },
     "metadata": {},
     "output_type": "display_data"
    },
    {
     "data": {
      "text/plain": [
       "geo_strata_Population\n",
       "Smaller (<1.3 million)    39155\n",
       "Largest (>1.3 million)    16916\n",
       "Name: count, dtype: int64"
      ]
     },
     "metadata": {},
     "output_type": "display_data"
    },
    {
     "data": {
      "text/plain": [
       "geo_strata_PopDensity\n",
       "Lower pop. density (<10k per sq mi)      44709\n",
       "Highest pop. density (>10k per sq mi)    11362\n",
       "Name: count, dtype: int64"
      ]
     },
     "metadata": {},
     "output_type": "display_data"
    },
    {
     "data": {
      "text/plain": [
       "geo_strata_Segregation\n",
       "Less Segregated (<50%)      30860\n",
       "Highly Segregated (50%+)    25211\n",
       "Name: count, dtype: int64"
      ]
     },
     "metadata": {},
     "output_type": "display_data"
    }
   ],
   "source": [
    "\n",
    "col_list = ['geo_strata_region',\n",
    " 'geo_strata_poverty',\n",
    " 'geo_strata_Population',\n",
    " 'geo_strata_PopDensity',\n",
    " 'geo_strata_Segregation']\n",
    "for col in col_list:\n",
    "    display(df[col].value_counts())"
   ]
  },
  {
   "cell_type": "code",
   "execution_count": 11,
   "metadata": {},
   "outputs": [
    {
     "data": {
      "text/plain": [
       "strata_race_label\n",
       "All                              15890\n",
       "White                            11207\n",
       "Black                            11084\n",
       "Hispanic                          9597\n",
       "Asian/PI                          7664\n",
       "Asian                              455\n",
       "American Indian/Alaska Native      455\n",
       "Name: count, dtype: int64"
      ]
     },
     "metadata": {},
     "output_type": "display_data"
    },
    {
     "data": {
      "text/plain": [
       "strata_sex_label\n",
       "Both      26732\n",
       "Male      15117\n",
       "Female    14503\n",
       "Name: count, dtype: int64"
      ]
     },
     "metadata": {},
     "output_type": "display_data"
    },
    {
     "data": {
      "text/plain": [
       "strata_race_sex_label\n",
       "Black Male         3280\n",
       "White Male         3142\n",
       "White Female       3080\n",
       "Black Female       2901\n",
       "Hispanic Male      2788\n",
       "Hispanic Female    2524\n",
       "Asian/PI Female    2275\n",
       "Asian/PI Male      2184\n",
       "Name: count, dtype: int64"
      ]
     },
     "metadata": {},
     "output_type": "display_data"
    }
   ],
   "source": [
    "col_list = ['strata_race_label',\n",
    " 'strata_sex_label',\n",
    " 'strata_race_sex_label']\n",
    "for col in col_list:\n",
    "    display(df[col].value_counts())"
   ]
  },
  {
   "cell_type": "code",
   "execution_count": 12,
   "metadata": {},
   "outputs": [
    {
     "data": {
      "text/plain": [
       "1"
      ]
     },
     "execution_count": 12,
     "metadata": {},
     "output_type": "execute_result"
    }
   ],
   "source": [
    "np.sum(df['strata_sex_label'].isna())"
   ]
  },
  {
   "cell_type": "code",
   "execution_count": 13,
   "metadata": {},
   "outputs": [
    {
     "data": {
      "text/plain": [
       "8444"
      ]
     },
     "execution_count": 13,
     "metadata": {},
     "output_type": "execute_result"
    }
   ],
   "source": [
    "cond1 = (df['strata_race_label'] == 'All') & (df['strata_sex_label'] == 'Both')\n",
    "np.sum(cond1)"
   ]
  },
  {
   "cell_type": "code",
   "execution_count": 14,
   "metadata": {},
   "outputs": [
    {
     "data": {
      "text/plain": [
       "strata_race_label\n",
       "All                              8444\n",
       "White                            4985\n",
       "Black                            4903\n",
       "Hispanic                         4285\n",
       "Asian/PI                         3205\n",
       "Asian                             455\n",
       "American Indian/Alaska Native     455\n",
       "Name: count, dtype: int64"
      ]
     },
     "metadata": {},
     "output_type": "display_data"
    }
   ],
   "source": [
    "cond0 =(df['strata_sex_label'] == 'Both')\n",
    "display(df.loc[cond0,'strata_race_label'].value_counts())"
   ]
  },
  {
   "cell_type": "code",
   "execution_count": 15,
   "metadata": {},
   "outputs": [
    {
     "data": {
      "text/plain": [
       "strata_sex_label\n",
       "Both      8444\n",
       "Female    3723\n",
       "Male      3723\n",
       "Name: count, dtype: int64"
      ]
     },
     "metadata": {},
     "output_type": "display_data"
    }
   ],
   "source": [
    "cond0 =(df['strata_race_label'] == 'All')\n",
    "display(df.loc[cond0,'strata_sex_label'].value_counts())"
   ]
  },
  {
   "cell_type": "code",
   "execution_count": 16,
   "metadata": {},
   "outputs": [
    {
     "data": {
      "text/plain": [
       "strata_race_label\n",
       "All                              15890\n",
       "White                             4985\n",
       "Black                             4903\n",
       "Hispanic                          4285\n",
       "Asian/PI                          3205\n",
       "Asian                              455\n",
       "American Indian/Alaska Native      455\n",
       "Name: count, dtype: int64"
      ]
     },
     "metadata": {},
     "output_type": "display_data"
    },
    {
     "data": {
      "text/plain": [
       "strata_sex_label\n",
       "Both      26732\n",
       "Female     3723\n",
       "Male       3723\n",
       "Name: count, dtype: int64"
      ]
     },
     "metadata": {},
     "output_type": "display_data"
    }
   ],
   "source": [
    "cond0 = (df['strata_race_sex_label'].isna())\n",
    "display(df.loc[cond0,'strata_race_label'].value_counts())\n",
    "display(df.loc[cond0,'strata_sex_label'].value_counts())"
   ]
  },
  {
   "cell_type": "code",
   "execution_count": 17,
   "metadata": {},
   "outputs": [
    {
     "data": {
      "text/plain": [
       "strata_race_sex_label  strata_race_label\n",
       "Black Male             Black                3280\n",
       "White Male             White                3142\n",
       "White Female           White                3080\n",
       "Black Female           Black                2901\n",
       "Hispanic Male          Hispanic             2788\n",
       "Hispanic Female        Hispanic             2524\n",
       "Asian/PI Female        Asian/PI             2275\n",
       "Asian/PI Male          Asian/PI             2184\n",
       "Name: count, dtype: int64"
      ]
     },
     "metadata": {},
     "output_type": "display_data"
    },
    {
     "data": {
      "text/plain": [
       "strata_race_sex_label  strata_sex_label\n",
       "Black Male             Male                3280\n",
       "White Male             Male                3142\n",
       "White Female           Female              3080\n",
       "Black Female           Female              2901\n",
       "Hispanic Male          Male                2788\n",
       "Hispanic Female        Female              2524\n",
       "Asian/PI Female        Female              2275\n",
       "Asian/PI Male          Male                2184\n",
       "Name: count, dtype: int64"
      ]
     },
     "metadata": {},
     "output_type": "display_data"
    }
   ],
   "source": [
    "cond0 = (~df['strata_race_sex_label'].isna())\n",
    "display(df.loc[cond0,['strata_race_sex_label','strata_race_label']].value_counts())\n",
    "display(df.loc[cond0,['strata_race_sex_label','strata_sex_label']].value_counts())"
   ]
  },
  {
   "cell_type": "markdown",
   "metadata": {},
   "source": [
    "2. geo_strata 관련 column들 확인"
   ]
  },
  {
   "cell_type": "code",
   "execution_count": 18,
   "metadata": {},
   "outputs": [
    {
     "data": {
      "text/plain": [
       "array(['Cleveland', 'Oakland', 'San Francisco', 'Long Beach', 'Dallas',\n",
       "       'Las Vegas', 'San Antonio', 'Columbus', 'Seattle', 'New York City',\n",
       "       'Tucson', 'Phoenix', 'Fort Worth', 'Indianapolis', 'Oklahoma City',\n",
       "       'San Diego', 'Houston', 'Boston', 'Philadelphia', 'Denver',\n",
       "       'Charlotte', 'Portland', 'Kansas City', 'Los Angeles',\n",
       "       'Washington', 'Detroit', 'Chicago', 'Milwaukee', 'San Jose',\n",
       "       'Austin', 'Memphis', 'Louisville', 'Baltimore', 'Minneapolis',\n",
       "       'El Paso', 'U.S. Total', nan], dtype=object)"
      ]
     },
     "execution_count": 18,
     "metadata": {},
     "output_type": "execute_result"
    }
   ],
   "source": [
    "df['geo_label_city'].unique()"
   ]
  },
  {
   "cell_type": "code",
   "execution_count": 19,
   "metadata": {},
   "outputs": [
    {
     "data": {
      "text/plain": [
       "geo_label_city  geo_strata_region  geo_strata_poverty            geo_strata_Population   geo_strata_PopDensity                  geo_strata_Segregation  \n",
       "San Diego       West               Less poor cities (<18% poor)  Largest (>1.3 million)  Lower pop. density (<10k per sq mi)    Less Segregated (<50%)      2031\n",
       "Philadelphia    Northeast          Poorest cities (18%+ poor)    Largest (>1.3 million)  Highest pop. density (>10k per sq mi)  Highly Segregated (50%+)    2029\n",
       "New York City   Northeast          Less poor cities (<18% poor)  Largest (>1.3 million)  Highest pop. density (>10k per sq mi)  Highly Segregated (50%+)    2024\n",
       "Houston         South              Poorest cities (18%+ poor)    Largest (>1.3 million)  Lower pop. density (<10k per sq mi)    Highly Segregated (50%+)    2013\n",
       "Los Angeles     West               Less poor cities (<18% poor)  Largest (>1.3 million)  Lower pop. density (<10k per sq mi)    Highly Segregated (50%+)    1967\n",
       "Chicago         Midwest            Less poor cities (<18% poor)  Largest (>1.3 million)  Highest pop. density (>10k per sq mi)  Highly Segregated (50%+)    1956\n",
       "San Francisco   West               Less poor cities (<18% poor)  Smaller (<1.3 million)  Highest pop. density (>10k per sq mi)  Less Segregated (<50%)      1914\n",
       "Boston          Northeast          Less poor cities (<18% poor)  Smaller (<1.3 million)  Highest pop. density (>10k per sq mi)  Highly Segregated (50%+)    1880\n",
       "Oakland         West               Less poor cities (<18% poor)  Smaller (<1.3 million)  Lower pop. density (<10k per sq mi)    Less Segregated (<50%)      1819\n",
       "Las Vegas       West               Less poor cities (<18% poor)  Smaller (<1.3 million)  Lower pop. density (<10k per sq mi)    Less Segregated (<50%)      1761\n",
       "Seattle         West               Less poor cities (<18% poor)  Smaller (<1.3 million)  Lower pop. density (<10k per sq mi)    Less Segregated (<50%)      1744\n",
       "Fort Worth      South              Less poor cities (<18% poor)  Smaller (<1.3 million)  Lower pop. density (<10k per sq mi)    Less Segregated (<50%)      1722\n",
       "Dallas          South              Less poor cities (<18% poor)  Largest (>1.3 million)  Lower pop. density (<10k per sq mi)    Highly Segregated (50%+)    1707\n",
       "Phoenix         West               Less poor cities (<18% poor)  Largest (>1.3 million)  Lower pop. density (<10k per sq mi)    Highly Segregated (50%+)    1626\n",
       "Long Beach      West               Less poor cities (<18% poor)  Smaller (<1.3 million)  Lower pop. density (<10k per sq mi)    Highly Segregated (50%+)    1616\n",
       "Portland        West               Less poor cities (<18% poor)  Smaller (<1.3 million)  Lower pop. density (<10k per sq mi)    Less Segregated (<50%)      1610\n",
       "Charlotte       South              Less poor cities (<18% poor)  Smaller (<1.3 million)  Lower pop. density (<10k per sq mi)    Less Segregated (<50%)      1602\n",
       "San Jose        West               Less poor cities (<18% poor)  Smaller (<1.3 million)  Lower pop. density (<10k per sq mi)    Less Segregated (<50%)      1584\n",
       "Austin          South              Less poor cities (<18% poor)  Smaller (<1.3 million)  Lower pop. density (<10k per sq mi)    Less Segregated (<50%)      1565\n",
       "San Antonio     South              Less poor cities (<18% poor)  Largest (>1.3 million)  Lower pop. density (<10k per sq mi)    Less Segregated (<50%)      1563\n",
       "Washington      South              Less poor cities (<18% poor)  Smaller (<1.3 million)  Highest pop. density (>10k per sq mi)  Highly Segregated (50%+)    1559\n",
       "Denver          West               Less poor cities (<18% poor)  Smaller (<1.3 million)  Lower pop. density (<10k per sq mi)    Less Segregated (<50%)      1544\n",
       "Baltimore       South              Poorest cities (18%+ poor)    Smaller (<1.3 million)  Lower pop. density (<10k per sq mi)    Highly Segregated (50%+)    1489\n",
       "Oklahoma City   South              Less poor cities (<18% poor)  Smaller (<1.3 million)  Lower pop. density (<10k per sq mi)    Less Segregated (<50%)      1456\n",
       "Detroit         Midwest            Poorest cities (18%+ poor)    Smaller (<1.3 million)  Lower pop. density (<10k per sq mi)    Highly Segregated (50%+)    1437\n",
       "Cleveland       Midwest            Poorest cities (18%+ poor)    Smaller (<1.3 million)  Lower pop. density (<10k per sq mi)    Highly Segregated (50%+)    1409\n",
       "Kansas City     Midwest            Less poor cities (<18% poor)  Smaller (<1.3 million)  Lower pop. density (<10k per sq mi)    Less Segregated (<50%)      1382\n",
       "Columbus        Midwest            Less poor cities (<18% poor)  Smaller (<1.3 million)  Lower pop. density (<10k per sq mi)    Less Segregated (<50%)      1375\n",
       "Indianapolis    Midwest            Less poor cities (<18% poor)  Smaller (<1.3 million)  Lower pop. density (<10k per sq mi)    Less Segregated (<50%)      1337\n",
       "Milwaukee       Midwest            Poorest cities (18%+ poor)    Smaller (<1.3 million)  Lower pop. density (<10k per sq mi)    Highly Segregated (50%+)    1322\n",
       "Tucson          West               Poorest cities (18%+ poor)    Smaller (<1.3 million)  Lower pop. density (<10k per sq mi)    Less Segregated (<50%)      1285\n",
       "Minneapolis     Midwest            Less poor cities (<18% poor)  Smaller (<1.3 million)  Lower pop. density (<10k per sq mi)    Less Segregated (<50%)      1242\n",
       "El Paso         South              Poorest cities (18%+ poor)    Smaller (<1.3 million)  Lower pop. density (<10k per sq mi)    Less Segregated (<50%)      1242\n",
       "Memphis         South              Poorest cities (18%+ poor)    Smaller (<1.3 million)  Lower pop. density (<10k per sq mi)    Highly Segregated (50%+)    1177\n",
       "Louisville      South              Less poor cities (<18% poor)  Smaller (<1.3 million)  Lower pop. density (<10k per sq mi)    Less Segregated (<50%)      1082\n",
       "Name: count, dtype: int64"
      ]
     },
     "execution_count": 19,
     "metadata": {},
     "output_type": "execute_result"
    }
   ],
   "source": [
    "col_list = ['geo_strata_region',\n",
    " 'geo_strata_poverty',\n",
    " 'geo_strata_Population',\n",
    " 'geo_strata_PopDensity',\n",
    " 'geo_strata_Segregation']\n",
    "df[['geo_label_city']+col_list].value_counts()"
   ]
  },
  {
   "cell_type": "code",
   "execution_count": 20,
   "metadata": {},
   "outputs": [
    {
     "data": {
      "text/plain": [
       "(35, 36)"
      ]
     },
     "execution_count": 20,
     "metadata": {},
     "output_type": "execute_result"
    }
   ],
   "source": [
    "len(df[['geo_label_city']+col_list].value_counts()), len(df['geo_label_city'].value_counts())\n"
   ]
  },
  {
   "cell_type": "markdown",
   "metadata": {},
   "source": [
    "3. value_ci 관련 col 확인"
   ]
  },
  {
   "cell_type": "code",
   "execution_count": 21,
   "metadata": {},
   "outputs": [
    {
     "data": {
      "text/plain": [
       "value_ci_flag_yesno\n",
       "yes    52187\n",
       "no      4165\n",
       "Name: count, dtype: int64"
      ]
     },
     "execution_count": 21,
     "metadata": {},
     "output_type": "execute_result"
    }
   ],
   "source": [
    "df['value_ci_flag_yesno'].value_counts()"
   ]
  },
  {
   "cell_type": "code",
   "execution_count": 22,
   "metadata": {},
   "outputs": [
    {
     "data": {
      "text/plain": [
       "1"
      ]
     },
     "execution_count": 22,
     "metadata": {},
     "output_type": "execute_result"
    }
   ],
   "source": [
    "np.sum(df['value_ci_flag_yesno'].isna())"
   ]
  },
  {
   "cell_type": "code",
   "execution_count": 23,
   "metadata": {},
   "outputs": [
    {
     "data": {
      "text/plain": [
       "['geo_label_city',\n",
       " 'geo_label_citystate',\n",
       " 'value_ci_flag_yesno',\n",
       " 'value_95_ci_low',\n",
       " 'value_95_ci_high',\n",
       " 'value_90_ci_low',\n",
       " 'value_90_ci_high']"
      ]
     },
     "execution_count": 23,
     "metadata": {},
     "output_type": "execute_result"
    }
   ],
   "source": [
    "list(filter(lambda x: 'ci' in x,df.columns))"
   ]
  },
  {
   "cell_type": "code",
   "execution_count": 24,
   "metadata": {},
   "outputs": [
    {
     "name": "stdout",
     "output_type": "stream",
     "text": [
      "<class 'pandas.core.frame.DataFrame'>\n",
      "RangeIndex: 56353 entries, 0 to 56352\n",
      "Data columns (total 1 columns):\n",
      " #   Column           Non-Null Count  Dtype  \n",
      "---  ------           --------------  -----  \n",
      " 0   value_90_ci_low  0 non-null      float64\n",
      "dtypes: float64(1)\n",
      "memory usage: 440.4 KB\n"
     ]
    }
   ],
   "source": [
    "df[['value_90_ci_low']].info()\n"
   ]
  },
  {
   "cell_type": "code",
   "execution_count": 25,
   "metadata": {},
   "outputs": [
    {
     "data": {
      "text/html": [
       "<div>\n",
       "<style scoped>\n",
       "    .dataframe tbody tr th:only-of-type {\n",
       "        vertical-align: middle;\n",
       "    }\n",
       "\n",
       "    .dataframe tbody tr th {\n",
       "        vertical-align: top;\n",
       "    }\n",
       "\n",
       "    .dataframe thead th {\n",
       "        text-align: right;\n",
       "    }\n",
       "</style>\n",
       "<table border=\"1\" class=\"dataframe\">\n",
       "  <thead>\n",
       "    <tr style=\"text-align: right;\">\n",
       "      <th></th>\n",
       "      <th>value_ci_flag_yesno</th>\n",
       "      <th>value_95_ci_low</th>\n",
       "      <th>value_95_ci_high</th>\n",
       "    </tr>\n",
       "  </thead>\n",
       "  <tbody>\n",
       "    <tr>\n",
       "      <th>0</th>\n",
       "      <td>yes</td>\n",
       "      <td>195.006700</td>\n",
       "      <td>225.194591</td>\n",
       "    </tr>\n",
       "    <tr>\n",
       "      <th>1</th>\n",
       "      <td>yes</td>\n",
       "      <td>124.494012</td>\n",
       "      <td>211.553695</td>\n",
       "    </tr>\n",
       "    <tr>\n",
       "      <th>2</th>\n",
       "      <td>yes</td>\n",
       "      <td>92.047403</td>\n",
       "      <td>101.613187</td>\n",
       "    </tr>\n",
       "    <tr>\n",
       "      <th>3</th>\n",
       "      <td>yes</td>\n",
       "      <td>88.474786</td>\n",
       "      <td>122.786969</td>\n",
       "    </tr>\n",
       "    <tr>\n",
       "      <th>4</th>\n",
       "      <td>yes</td>\n",
       "      <td>275.648062</td>\n",
       "      <td>320.086062</td>\n",
       "    </tr>\n",
       "    <tr>\n",
       "      <th>...</th>\n",
       "      <td>...</td>\n",
       "      <td>...</td>\n",
       "      <td>...</td>\n",
       "    </tr>\n",
       "    <tr>\n",
       "      <th>56348</th>\n",
       "      <td>yes</td>\n",
       "      <td>2031.187450</td>\n",
       "      <td>4311.444818</td>\n",
       "    </tr>\n",
       "    <tr>\n",
       "      <th>56349</th>\n",
       "      <td>yes</td>\n",
       "      <td>9788.924394</td>\n",
       "      <td>11408.198670</td>\n",
       "    </tr>\n",
       "    <tr>\n",
       "      <th>56350</th>\n",
       "      <td>yes</td>\n",
       "      <td>4502.881161</td>\n",
       "      <td>6035.752532</td>\n",
       "    </tr>\n",
       "    <tr>\n",
       "      <th>56351</th>\n",
       "      <td>yes</td>\n",
       "      <td>6882.495729</td>\n",
       "      <td>7719.182923</td>\n",
       "    </tr>\n",
       "    <tr>\n",
       "      <th>56352</th>\n",
       "      <td>NaN</td>\n",
       "      <td>NaN</td>\n",
       "      <td>NaN</td>\n",
       "    </tr>\n",
       "  </tbody>\n",
       "</table>\n",
       "<p>56353 rows × 3 columns</p>\n",
       "</div>"
      ],
      "text/plain": [
       "      value_ci_flag_yesno  value_95_ci_low  value_95_ci_high\n",
       "0                     yes       195.006700        225.194591\n",
       "1                     yes       124.494012        211.553695\n",
       "2                     yes        92.047403        101.613187\n",
       "3                     yes        88.474786        122.786969\n",
       "4                     yes       275.648062        320.086062\n",
       "...                   ...              ...               ...\n",
       "56348                 yes      2031.187450       4311.444818\n",
       "56349                 yes      9788.924394      11408.198670\n",
       "56350                 yes      4502.881161       6035.752532\n",
       "56351                 yes      6882.495729       7719.182923\n",
       "56352                 NaN              NaN               NaN\n",
       "\n",
       "[56353 rows x 3 columns]"
      ]
     },
     "execution_count": 25,
     "metadata": {},
     "output_type": "execute_result"
    }
   ],
   "source": [
    "df[['value_ci_flag_yesno',\n",
    "    'value_95_ci_low',\n",
    " 'value_95_ci_high']]"
   ]
  },
  {
   "cell_type": "code",
   "execution_count": 26,
   "metadata": {},
   "outputs": [
    {
     "data": {
      "text/plain": [
       "(12, 52175, 52187)"
      ]
     },
     "execution_count": 26,
     "metadata": {},
     "output_type": "execute_result"
    }
   ],
   "source": [
    "#flag = yes 일 경우 4가지 정보 모두 존재\n",
    "# no 일 경우 최소 1가지 이상 공백\n",
    "col_list = ['value_95_ci_low',\n",
    " 'value_95_ci_high']\n",
    "\n",
    "cond1 = df[col_list].isna().all(axis=1)\n",
    "cond2 = df['value_ci_flag_yesno'] == 'no'\n",
    "\n",
    "\n",
    "cond3 = df[col_list].isna().any(axis=1)\n",
    "cond4 = df['value_ci_flag_yesno'] == 'yes'\n",
    "\n",
    "# np.sum(cond1 != cond2), np.sum(cond1), np.sum(cond2)\n",
    "\n",
    "np.sum((~cond3) != cond4), np.sum(~cond3), np.sum(cond4)"
   ]
  },
  {
   "cell_type": "code",
   "execution_count": 27,
   "metadata": {},
   "outputs": [
    {
     "data": {
      "text/plain": [
       "24"
      ]
     },
     "execution_count": 27,
     "metadata": {},
     "output_type": "execute_result"
    }
   ],
   "source": [
    "len(df.loc[cond1,'metric_label'].unique())"
   ]
  },
  {
   "cell_type": "code",
   "execution_count": 28,
   "metadata": {},
   "outputs": [
    {
     "data": {
      "text/plain": [
       "23"
      ]
     },
     "execution_count": 28,
     "metadata": {},
     "output_type": "execute_result"
    }
   ],
   "source": [
    "# CI가 존재하는 컬럼 = 53개\n",
    "len(df.loc[~cond1,'metric_label'].unique())"
   ]
  },
  {
   "cell_type": "code",
   "execution_count": 29,
   "metadata": {},
   "outputs": [
    {
     "data": {
      "text/plain": [
       "metric_label\n",
       "Deaths | Deaths from All Causes                           6231\n",
       "Cancer | All Cancer Deaths                                6220\n",
       "Cardiovascular Disease | Cardiovascular Disease Deaths    6182\n",
       "Cardiovascular Disease | Heart Disease Deaths             6125\n",
       "Diabetes and Obesity | Diabetes Deaths                    5476\n",
       "Cancer | Lung Cancer Deaths                               5475\n",
       "Cancer | Colorectal Cancer Deaths                         5044\n",
       "Deaths | Premature Death                                  2635\n",
       "Cancer | Breast Cancer Deaths                             1773\n",
       "Cancer | Prostate Cancer Deaths                           1713\n",
       "Cardiovascular Disease | High Blood Pressure               455\n",
       "Diabetes and Obesity | Diabetes                            455\n",
       "Diabetes and Obesity | Adult Obesity                       455\n",
       "Physical Activity | Adult Physical Inactivity              455\n",
       "Diabetes and Obesity | Teen Obesity                        429\n",
       "Physical Activity | Teen Physical Activity                 423\n",
       "Physical Activity | Teen Physical Inactivity               414\n",
       "Physical Activity | Teen TV Time                           410\n",
       "Physical Activity | Teen Computer Time                     384\n",
       "Respiratory Disease | Teen Asthma                          379\n",
       "Dietary Quality | Teen Soda                                377\n",
       "Dietary Quality | Teen Breakfast                           343\n",
       "Physical Activity | Teen Physical Education                334\n",
       "Name: count, dtype: int64"
      ]
     },
     "execution_count": 29,
     "metadata": {},
     "output_type": "execute_result"
    }
   ],
   "source": [
    "df.loc[~cond1,'metric_label'].value_counts()"
   ]
  },
  {
   "cell_type": "code",
   "execution_count": 30,
   "metadata": {},
   "outputs": [
    {
     "data": {
      "text/html": [
       "<div>\n",
       "<style scoped>\n",
       "    .dataframe tbody tr th:only-of-type {\n",
       "        vertical-align: middle;\n",
       "    }\n",
       "\n",
       "    .dataframe tbody tr th {\n",
       "        vertical-align: top;\n",
       "    }\n",
       "\n",
       "    .dataframe thead th {\n",
       "        text-align: right;\n",
       "    }\n",
       "</style>\n",
       "<table border=\"1\" class=\"dataframe\">\n",
       "  <thead>\n",
       "    <tr style=\"text-align: right;\">\n",
       "      <th></th>\n",
       "      <th>value_95_ci_low</th>\n",
       "      <th>value_95_ci_high</th>\n",
       "    </tr>\n",
       "  </thead>\n",
       "  <tbody>\n",
       "    <tr>\n",
       "      <th>53717</th>\n",
       "      <td>12017.425830</td>\n",
       "      <td>15242.289810</td>\n",
       "    </tr>\n",
       "    <tr>\n",
       "      <th>53718</th>\n",
       "      <td>2826.211311</td>\n",
       "      <td>3559.397128</td>\n",
       "    </tr>\n",
       "    <tr>\n",
       "      <th>53719</th>\n",
       "      <td>3489.883205</td>\n",
       "      <td>4476.346755</td>\n",
       "    </tr>\n",
       "    <tr>\n",
       "      <th>53720</th>\n",
       "      <td>4595.894356</td>\n",
       "      <td>5792.166134</td>\n",
       "    </tr>\n",
       "    <tr>\n",
       "      <th>53721</th>\n",
       "      <td>2505.775241</td>\n",
       "      <td>5565.075217</td>\n",
       "    </tr>\n",
       "    <tr>\n",
       "      <th>...</th>\n",
       "      <td>...</td>\n",
       "      <td>...</td>\n",
       "    </tr>\n",
       "    <tr>\n",
       "      <th>56347</th>\n",
       "      <td>7128.376399</td>\n",
       "      <td>7892.535462</td>\n",
       "    </tr>\n",
       "    <tr>\n",
       "      <th>56348</th>\n",
       "      <td>2031.187450</td>\n",
       "      <td>4311.444818</td>\n",
       "    </tr>\n",
       "    <tr>\n",
       "      <th>56349</th>\n",
       "      <td>9788.924394</td>\n",
       "      <td>11408.198670</td>\n",
       "    </tr>\n",
       "    <tr>\n",
       "      <th>56350</th>\n",
       "      <td>4502.881161</td>\n",
       "      <td>6035.752532</td>\n",
       "    </tr>\n",
       "    <tr>\n",
       "      <th>56351</th>\n",
       "      <td>6882.495729</td>\n",
       "      <td>7719.182923</td>\n",
       "    </tr>\n",
       "  </tbody>\n",
       "</table>\n",
       "<p>2635 rows × 2 columns</p>\n",
       "</div>"
      ],
      "text/plain": [
       "       value_95_ci_low  value_95_ci_high\n",
       "53717     12017.425830      15242.289810\n",
       "53718      2826.211311       3559.397128\n",
       "53719      3489.883205       4476.346755\n",
       "53720      4595.894356       5792.166134\n",
       "53721      2505.775241       5565.075217\n",
       "...                ...               ...\n",
       "56347      7128.376399       7892.535462\n",
       "56348      2031.187450       4311.444818\n",
       "56349      9788.924394      11408.198670\n",
       "56350      4502.881161       6035.752532\n",
       "56351      6882.495729       7719.182923\n",
       "\n",
       "[2635 rows x 2 columns]"
      ]
     },
     "execution_count": 30,
     "metadata": {},
     "output_type": "execute_result"
    }
   ],
   "source": [
    "metric_w_ci = set(df.loc[~cond1,'metric_label'].unique())\n",
    "metric_wo_ci = set(df.loc[cond1,'metric_label'].unique())\n",
    "\n",
    "metric_w_ci.difference(metric_wo_ci)\n",
    "\n",
    "df[df['metric_label'] == 'Deaths | Premature Death'][col_list]"
   ]
  },
  {
   "cell_type": "code",
   "execution_count": 31,
   "metadata": {},
   "outputs": [
    {
     "data": {
      "text/plain": [
       "(2, 24)"
      ]
     },
     "execution_count": 31,
     "metadata": {},
     "output_type": "execute_result"
    }
   ],
   "source": [
    "len(metric_wo_ci.difference(metric_w_ci)), len(metric_wo_ci)"
   ]
  },
  {
   "cell_type": "code",
   "execution_count": 32,
   "metadata": {},
   "outputs": [
    {
     "ename": "TypeError",
     "evalue": "'<' not supported between instances of 'float' and 'str'",
     "output_type": "error",
     "traceback": [
      "\u001b[1;31m---------------------------------------------------------------------------\u001b[0m",
      "\u001b[1;31mTypeError\u001b[0m                                 Traceback (most recent call last)",
      "Cell \u001b[1;32mIn[32], line 1\u001b[0m\n\u001b[1;32m----> 1\u001b[0m metirc_null_ci \u001b[38;5;241m=\u001b[39m \u001b[38;5;28;43msorted\u001b[39;49m\u001b[43m(\u001b[49m\u001b[38;5;28;43mlist\u001b[39;49m\u001b[43m(\u001b[49m\u001b[43mmetric_wo_ci\u001b[49m\u001b[38;5;241;43m.\u001b[39;49m\u001b[43mdifference\u001b[49m\u001b[43m(\u001b[49m\u001b[43mmetric_w_ci\u001b[49m\u001b[43m)\u001b[49m\u001b[43m)\u001b[49m\u001b[43m)\u001b[49m\n\u001b[0;32m      3\u001b[0m \u001b[38;5;28;01mfor\u001b[39;00m col \u001b[38;5;129;01min\u001b[39;00m metirc_null_ci[:\u001b[38;5;241m20\u001b[39m]:\n\u001b[0;32m      4\u001b[0m     cond \u001b[38;5;241m=\u001b[39m df[\u001b[38;5;124m'\u001b[39m\u001b[38;5;124mmetric_label\u001b[39m\u001b[38;5;124m'\u001b[39m] \u001b[38;5;241m==\u001b[39m col\n",
      "\u001b[1;31mTypeError\u001b[0m: '<' not supported between instances of 'float' and 'str'"
     ]
    }
   ],
   "source": [
    "metirc_null_ci = sorted(list(metric_wo_ci.difference(metric_w_ci)))\n",
    "\n",
    "for col in metirc_null_ci[:20]:\n",
    "    cond = df['metric_label'] == col\n",
    "    print(col.ljust(75),f\"     : {np.sum(cond):>10}\")"
   ]
  },
  {
   "cell_type": "code",
   "execution_count": 33,
   "metadata": {},
   "outputs": [
    {
     "ename": "NameError",
     "evalue": "name 'metirc_null_ci' is not defined",
     "output_type": "error",
     "traceback": [
      "\u001b[1;31m---------------------------------------------------------------------------\u001b[0m",
      "\u001b[1;31mNameError\u001b[0m                                 Traceback (most recent call last)",
      "Cell \u001b[1;32mIn[33], line 1\u001b[0m\n\u001b[1;32m----> 1\u001b[0m \u001b[38;5;28;01mfor\u001b[39;00m col \u001b[38;5;129;01min\u001b[39;00m \u001b[43mmetirc_null_ci\u001b[49m[\u001b[38;5;241m20\u001b[39m:\u001b[38;5;241m40\u001b[39m]:\n\u001b[0;32m      2\u001b[0m     cond \u001b[38;5;241m=\u001b[39m df[\u001b[38;5;124m'\u001b[39m\u001b[38;5;124mmetric_label\u001b[39m\u001b[38;5;124m'\u001b[39m] \u001b[38;5;241m==\u001b[39m col\n\u001b[0;32m      3\u001b[0m     \u001b[38;5;28mprint\u001b[39m(col\u001b[38;5;241m.\u001b[39mljust(\u001b[38;5;241m75\u001b[39m),\u001b[38;5;124mf\u001b[39m\u001b[38;5;124m\"\u001b[39m\u001b[38;5;124m     : \u001b[39m\u001b[38;5;132;01m{\u001b[39;00mnp\u001b[38;5;241m.\u001b[39msum(cond)\u001b[38;5;132;01m:\u001b[39;00m\u001b[38;5;124m>10\u001b[39m\u001b[38;5;132;01m}\u001b[39;00m\u001b[38;5;124m\"\u001b[39m)\n",
      "\u001b[1;31mNameError\u001b[0m: name 'metirc_null_ci' is not defined"
     ]
    }
   ],
   "source": [
    "for col in metirc_null_ci[20:40]:\n",
    "    cond = df['metric_label'] == col\n",
    "    print(col.ljust(75),f\"     : {np.sum(cond):>10}\")"
   ]
  },
  {
   "cell_type": "code",
   "execution_count": 34,
   "metadata": {},
   "outputs": [
    {
     "ename": "NameError",
     "evalue": "name 'metirc_null_ci' is not defined",
     "output_type": "error",
     "traceback": [
      "\u001b[1;31m---------------------------------------------------------------------------\u001b[0m",
      "\u001b[1;31mNameError\u001b[0m                                 Traceback (most recent call last)",
      "Cell \u001b[1;32mIn[34], line 1\u001b[0m\n\u001b[1;32m----> 1\u001b[0m \u001b[38;5;28;01mfor\u001b[39;00m col \u001b[38;5;129;01min\u001b[39;00m \u001b[43mmetirc_null_ci\u001b[49m[\u001b[38;5;241m40\u001b[39m:]:\n\u001b[0;32m      2\u001b[0m     cond \u001b[38;5;241m=\u001b[39m df[\u001b[38;5;124m'\u001b[39m\u001b[38;5;124mmetric_label\u001b[39m\u001b[38;5;124m'\u001b[39m] \u001b[38;5;241m==\u001b[39m col\n\u001b[0;32m      3\u001b[0m     \u001b[38;5;28mprint\u001b[39m(col\u001b[38;5;241m.\u001b[39mljust(\u001b[38;5;241m75\u001b[39m),\u001b[38;5;124mf\u001b[39m\u001b[38;5;124m\"\u001b[39m\u001b[38;5;124m     : \u001b[39m\u001b[38;5;132;01m{\u001b[39;00mnp\u001b[38;5;241m.\u001b[39msum(cond)\u001b[38;5;132;01m:\u001b[39;00m\u001b[38;5;124m>10\u001b[39m\u001b[38;5;132;01m}\u001b[39;00m\u001b[38;5;124m\"\u001b[39m)\n",
      "\u001b[1;31mNameError\u001b[0m: name 'metirc_null_ci' is not defined"
     ]
    }
   ],
   "source": [
    "for col in metirc_null_ci[40:]:\n",
    "    cond = df['metric_label'] == col\n",
    "    print(col.ljust(75),f\"     : {np.sum(cond):>10}\")"
   ]
  },
  {
   "cell_type": "markdown",
   "metadata": {},
   "source": [
    "### U.S. Total 분리"
   ]
  },
  {
   "cell_type": "code",
   "execution_count": 35,
   "metadata": {},
   "outputs": [
    {
     "data": {
      "text/plain": [
       "geo_label_city\n",
       "San Diego        2031\n",
       "Philadelphia     2029\n",
       "New York City    2024\n",
       "Houston          2013\n",
       "Los Angeles      1967\n",
       "Chicago          1956\n",
       "San Francisco    1914\n",
       "Boston           1880\n",
       "Oakland          1819\n",
       "Las Vegas        1761\n",
       "Seattle          1744\n",
       "Fort Worth       1722\n",
       "Dallas           1707\n",
       "Phoenix          1626\n",
       "Long Beach       1616\n",
       "Portland         1610\n",
       "Charlotte        1602\n",
       "San Jose         1584\n",
       "Austin           1565\n",
       "San Antonio      1563\n",
       "Washington       1559\n",
       "Denver           1544\n",
       "Baltimore        1489\n",
       "Oklahoma City    1456\n",
       "Detroit          1437\n",
       "Cleveland        1409\n",
       "Kansas City      1382\n",
       "Columbus         1375\n",
       "Indianapolis     1337\n",
       "Milwaukee        1322\n",
       "Tucson           1285\n",
       "Minneapolis      1242\n",
       "El Paso          1242\n",
       "Memphis          1177\n",
       "Louisville       1082\n",
       "U.S. Total        281\n",
       "Name: count, dtype: int64"
      ]
     },
     "execution_count": 35,
     "metadata": {},
     "output_type": "execute_result"
    }
   ],
   "source": [
    "df['geo_label_city'].value_counts()"
   ]
  },
  {
   "cell_type": "code",
   "execution_count": 36,
   "metadata": {},
   "outputs": [
    {
     "name": "stdout",
     "output_type": "stream",
     "text": [
      "<class 'pandas.core.frame.DataFrame'>\n",
      "Index: 281 entries, 5718 to 53203\n",
      "Data columns (total 32 columns):\n",
      " #   Column                           Non-Null Count  Dtype  \n",
      "---  ------                           --------------  -----  \n",
      " 0   metric_item_label                281 non-null    object \n",
      " 1   metric_cat_label                 281 non-null    object \n",
      " 2   metric_subcat_label              281 non-null    object \n",
      " 3   metric_item_label_subtitle       281 non-null    object \n",
      " 4   metric_cat_item_yaxis_label      281 non-null    object \n",
      " 5   metric_source_desc_label_fn      281 non-null    object \n",
      " 6   metric_source_desc_label_url_fn  281 non-null    object \n",
      " 7   geo_label_city                   281 non-null    object \n",
      " 8   geo_label_state                  0 non-null      object \n",
      " 9   geo_label_citystate              281 non-null    object \n",
      " 10  geo_fips_code                    0 non-null      float64\n",
      " 11  value                            281 non-null    float64\n",
      " 12  date_label                       281 non-null    float64\n",
      " 13  geo_label_proxy_or_real          281 non-null    object \n",
      " 14  geo_label_proxy_footnote         99 non-null     object \n",
      " 15  geo_fips_desc                    281 non-null    object \n",
      " 16  date_label_proxy_or_real         281 non-null    object \n",
      " 17  date_label_proxy_footnote        87 non-null     object \n",
      " 18  value_ci_flag_yesno              281 non-null    object \n",
      " 19  value_95_ci_low                  99 non-null     float64\n",
      " 20  value_95_ci_high                 99 non-null     float64\n",
      " 21  value_90_ci_low                  0 non-null      float64\n",
      " 22  value_90_ci_high                 0 non-null      float64\n",
      " 23  geo_strata_region                0 non-null      object \n",
      " 24  geo_strata_poverty               0 non-null      object \n",
      " 25  geo_strata_Population            0 non-null      object \n",
      " 26  geo_strata_PopDensity            0 non-null      object \n",
      " 27  geo_strata_Segregation           0 non-null      object \n",
      " 28  strata_race_label                281 non-null    object \n",
      " 29  strata_sex_label                 281 non-null    object \n",
      " 30  strata_race_sex_label            0 non-null      object \n",
      " 31  metric_label                     281 non-null    object \n",
      "dtypes: float64(7), object(25)\n",
      "memory usage: 72.4+ KB\n"
     ]
    },
    {
     "data": {
      "text/plain": [
       "None"
      ]
     },
     "metadata": {},
     "output_type": "display_data"
    },
    {
     "name": "stdout",
     "output_type": "stream",
     "text": [
      "<class 'pandas.core.frame.DataFrame'>\n",
      "Index: 56072 entries, 0 to 56352\n",
      "Data columns (total 32 columns):\n",
      " #   Column                           Non-Null Count  Dtype  \n",
      "---  ------                           --------------  -----  \n",
      " 0   metric_item_label                56072 non-null  object \n",
      " 1   metric_cat_label                 56072 non-null  object \n",
      " 2   metric_subcat_label              56071 non-null  object \n",
      " 3   metric_item_label_subtitle       56071 non-null  object \n",
      " 4   metric_cat_item_yaxis_label      56071 non-null  object \n",
      " 5   metric_source_desc_label_fn      56071 non-null  object \n",
      " 6   metric_source_desc_label_url_fn  56071 non-null  object \n",
      " 7   geo_label_city                   56071 non-null  object \n",
      " 8   geo_label_state                  56071 non-null  object \n",
      " 9   geo_label_citystate              56071 non-null  object \n",
      " 10  geo_fips_code                    56071 non-null  float64\n",
      " 11  value                            56071 non-null  float64\n",
      " 12  date_label                       56071 non-null  float64\n",
      " 13  geo_label_proxy_or_real          56071 non-null  object \n",
      " 14  geo_label_proxy_footnote         7145 non-null   object \n",
      " 15  geo_fips_desc                    56071 non-null  object \n",
      " 16  date_label_proxy_or_real         56071 non-null  object \n",
      " 17  date_label_proxy_footnote        4779 non-null   object \n",
      " 18  value_ci_flag_yesno              56071 non-null  object \n",
      " 19  value_95_ci_low                  52076 non-null  float64\n",
      " 20  value_95_ci_high                 52088 non-null  float64\n",
      " 21  value_90_ci_low                  0 non-null      float64\n",
      " 22  value_90_ci_high                 0 non-null      float64\n",
      " 23  geo_strata_region                56071 non-null  object \n",
      " 24  geo_strata_poverty               56071 non-null  object \n",
      " 25  geo_strata_Population            56071 non-null  object \n",
      " 26  geo_strata_PopDensity            56071 non-null  object \n",
      " 27  geo_strata_Segregation           56071 non-null  object \n",
      " 28  strata_race_label                56071 non-null  object \n",
      " 29  strata_sex_label                 56071 non-null  object \n",
      " 30  strata_race_sex_label            22174 non-null  object \n",
      " 31  metric_label                     56071 non-null  object \n",
      "dtypes: float64(7), object(25)\n",
      "memory usage: 14.1+ MB\n"
     ]
    },
    {
     "data": {
      "text/plain": [
       "None"
      ]
     },
     "metadata": {},
     "output_type": "display_data"
    }
   ],
   "source": [
    "cond0 = df['geo_label_city'] == 'U.S. Total'\n",
    "\n",
    "df_US = df.loc[cond0].copy()\n",
    "df_city = df.loc[~cond0].copy()\n",
    "\n",
    "display(df_US.info())\n",
    "display(df_city.info())"
   ]
  },
  {
   "cell_type": "code",
   "execution_count": 37,
   "metadata": {},
   "outputs": [
    {
     "data": {
      "text/plain": [
       "8163"
      ]
     },
     "execution_count": 37,
     "metadata": {},
     "output_type": "execute_result"
    }
   ],
   "source": [
    "cond1 = (df_city['strata_race_label'] == 'All') & (df_city['strata_sex_label'] == 'Both')\n",
    "np.sum(cond1)"
   ]
  },
  {
   "cell_type": "code",
   "execution_count": 38,
   "metadata": {},
   "outputs": [
    {
     "data": {
      "text/plain": [
       "(1, 3984, 3983)"
      ]
     },
     "execution_count": 38,
     "metadata": {},
     "output_type": "execute_result"
    }
   ],
   "source": [
    "col_list = ['value_95_ci_low',\n",
    " 'value_95_ci_high',\n",
    " 'value_90_ci_low',\n",
    " 'value_90_ci_high']\n",
    "\n",
    "cond1 = df_city[col_list].isna().all(axis=1)\n",
    "cond2 = df_city['value_ci_flag_yesno'] == 'no'\n",
    "\n",
    "np.sum(cond1 != cond2), np.sum(cond1), np.sum(cond2)"
   ]
  },
  {
   "cell_type": "code",
   "execution_count": 39,
   "metadata": {},
   "outputs": [
    {
     "data": {
      "text/plain": [
       "metric_label\n",
       "Deaths | Deaths from All Causes                           6231\n",
       "Cancer | All Cancer Deaths                                6220\n",
       "Cardiovascular Disease | Cardiovascular Disease Deaths    6182\n",
       "Cardiovascular Disease | Heart Disease Deaths             6125\n",
       "Diabetes and Obesity | Diabetes Deaths                    5476\n",
       "Cancer | Lung Cancer Deaths                               5475\n",
       "Cancer | Colorectal Cancer Deaths                         5044\n",
       "Deaths | Premature Death                                  2635\n",
       "Cancer | Breast Cancer Deaths                             1773\n",
       "Cancer | Prostate Cancer Deaths                           1713\n",
       "Cardiovascular Disease | High Blood Pressure               455\n",
       "Diabetes and Obesity | Diabetes                            455\n",
       "Diabetes and Obesity | Adult Obesity                       455\n",
       "Physical Activity | Adult Physical Inactivity              455\n",
       "Diabetes and Obesity | Teen Obesity                        418\n",
       "Physical Activity | Teen Physical Activity                 412\n",
       "Physical Activity | Teen Physical Inactivity               403\n",
       "Physical Activity | Teen TV Time                           399\n",
       "Physical Activity | Teen Computer Time                     373\n",
       "Respiratory Disease | Teen Asthma                          368\n",
       "Dietary Quality | Teen Soda                                366\n",
       "Dietary Quality | Teen Breakfast                           332\n",
       "Physical Activity | Teen Physical Education                323\n",
       "Name: count, dtype: int64"
      ]
     },
     "execution_count": 39,
     "metadata": {},
     "output_type": "execute_result"
    }
   ],
   "source": [
    "df_city.loc[~cond1,'metric_label'].value_counts()"
   ]
  },
  {
   "cell_type": "code",
   "execution_count": 40,
   "metadata": {},
   "outputs": [
    {
     "data": {
      "text/plain": [
       "23"
      ]
     },
     "execution_count": 40,
     "metadata": {},
     "output_type": "execute_result"
    }
   ],
   "source": [
    "len(df_city.loc[~cond1,'metric_label'].value_counts())"
   ]
  },
  {
   "cell_type": "code",
   "execution_count": 41,
   "metadata": {},
   "outputs": [
    {
     "data": {
      "text/plain": [
       "{'Cancer | All Cancer Deaths',\n",
       " 'Cancer | Breast Cancer Deaths',\n",
       " 'Cancer | Colorectal Cancer Deaths',\n",
       " 'Cancer | Lung Cancer Deaths',\n",
       " 'Cancer | Prostate Cancer Deaths',\n",
       " 'Cardiovascular Disease | Cardiovascular Disease Deaths',\n",
       " 'Cardiovascular Disease | Heart Disease Deaths',\n",
       " 'Cardiovascular Disease | High Blood Pressure',\n",
       " 'Deaths | Deaths from All Causes',\n",
       " 'Deaths | Premature Death',\n",
       " 'Diabetes and Obesity | Adult Obesity',\n",
       " 'Diabetes and Obesity | Diabetes',\n",
       " 'Diabetes and Obesity | Diabetes Deaths',\n",
       " 'Physical Activity | Adult Physical Inactivity'}"
      ]
     },
     "execution_count": 41,
     "metadata": {},
     "output_type": "execute_result"
    }
   ],
   "source": [
    "metric_w_ci = set(df_city.loc[~cond1,'metric_label'].unique()) # 최소 한개에 대해 CI 비어있는\n",
    "metric_wo_ci = set(df_city.loc[cond1,'metric_label'].unique()) # 모든 레코드에 대해 CI 비어있는\n",
    "\n",
    "metric_w_ci.difference(metric_wo_ci)"
   ]
  },
  {
   "cell_type": "code",
   "execution_count": 42,
   "metadata": {},
   "outputs": [
    {
     "name": "stdout",
     "output_type": "stream",
     "text": [
      "Cancer | All Cancer Deaths                                                       :       6220\n",
      "Cancer | Breast Cancer Deaths                                                    :       1773\n",
      "Cancer | Colorectal Cancer Deaths                                                :       5044\n",
      "Cancer | Lung Cancer Deaths                                                      :       5475\n",
      "Cancer | Prostate Cancer Deaths                                                  :       1713\n",
      "Cardiovascular Disease | Cardiovascular Disease Deaths                           :       6182\n",
      "Cardiovascular Disease | Heart Disease Deaths                                    :       6125\n",
      "Cardiovascular Disease | High Blood Pressure                                     :        455\n",
      "Deaths | Deaths from All Causes                                                  :       6231\n",
      "Deaths | Premature Death                                                         :       2635\n",
      "Diabetes and Obesity | Adult Obesity                                             :        455\n",
      "Diabetes and Obesity | Diabetes                                                  :        455\n",
      "Diabetes and Obesity | Diabetes Deaths                                           :       5476\n",
      "Physical Activity | Adult Physical Inactivity                                    :        455\n"
     ]
    }
   ],
   "source": [
    "metirc_full_ci = sorted(list(metric_w_ci.difference(metric_wo_ci)))\n",
    "\n",
    "for col in metirc_full_ci[:20]:\n",
    "    cond = df_city['metric_label'] == col\n",
    "    print(col.ljust(75),f\"     : {np.sum(cond):>10}\")"
   ]
  },
  {
   "cell_type": "code",
   "execution_count": 43,
   "metadata": {},
   "outputs": [],
   "source": [
    "for col in metirc_full_ci[20:]:\n",
    "    cond = df_city['metric_label'] == col\n",
    "    print(col.ljust(75),f\"     : {np.sum(cond):>10}\")"
   ]
  },
  {
   "cell_type": "code",
   "execution_count": 44,
   "metadata": {},
   "outputs": [
    {
     "data": {
      "text/plain": [
       "14"
      ]
     },
     "execution_count": 44,
     "metadata": {},
     "output_type": "execute_result"
    }
   ],
   "source": [
    "len(metirc_full_ci)"
   ]
  },
  {
   "cell_type": "code",
   "execution_count": 45,
   "metadata": {},
   "outputs": [
    {
     "ename": "TypeError",
     "evalue": "'<' not supported between instances of 'float' and 'str'",
     "output_type": "error",
     "traceback": [
      "\u001b[1;31m---------------------------------------------------------------------------\u001b[0m",
      "\u001b[1;31mTypeError\u001b[0m                                 Traceback (most recent call last)",
      "Cell \u001b[1;32mIn[45], line 1\u001b[0m\n\u001b[1;32m----> 1\u001b[0m metirc_null_ci \u001b[38;5;241m=\u001b[39m \u001b[38;5;28;43msorted\u001b[39;49m\u001b[43m(\u001b[49m\u001b[38;5;28;43mlist\u001b[39;49m\u001b[43m(\u001b[49m\u001b[43mmetric_wo_ci\u001b[49m\u001b[38;5;241;43m.\u001b[39;49m\u001b[43mdifference\u001b[49m\u001b[43m(\u001b[49m\u001b[43mmetric_w_ci\u001b[49m\u001b[43m)\u001b[49m\u001b[43m)\u001b[49m\u001b[43m)\u001b[49m\n\u001b[0;32m      2\u001b[0m \u001b[38;5;28mprint\u001b[39m(\u001b[38;5;28mlen\u001b[39m(metirc_null_ci))\n\u001b[0;32m      4\u001b[0m \u001b[38;5;28;01mfor\u001b[39;00m col \u001b[38;5;129;01min\u001b[39;00m metirc_null_ci:\n",
      "\u001b[1;31mTypeError\u001b[0m: '<' not supported between instances of 'float' and 'str'"
     ]
    }
   ],
   "source": [
    "metirc_null_ci = sorted(list(metric_wo_ci.difference(metric_w_ci)))\n",
    "print(len(metirc_null_ci))\n",
    "\n",
    "for col in metirc_null_ci:\n",
    "    cond = df['metric_label'] == col\n",
    "    print(col.ljust(75),f\"     : {np.sum(cond):>10}\")"
   ]
  },
  {
   "cell_type": "code",
   "execution_count": 46,
   "metadata": {},
   "outputs": [
    {
     "ename": "TypeError",
     "evalue": "'<' not supported between instances of 'float' and 'str'",
     "output_type": "error",
     "traceback": [
      "\u001b[1;31m---------------------------------------------------------------------------\u001b[0m",
      "\u001b[1;31mTypeError\u001b[0m                                 Traceback (most recent call last)",
      "Cell \u001b[1;32mIn[46], line 1\u001b[0m\n\u001b[1;32m----> 1\u001b[0m metirc_null_ci \u001b[38;5;241m=\u001b[39m \u001b[38;5;28;43msorted\u001b[39;49m\u001b[43m(\u001b[49m\u001b[38;5;28;43mlist\u001b[39;49m\u001b[43m(\u001b[49m\u001b[43mmetric_wo_ci\u001b[49m\u001b[38;5;241;43m.\u001b[39;49m\u001b[43mdifference\u001b[49m\u001b[43m(\u001b[49m\u001b[43mmetric_w_ci\u001b[49m\u001b[43m)\u001b[49m\u001b[43m)\u001b[49m\u001b[43m)\u001b[49m\n\u001b[0;32m      3\u001b[0m \u001b[38;5;28;01mfor\u001b[39;00m col \u001b[38;5;129;01min\u001b[39;00m metirc_null_ci[\u001b[38;5;241m20\u001b[39m:]:\n\u001b[0;32m      4\u001b[0m     cond \u001b[38;5;241m=\u001b[39m df[\u001b[38;5;124m'\u001b[39m\u001b[38;5;124mmetric_label\u001b[39m\u001b[38;5;124m'\u001b[39m] \u001b[38;5;241m==\u001b[39m col\n",
      "\u001b[1;31mTypeError\u001b[0m: '<' not supported between instances of 'float' and 'str'"
     ]
    }
   ],
   "source": [
    "metirc_null_ci = sorted(list(metric_wo_ci.difference(metric_w_ci)))\n",
    "\n",
    "for col in metirc_null_ci[20:]:\n",
    "    cond = df['metric_label'] == col\n",
    "    print(col.ljust(75),f\"     : {np.sum(cond):>10}\")"
   ]
  },
  {
   "cell_type": "code",
   "execution_count": 47,
   "metadata": {},
   "outputs": [],
   "source": [
    "table = pd.pivot_table(df_city, index=[\"geo_label_city\",\"date_label\"], values='value', columns=['metric_label'])"
   ]
  },
  {
   "cell_type": "code",
   "execution_count": 48,
   "metadata": {},
   "outputs": [
    {
     "ename": "NameError",
     "evalue": "name 'metirc_null_ci' is not defined",
     "output_type": "error",
     "traceback": [
      "\u001b[1;31m---------------------------------------------------------------------------\u001b[0m",
      "\u001b[1;31mNameError\u001b[0m                                 Traceback (most recent call last)",
      "Cell \u001b[1;32mIn[48], line 1\u001b[0m\n\u001b[1;32m----> 1\u001b[0m table[\u001b[43mmetirc_null_ci\u001b[49m]\n",
      "\u001b[1;31mNameError\u001b[0m: name 'metirc_null_ci' is not defined"
     ]
    }
   ],
   "source": [
    "table[metirc_null_ci]"
   ]
  },
  {
   "cell_type": "code",
   "execution_count": 49,
   "metadata": {},
   "outputs": [
    {
     "ename": "NameError",
     "evalue": "name 'metirc_null_ci' is not defined",
     "output_type": "error",
     "traceback": [
      "\u001b[1;31m---------------------------------------------------------------------------\u001b[0m",
      "\u001b[1;31mNameError\u001b[0m                                 Traceback (most recent call last)",
      "Cell \u001b[1;32mIn[49], line 1\u001b[0m\n\u001b[1;32m----> 1\u001b[0m null_count \u001b[38;5;241m=\u001b[39m table\u001b[38;5;241m.\u001b[39mgroupby(by\u001b[38;5;241m=\u001b[39m[\u001b[38;5;124m\"\u001b[39m\u001b[38;5;124mgeo_label_city\u001b[39m\u001b[38;5;124m\"\u001b[39m, \u001b[38;5;124m\"\u001b[39m\u001b[38;5;124mdate_label\u001b[39m\u001b[38;5;124m\"\u001b[39m])[\u001b[43mmetirc_null_ci\u001b[49m]\u001b[38;5;241m.\u001b[39mcount()\n\u001b[0;32m      3\u001b[0m null_count \n\u001b[0;32m      4\u001b[0m \u001b[38;5;66;03m# null_count_city = \u001b[39;00m\n",
      "\u001b[1;31mNameError\u001b[0m: name 'metirc_null_ci' is not defined"
     ]
    }
   ],
   "source": [
    "null_count = table.groupby(by=[\"geo_label_city\", \"date_label\"])[metirc_null_ci].count()\n",
    "\n",
    "null_count \n",
    "# null_count_city = "
   ]
  },
  {
   "cell_type": "code",
   "execution_count": 50,
   "metadata": {},
   "outputs": [
    {
     "data": {
      "text/html": [
       "<div>\n",
       "<style scoped>\n",
       "    .dataframe tbody tr th:only-of-type {\n",
       "        vertical-align: middle;\n",
       "    }\n",
       "\n",
       "    .dataframe tbody tr th {\n",
       "        vertical-align: top;\n",
       "    }\n",
       "\n",
       "    .dataframe thead th {\n",
       "        text-align: right;\n",
       "    }\n",
       "</style>\n",
       "<table border=\"1\" class=\"dataframe\">\n",
       "  <thead>\n",
       "    <tr style=\"text-align: right;\">\n",
       "      <th></th>\n",
       "      <th>value_95_ci_low</th>\n",
       "      <th>value_95_ci_high</th>\n",
       "      <th>value_90_ci_low</th>\n",
       "      <th>value_90_ci_high</th>\n",
       "    </tr>\n",
       "  </thead>\n",
       "  <tbody>\n",
       "    <tr>\n",
       "      <th>0</th>\n",
       "      <td>0</td>\n",
       "      <td>0</td>\n",
       "      <td>1</td>\n",
       "      <td>1</td>\n",
       "    </tr>\n",
       "    <tr>\n",
       "      <th>1</th>\n",
       "      <td>0</td>\n",
       "      <td>0</td>\n",
       "      <td>1</td>\n",
       "      <td>1</td>\n",
       "    </tr>\n",
       "    <tr>\n",
       "      <th>2</th>\n",
       "      <td>0</td>\n",
       "      <td>0</td>\n",
       "      <td>1</td>\n",
       "      <td>1</td>\n",
       "    </tr>\n",
       "    <tr>\n",
       "      <th>3</th>\n",
       "      <td>0</td>\n",
       "      <td>0</td>\n",
       "      <td>1</td>\n",
       "      <td>1</td>\n",
       "    </tr>\n",
       "    <tr>\n",
       "      <th>4</th>\n",
       "      <td>0</td>\n",
       "      <td>0</td>\n",
       "      <td>1</td>\n",
       "      <td>1</td>\n",
       "    </tr>\n",
       "    <tr>\n",
       "      <th>...</th>\n",
       "      <td>...</td>\n",
       "      <td>...</td>\n",
       "      <td>...</td>\n",
       "      <td>...</td>\n",
       "    </tr>\n",
       "    <tr>\n",
       "      <th>56348</th>\n",
       "      <td>0</td>\n",
       "      <td>0</td>\n",
       "      <td>1</td>\n",
       "      <td>1</td>\n",
       "    </tr>\n",
       "    <tr>\n",
       "      <th>56349</th>\n",
       "      <td>0</td>\n",
       "      <td>0</td>\n",
       "      <td>1</td>\n",
       "      <td>1</td>\n",
       "    </tr>\n",
       "    <tr>\n",
       "      <th>56350</th>\n",
       "      <td>0</td>\n",
       "      <td>0</td>\n",
       "      <td>1</td>\n",
       "      <td>1</td>\n",
       "    </tr>\n",
       "    <tr>\n",
       "      <th>56351</th>\n",
       "      <td>0</td>\n",
       "      <td>0</td>\n",
       "      <td>1</td>\n",
       "      <td>1</td>\n",
       "    </tr>\n",
       "    <tr>\n",
       "      <th>56352</th>\n",
       "      <td>1</td>\n",
       "      <td>1</td>\n",
       "      <td>1</td>\n",
       "      <td>1</td>\n",
       "    </tr>\n",
       "  </tbody>\n",
       "</table>\n",
       "<p>56072 rows × 4 columns</p>\n",
       "</div>"
      ],
      "text/plain": [
       "       value_95_ci_low  value_95_ci_high  value_90_ci_low  value_90_ci_high\n",
       "0                    0                 0                1                 1\n",
       "1                    0                 0                1                 1\n",
       "2                    0                 0                1                 1\n",
       "3                    0                 0                1                 1\n",
       "4                    0                 0                1                 1\n",
       "...                ...               ...              ...               ...\n",
       "56348                0                 0                1                 1\n",
       "56349                0                 0                1                 1\n",
       "56350                0                 0                1                 1\n",
       "56351                0                 0                1                 1\n",
       "56352                1                 1                1                 1\n",
       "\n",
       "[56072 rows x 4 columns]"
      ]
     },
     "execution_count": 50,
     "metadata": {},
     "output_type": "execute_result"
    }
   ],
   "source": [
    "df_city[col_list].isna().astype(int)"
   ]
  },
  {
   "cell_type": "code",
   "execution_count": 51,
   "metadata": {},
   "outputs": [
    {
     "data": {
      "text/html": [
       "<div>\n",
       "<style scoped>\n",
       "    .dataframe tbody tr th:only-of-type {\n",
       "        vertical-align: middle;\n",
       "    }\n",
       "\n",
       "    .dataframe tbody tr th {\n",
       "        vertical-align: top;\n",
       "    }\n",
       "\n",
       "    .dataframe thead th {\n",
       "        text-align: right;\n",
       "    }\n",
       "</style>\n",
       "<table border=\"1\" class=\"dataframe\">\n",
       "  <thead>\n",
       "    <tr style=\"text-align: right;\">\n",
       "      <th></th>\n",
       "      <th>metric_item_label</th>\n",
       "      <th>metric_cat_label</th>\n",
       "      <th>metric_subcat_label</th>\n",
       "      <th>metric_item_label_subtitle</th>\n",
       "      <th>metric_cat_item_yaxis_label</th>\n",
       "      <th>metric_source_desc_label_fn</th>\n",
       "      <th>metric_source_desc_label_url_fn</th>\n",
       "      <th>geo_label_city</th>\n",
       "      <th>geo_label_state</th>\n",
       "      <th>geo_label_citystate</th>\n",
       "      <th>...</th>\n",
       "      <th>value_90_ci_high</th>\n",
       "      <th>geo_strata_region</th>\n",
       "      <th>geo_strata_poverty</th>\n",
       "      <th>geo_strata_Population</th>\n",
       "      <th>geo_strata_PopDensity</th>\n",
       "      <th>geo_strata_Segregation</th>\n",
       "      <th>strata_race_label</th>\n",
       "      <th>strata_sex_label</th>\n",
       "      <th>strata_race_sex_label</th>\n",
       "      <th>metric_label</th>\n",
       "    </tr>\n",
       "  </thead>\n",
       "  <tbody>\n",
       "    <tr>\n",
       "      <th>0</th>\n",
       "      <td>All Cancer Deaths</td>\n",
       "      <td>Chronic Health Conditions</td>\n",
       "      <td>Cancer</td>\n",
       "      <td>Deaths from all types of cancer (per 100,000 p...</td>\n",
       "      <td>Per 100,000</td>\n",
       "      <td>National Vital Statistics System (NVSS), Cente...</td>\n",
       "      <td>https://www.cdc.gov/nchs/nvss/index.htm</td>\n",
       "      <td>Cleveland</td>\n",
       "      <td>OH</td>\n",
       "      <td>Cleveland, OH</td>\n",
       "      <td>...</td>\n",
       "      <td>NaN</td>\n",
       "      <td>Midwest</td>\n",
       "      <td>Poorest cities (18%+ poor)</td>\n",
       "      <td>Smaller (&lt;1.3 million)</td>\n",
       "      <td>Lower pop. density (&lt;10k per sq mi)</td>\n",
       "      <td>Highly Segregated (50%+)</td>\n",
       "      <td>Black</td>\n",
       "      <td>Female</td>\n",
       "      <td>Black Female</td>\n",
       "      <td>Cancer | All Cancer Deaths</td>\n",
       "    </tr>\n",
       "    <tr>\n",
       "      <th>1</th>\n",
       "      <td>All Cancer Deaths</td>\n",
       "      <td>Chronic Health Conditions</td>\n",
       "      <td>Cancer</td>\n",
       "      <td>Deaths from all types of cancer (per 100,000 p...</td>\n",
       "      <td>Per 100,000</td>\n",
       "      <td>National Vital Statistics System (NVSS), Cente...</td>\n",
       "      <td>https://www.cdc.gov/nchs/nvss/index.htm</td>\n",
       "      <td>Oakland</td>\n",
       "      <td>CA</td>\n",
       "      <td>Oakland, CA</td>\n",
       "      <td>...</td>\n",
       "      <td>NaN</td>\n",
       "      <td>West</td>\n",
       "      <td>Less poor cities (&lt;18% poor)</td>\n",
       "      <td>Smaller (&lt;1.3 million)</td>\n",
       "      <td>Lower pop. density (&lt;10k per sq mi)</td>\n",
       "      <td>Less Segregated (&lt;50%)</td>\n",
       "      <td>Hispanic</td>\n",
       "      <td>Male</td>\n",
       "      <td>Hispanic Male</td>\n",
       "      <td>Cancer | All Cancer Deaths</td>\n",
       "    </tr>\n",
       "    <tr>\n",
       "      <th>2</th>\n",
       "      <td>All Cancer Deaths</td>\n",
       "      <td>Chronic Health Conditions</td>\n",
       "      <td>Cancer</td>\n",
       "      <td>Deaths from all types of cancer (per 100,000 p...</td>\n",
       "      <td>Per 100,000</td>\n",
       "      <td>National Vital Statistics System (NVSS), Cente...</td>\n",
       "      <td>https://www.cdc.gov/nchs/nvss/index.htm</td>\n",
       "      <td>San Francisco</td>\n",
       "      <td>CA</td>\n",
       "      <td>San Francisco, CA</td>\n",
       "      <td>...</td>\n",
       "      <td>NaN</td>\n",
       "      <td>West</td>\n",
       "      <td>Less poor cities (&lt;18% poor)</td>\n",
       "      <td>Smaller (&lt;1.3 million)</td>\n",
       "      <td>Highest pop. density (&gt;10k per sq mi)</td>\n",
       "      <td>Less Segregated (&lt;50%)</td>\n",
       "      <td>All</td>\n",
       "      <td>Female</td>\n",
       "      <td>NaN</td>\n",
       "      <td>Cancer | All Cancer Deaths</td>\n",
       "    </tr>\n",
       "    <tr>\n",
       "      <th>3</th>\n",
       "      <td>All Cancer Deaths</td>\n",
       "      <td>Chronic Health Conditions</td>\n",
       "      <td>Cancer</td>\n",
       "      <td>Deaths from all types of cancer (per 100,000 p...</td>\n",
       "      <td>Per 100,000</td>\n",
       "      <td>National Vital Statistics System (NVSS), Cente...</td>\n",
       "      <td>https://www.cdc.gov/nchs/nvss/index.htm</td>\n",
       "      <td>Long Beach</td>\n",
       "      <td>CA</td>\n",
       "      <td>Long Beach, CA</td>\n",
       "      <td>...</td>\n",
       "      <td>NaN</td>\n",
       "      <td>West</td>\n",
       "      <td>Less poor cities (&lt;18% poor)</td>\n",
       "      <td>Smaller (&lt;1.3 million)</td>\n",
       "      <td>Lower pop. density (&lt;10k per sq mi)</td>\n",
       "      <td>Highly Segregated (50%+)</td>\n",
       "      <td>Hispanic</td>\n",
       "      <td>Female</td>\n",
       "      <td>Hispanic Female</td>\n",
       "      <td>Cancer | All Cancer Deaths</td>\n",
       "    </tr>\n",
       "    <tr>\n",
       "      <th>4</th>\n",
       "      <td>All Cancer Deaths</td>\n",
       "      <td>Chronic Health Conditions</td>\n",
       "      <td>Cancer</td>\n",
       "      <td>Deaths from all types of cancer (per 100,000 p...</td>\n",
       "      <td>Per 100,000</td>\n",
       "      <td>National Vital Statistics System (NVSS), Cente...</td>\n",
       "      <td>https://www.cdc.gov/nchs/nvss/index.htm</td>\n",
       "      <td>Cleveland</td>\n",
       "      <td>OH</td>\n",
       "      <td>Cleveland, OH</td>\n",
       "      <td>...</td>\n",
       "      <td>NaN</td>\n",
       "      <td>Midwest</td>\n",
       "      <td>Poorest cities (18%+ poor)</td>\n",
       "      <td>Smaller (&lt;1.3 million)</td>\n",
       "      <td>Lower pop. density (&lt;10k per sq mi)</td>\n",
       "      <td>Highly Segregated (50%+)</td>\n",
       "      <td>Black</td>\n",
       "      <td>Male</td>\n",
       "      <td>Black Male</td>\n",
       "      <td>Cancer | All Cancer Deaths</td>\n",
       "    </tr>\n",
       "    <tr>\n",
       "      <th>...</th>\n",
       "      <td>...</td>\n",
       "      <td>...</td>\n",
       "      <td>...</td>\n",
       "      <td>...</td>\n",
       "      <td>...</td>\n",
       "      <td>...</td>\n",
       "      <td>...</td>\n",
       "      <td>...</td>\n",
       "      <td>...</td>\n",
       "      <td>...</td>\n",
       "      <td>...</td>\n",
       "      <td>...</td>\n",
       "      <td>...</td>\n",
       "      <td>...</td>\n",
       "      <td>...</td>\n",
       "      <td>...</td>\n",
       "      <td>...</td>\n",
       "      <td>...</td>\n",
       "      <td>...</td>\n",
       "      <td>...</td>\n",
       "      <td>...</td>\n",
       "    </tr>\n",
       "    <tr>\n",
       "      <th>56348</th>\n",
       "      <td>Premature Death</td>\n",
       "      <td>Life Expectancy and Deaths</td>\n",
       "      <td>Deaths</td>\n",
       "      <td>Years of potential life lost before age 75 (pe...</td>\n",
       "      <td>Years per 100,000 population aged &lt;75</td>\n",
       "      <td>National Vital Statistics System (NVSS), Cente...</td>\n",
       "      <td>https://www.cdc.gov/nchs/nvss/index.htm</td>\n",
       "      <td>Minneapolis</td>\n",
       "      <td>MN</td>\n",
       "      <td>Minneapolis, MN</td>\n",
       "      <td>...</td>\n",
       "      <td>NaN</td>\n",
       "      <td>Midwest</td>\n",
       "      <td>Less poor cities (&lt;18% poor)</td>\n",
       "      <td>Smaller (&lt;1.3 million)</td>\n",
       "      <td>Lower pop. density (&lt;10k per sq mi)</td>\n",
       "      <td>Less Segregated (&lt;50%)</td>\n",
       "      <td>Hispanic</td>\n",
       "      <td>Female</td>\n",
       "      <td>Hispanic Female</td>\n",
       "      <td>Deaths | Premature Death</td>\n",
       "    </tr>\n",
       "    <tr>\n",
       "      <th>56349</th>\n",
       "      <td>Premature Death</td>\n",
       "      <td>Life Expectancy and Deaths</td>\n",
       "      <td>Deaths</td>\n",
       "      <td>Years of potential life lost before age 75 (pe...</td>\n",
       "      <td>Years per 100,000 population aged &lt;75</td>\n",
       "      <td>National Vital Statistics System (NVSS), Cente...</td>\n",
       "      <td>https://www.cdc.gov/nchs/nvss/index.htm</td>\n",
       "      <td>Memphis</td>\n",
       "      <td>TN</td>\n",
       "      <td>Memphis, TN</td>\n",
       "      <td>...</td>\n",
       "      <td>NaN</td>\n",
       "      <td>South</td>\n",
       "      <td>Poorest cities (18%+ poor)</td>\n",
       "      <td>Smaller (&lt;1.3 million)</td>\n",
       "      <td>Lower pop. density (&lt;10k per sq mi)</td>\n",
       "      <td>Highly Segregated (50%+)</td>\n",
       "      <td>White</td>\n",
       "      <td>Male</td>\n",
       "      <td>White Male</td>\n",
       "      <td>Deaths | Premature Death</td>\n",
       "    </tr>\n",
       "    <tr>\n",
       "      <th>56350</th>\n",
       "      <td>Premature Death</td>\n",
       "      <td>Life Expectancy and Deaths</td>\n",
       "      <td>Deaths</td>\n",
       "      <td>Years of potential life lost before age 75 (pe...</td>\n",
       "      <td>Years per 100,000 population aged &lt;75</td>\n",
       "      <td>National Vital Statistics System (NVSS), Cente...</td>\n",
       "      <td>https://www.cdc.gov/nchs/nvss/index.htm</td>\n",
       "      <td>El Paso</td>\n",
       "      <td>TX</td>\n",
       "      <td>El Paso, TX</td>\n",
       "      <td>...</td>\n",
       "      <td>NaN</td>\n",
       "      <td>South</td>\n",
       "      <td>Poorest cities (18%+ poor)</td>\n",
       "      <td>Smaller (&lt;1.3 million)</td>\n",
       "      <td>Lower pop. density (&lt;10k per sq mi)</td>\n",
       "      <td>Less Segregated (&lt;50%)</td>\n",
       "      <td>White</td>\n",
       "      <td>Female</td>\n",
       "      <td>White Female</td>\n",
       "      <td>Deaths | Premature Death</td>\n",
       "    </tr>\n",
       "    <tr>\n",
       "      <th>56351</th>\n",
       "      <td>Premature Death</td>\n",
       "      <td>Life Expectancy and Deaths</td>\n",
       "      <td>Deaths</td>\n",
       "      <td>Years of potential life lost before age 75 (pe...</td>\n",
       "      <td>Years per 100,000 population aged &lt;75</td>\n",
       "      <td>National Vital Statistics System (NVSS), Cente...</td>\n",
       "      <td>https://www.cdc.gov/nchs/nvss/index.htm</td>\n",
       "      <td>Dallas</td>\n",
       "      <td>TX</td>\n",
       "      <td>Dallas, TX</td>\n",
       "      <td>...</td>\n",
       "      <td>NaN</td>\n",
       "      <td>South</td>\n",
       "      <td>Less poor cities (&lt;18% poor)</td>\n",
       "      <td>Largest (&gt;1.3 million)</td>\n",
       "      <td>Lower pop. density (&lt;10k per sq mi)</td>\n",
       "      <td>Highly Segregated (50%+)</td>\n",
       "      <td>White</td>\n",
       "      <td>Male</td>\n",
       "      <td>White Male</td>\n",
       "      <td>Deaths | Premature Death</td>\n",
       "    </tr>\n",
       "    <tr>\n",
       "      <th>56352</th>\n",
       "      <td>Premature Death</td>\n",
       "      <td>Li</td>\n",
       "      <td>NaN</td>\n",
       "      <td>NaN</td>\n",
       "      <td>NaN</td>\n",
       "      <td>NaN</td>\n",
       "      <td>NaN</td>\n",
       "      <td>NaN</td>\n",
       "      <td>NaN</td>\n",
       "      <td>NaN</td>\n",
       "      <td>...</td>\n",
       "      <td>NaN</td>\n",
       "      <td>NaN</td>\n",
       "      <td>NaN</td>\n",
       "      <td>NaN</td>\n",
       "      <td>NaN</td>\n",
       "      <td>NaN</td>\n",
       "      <td>NaN</td>\n",
       "      <td>NaN</td>\n",
       "      <td>NaN</td>\n",
       "      <td>NaN</td>\n",
       "    </tr>\n",
       "  </tbody>\n",
       "</table>\n",
       "<p>56072 rows × 32 columns</p>\n",
       "</div>"
      ],
      "text/plain": [
       "       metric_item_label            metric_cat_label metric_subcat_label  \\\n",
       "0      All Cancer Deaths   Chronic Health Conditions              Cancer   \n",
       "1      All Cancer Deaths   Chronic Health Conditions              Cancer   \n",
       "2      All Cancer Deaths   Chronic Health Conditions              Cancer   \n",
       "3      All Cancer Deaths   Chronic Health Conditions              Cancer   \n",
       "4      All Cancer Deaths   Chronic Health Conditions              Cancer   \n",
       "...                  ...                         ...                 ...   \n",
       "56348    Premature Death  Life Expectancy and Deaths              Deaths   \n",
       "56349    Premature Death  Life Expectancy and Deaths              Deaths   \n",
       "56350    Premature Death  Life Expectancy and Deaths              Deaths   \n",
       "56351    Premature Death  Life Expectancy and Deaths              Deaths   \n",
       "56352    Premature Death                          Li                 NaN   \n",
       "\n",
       "                              metric_item_label_subtitle  \\\n",
       "0      Deaths from all types of cancer (per 100,000 p...   \n",
       "1      Deaths from all types of cancer (per 100,000 p...   \n",
       "2      Deaths from all types of cancer (per 100,000 p...   \n",
       "3      Deaths from all types of cancer (per 100,000 p...   \n",
       "4      Deaths from all types of cancer (per 100,000 p...   \n",
       "...                                                  ...   \n",
       "56348  Years of potential life lost before age 75 (pe...   \n",
       "56349  Years of potential life lost before age 75 (pe...   \n",
       "56350  Years of potential life lost before age 75 (pe...   \n",
       "56351  Years of potential life lost before age 75 (pe...   \n",
       "56352                                                NaN   \n",
       "\n",
       "                 metric_cat_item_yaxis_label  \\\n",
       "0                                Per 100,000   \n",
       "1                                Per 100,000   \n",
       "2                                Per 100,000   \n",
       "3                                Per 100,000   \n",
       "4                                Per 100,000   \n",
       "...                                      ...   \n",
       "56348  Years per 100,000 population aged <75   \n",
       "56349  Years per 100,000 population aged <75   \n",
       "56350  Years per 100,000 population aged <75   \n",
       "56351  Years per 100,000 population aged <75   \n",
       "56352                                    NaN   \n",
       "\n",
       "                             metric_source_desc_label_fn  \\\n",
       "0      National Vital Statistics System (NVSS), Cente...   \n",
       "1      National Vital Statistics System (NVSS), Cente...   \n",
       "2      National Vital Statistics System (NVSS), Cente...   \n",
       "3      National Vital Statistics System (NVSS), Cente...   \n",
       "4      National Vital Statistics System (NVSS), Cente...   \n",
       "...                                                  ...   \n",
       "56348  National Vital Statistics System (NVSS), Cente...   \n",
       "56349  National Vital Statistics System (NVSS), Cente...   \n",
       "56350  National Vital Statistics System (NVSS), Cente...   \n",
       "56351  National Vital Statistics System (NVSS), Cente...   \n",
       "56352                                                NaN   \n",
       "\n",
       "               metric_source_desc_label_url_fn geo_label_city geo_label_state  \\\n",
       "0      https://www.cdc.gov/nchs/nvss/index.htm      Cleveland              OH   \n",
       "1      https://www.cdc.gov/nchs/nvss/index.htm        Oakland              CA   \n",
       "2      https://www.cdc.gov/nchs/nvss/index.htm  San Francisco              CA   \n",
       "3      https://www.cdc.gov/nchs/nvss/index.htm     Long Beach              CA   \n",
       "4      https://www.cdc.gov/nchs/nvss/index.htm      Cleveland              OH   \n",
       "...                                        ...            ...             ...   \n",
       "56348  https://www.cdc.gov/nchs/nvss/index.htm    Minneapolis              MN   \n",
       "56349  https://www.cdc.gov/nchs/nvss/index.htm        Memphis              TN   \n",
       "56350  https://www.cdc.gov/nchs/nvss/index.htm        El Paso              TX   \n",
       "56351  https://www.cdc.gov/nchs/nvss/index.htm         Dallas              TX   \n",
       "56352                                      NaN            NaN             NaN   \n",
       "\n",
       "      geo_label_citystate  ...  value_90_ci_high  geo_strata_region  \\\n",
       "0           Cleveland, OH  ...               NaN            Midwest   \n",
       "1             Oakland, CA  ...               NaN               West   \n",
       "2       San Francisco, CA  ...               NaN               West   \n",
       "3          Long Beach, CA  ...               NaN               West   \n",
       "4           Cleveland, OH  ...               NaN            Midwest   \n",
       "...                   ...  ...               ...                ...   \n",
       "56348     Minneapolis, MN  ...               NaN            Midwest   \n",
       "56349         Memphis, TN  ...               NaN              South   \n",
       "56350         El Paso, TX  ...               NaN              South   \n",
       "56351          Dallas, TX  ...               NaN              South   \n",
       "56352                 NaN  ...               NaN                NaN   \n",
       "\n",
       "                 geo_strata_poverty   geo_strata_Population  \\\n",
       "0        Poorest cities (18%+ poor)  Smaller (<1.3 million)   \n",
       "1      Less poor cities (<18% poor)  Smaller (<1.3 million)   \n",
       "2      Less poor cities (<18% poor)  Smaller (<1.3 million)   \n",
       "3      Less poor cities (<18% poor)  Smaller (<1.3 million)   \n",
       "4        Poorest cities (18%+ poor)  Smaller (<1.3 million)   \n",
       "...                             ...                     ...   \n",
       "56348  Less poor cities (<18% poor)  Smaller (<1.3 million)   \n",
       "56349    Poorest cities (18%+ poor)  Smaller (<1.3 million)   \n",
       "56350    Poorest cities (18%+ poor)  Smaller (<1.3 million)   \n",
       "56351  Less poor cities (<18% poor)  Largest (>1.3 million)   \n",
       "56352                           NaN                     NaN   \n",
       "\n",
       "                       geo_strata_PopDensity    geo_strata_Segregation  \\\n",
       "0        Lower pop. density (<10k per sq mi)  Highly Segregated (50%+)   \n",
       "1        Lower pop. density (<10k per sq mi)    Less Segregated (<50%)   \n",
       "2      Highest pop. density (>10k per sq mi)    Less Segregated (<50%)   \n",
       "3        Lower pop. density (<10k per sq mi)  Highly Segregated (50%+)   \n",
       "4        Lower pop. density (<10k per sq mi)  Highly Segregated (50%+)   \n",
       "...                                      ...                       ...   \n",
       "56348    Lower pop. density (<10k per sq mi)    Less Segregated (<50%)   \n",
       "56349    Lower pop. density (<10k per sq mi)  Highly Segregated (50%+)   \n",
       "56350    Lower pop. density (<10k per sq mi)    Less Segregated (<50%)   \n",
       "56351    Lower pop. density (<10k per sq mi)  Highly Segregated (50%+)   \n",
       "56352                                    NaN                       NaN   \n",
       "\n",
       "      strata_race_label strata_sex_label strata_race_sex_label  \\\n",
       "0                 Black           Female          Black Female   \n",
       "1              Hispanic             Male         Hispanic Male   \n",
       "2                   All           Female                   NaN   \n",
       "3              Hispanic           Female       Hispanic Female   \n",
       "4                 Black             Male            Black Male   \n",
       "...                 ...              ...                   ...   \n",
       "56348          Hispanic           Female       Hispanic Female   \n",
       "56349             White             Male            White Male   \n",
       "56350             White           Female          White Female   \n",
       "56351             White             Male            White Male   \n",
       "56352               NaN              NaN                   NaN   \n",
       "\n",
       "                     metric_label  \n",
       "0      Cancer | All Cancer Deaths  \n",
       "1      Cancer | All Cancer Deaths  \n",
       "2      Cancer | All Cancer Deaths  \n",
       "3      Cancer | All Cancer Deaths  \n",
       "4      Cancer | All Cancer Deaths  \n",
       "...                           ...  \n",
       "56348    Deaths | Premature Death  \n",
       "56349    Deaths | Premature Death  \n",
       "56350    Deaths | Premature Death  \n",
       "56351    Deaths | Premature Death  \n",
       "56352                         NaN  \n",
       "\n",
       "[56072 rows x 32 columns]"
      ]
     },
     "execution_count": 51,
     "metadata": {},
     "output_type": "execute_result"
    }
   ],
   "source": [
    "df_city"
   ]
  },
  {
   "cell_type": "code",
   "execution_count": 52,
   "metadata": {},
   "outputs": [],
   "source": [
    "col_list = [\"value_95_ci_low\", \"value_95_ci_high\"]"
   ]
  },
  {
   "cell_type": "code",
   "execution_count": 53,
   "metadata": {},
   "outputs": [
    {
     "data": {
      "text/html": [
       "<div>\n",
       "<style scoped>\n",
       "    .dataframe tbody tr th:only-of-type {\n",
       "        vertical-align: middle;\n",
       "    }\n",
       "\n",
       "    .dataframe tbody tr th {\n",
       "        vertical-align: top;\n",
       "    }\n",
       "\n",
       "    .dataframe thead th {\n",
       "        text-align: right;\n",
       "    }\n",
       "</style>\n",
       "<table border=\"1\" class=\"dataframe\">\n",
       "  <thead>\n",
       "    <tr style=\"text-align: right;\">\n",
       "      <th></th>\n",
       "      <th>value_95_ci_low</th>\n",
       "      <th>value_95_ci_high</th>\n",
       "    </tr>\n",
       "    <tr>\n",
       "      <th>date_label</th>\n",
       "      <th></th>\n",
       "      <th></th>\n",
       "    </tr>\n",
       "  </thead>\n",
       "  <tbody>\n",
       "    <tr>\n",
       "      <th>2010.0</th>\n",
       "      <td>291</td>\n",
       "      <td>291</td>\n",
       "    </tr>\n",
       "    <tr>\n",
       "      <th>2011.0</th>\n",
       "      <td>292</td>\n",
       "      <td>291</td>\n",
       "    </tr>\n",
       "    <tr>\n",
       "      <th>2012.0</th>\n",
       "      <td>388</td>\n",
       "      <td>387</td>\n",
       "    </tr>\n",
       "    <tr>\n",
       "      <th>2013.0</th>\n",
       "      <td>270</td>\n",
       "      <td>269</td>\n",
       "    </tr>\n",
       "    <tr>\n",
       "      <th>2014.0</th>\n",
       "      <td>388</td>\n",
       "      <td>387</td>\n",
       "    </tr>\n",
       "    <tr>\n",
       "      <th>2015.0</th>\n",
       "      <td>278</td>\n",
       "      <td>277</td>\n",
       "    </tr>\n",
       "    <tr>\n",
       "      <th>2016.0</th>\n",
       "      <td>388</td>\n",
       "      <td>387</td>\n",
       "    </tr>\n",
       "    <tr>\n",
       "      <th>2017.0</th>\n",
       "      <td>268</td>\n",
       "      <td>267</td>\n",
       "    </tr>\n",
       "    <tr>\n",
       "      <th>2018.0</th>\n",
       "      <td>388</td>\n",
       "      <td>387</td>\n",
       "    </tr>\n",
       "    <tr>\n",
       "      <th>2019.0</th>\n",
       "      <td>388</td>\n",
       "      <td>387</td>\n",
       "    </tr>\n",
       "    <tr>\n",
       "      <th>2020.0</th>\n",
       "      <td>388</td>\n",
       "      <td>387</td>\n",
       "    </tr>\n",
       "    <tr>\n",
       "      <th>2021.0</th>\n",
       "      <td>225</td>\n",
       "      <td>224</td>\n",
       "    </tr>\n",
       "    <tr>\n",
       "      <th>2022.0</th>\n",
       "      <td>225</td>\n",
       "      <td>224</td>\n",
       "    </tr>\n",
       "  </tbody>\n",
       "</table>\n",
       "</div>"
      ],
      "text/plain": [
       "            value_95_ci_low  value_95_ci_high\n",
       "date_label                                   \n",
       "2010.0                  291               291\n",
       "2011.0                  292               291\n",
       "2012.0                  388               387\n",
       "2013.0                  270               269\n",
       "2014.0                  388               387\n",
       "2015.0                  278               277\n",
       "2016.0                  388               387\n",
       "2017.0                  268               267\n",
       "2018.0                  388               387\n",
       "2019.0                  388               387\n",
       "2020.0                  388               387\n",
       "2021.0                  225               224\n",
       "2022.0                  225               224"
      ]
     },
     "execution_count": 53,
     "metadata": {},
     "output_type": "execute_result"
    }
   ],
   "source": [
    "df.groupby(\"date_label\")[col_list].count().rsub(df.groupby(\"date_label\")[col_list].size(), axis=0)"
   ]
  },
  {
   "cell_type": "code",
   "execution_count": 54,
   "metadata": {},
   "outputs": [
    {
     "data": {
      "text/html": [
       "<div>\n",
       "<style scoped>\n",
       "    .dataframe tbody tr th:only-of-type {\n",
       "        vertical-align: middle;\n",
       "    }\n",
       "\n",
       "    .dataframe tbody tr th {\n",
       "        vertical-align: top;\n",
       "    }\n",
       "\n",
       "    .dataframe thead th {\n",
       "        text-align: right;\n",
       "    }\n",
       "</style>\n",
       "<table border=\"1\" class=\"dataframe\">\n",
       "  <thead>\n",
       "    <tr style=\"text-align: right;\">\n",
       "      <th></th>\n",
       "      <th>value_95_ci_low</th>\n",
       "      <th>value_95_ci_high</th>\n",
       "    </tr>\n",
       "    <tr>\n",
       "      <th>geo_label_city</th>\n",
       "      <th></th>\n",
       "      <th></th>\n",
       "    </tr>\n",
       "  </thead>\n",
       "  <tbody>\n",
       "    <tr>\n",
       "      <th>Austin</th>\n",
       "      <td>78</td>\n",
       "      <td>78</td>\n",
       "    </tr>\n",
       "    <tr>\n",
       "      <th>Baltimore</th>\n",
       "      <td>150</td>\n",
       "      <td>150</td>\n",
       "    </tr>\n",
       "    <tr>\n",
       "      <th>Boston</th>\n",
       "      <td>133</td>\n",
       "      <td>133</td>\n",
       "    </tr>\n",
       "    <tr>\n",
       "      <th>Charlotte</th>\n",
       "      <td>154</td>\n",
       "      <td>154</td>\n",
       "    </tr>\n",
       "    <tr>\n",
       "      <th>Chicago</th>\n",
       "      <td>143</td>\n",
       "      <td>143</td>\n",
       "    </tr>\n",
       "    <tr>\n",
       "      <th>Cleveland</th>\n",
       "      <td>142</td>\n",
       "      <td>142</td>\n",
       "    </tr>\n",
       "    <tr>\n",
       "      <th>Columbus</th>\n",
       "      <td>78</td>\n",
       "      <td>78</td>\n",
       "    </tr>\n",
       "    <tr>\n",
       "      <th>Dallas</th>\n",
       "      <td>150</td>\n",
       "      <td>150</td>\n",
       "    </tr>\n",
       "    <tr>\n",
       "      <th>Denver</th>\n",
       "      <td>78</td>\n",
       "      <td>78</td>\n",
       "    </tr>\n",
       "    <tr>\n",
       "      <th>Detroit</th>\n",
       "      <td>132</td>\n",
       "      <td>132</td>\n",
       "    </tr>\n",
       "    <tr>\n",
       "      <th>El Paso</th>\n",
       "      <td>78</td>\n",
       "      <td>78</td>\n",
       "    </tr>\n",
       "    <tr>\n",
       "      <th>Fort Worth</th>\n",
       "      <td>159</td>\n",
       "      <td>159</td>\n",
       "    </tr>\n",
       "    <tr>\n",
       "      <th>Houston</th>\n",
       "      <td>134</td>\n",
       "      <td>134</td>\n",
       "    </tr>\n",
       "    <tr>\n",
       "      <th>Indianapolis</th>\n",
       "      <td>78</td>\n",
       "      <td>78</td>\n",
       "    </tr>\n",
       "    <tr>\n",
       "      <th>Kansas City</th>\n",
       "      <td>78</td>\n",
       "      <td>78</td>\n",
       "    </tr>\n",
       "    <tr>\n",
       "      <th>Las Vegas</th>\n",
       "      <td>122</td>\n",
       "      <td>122</td>\n",
       "    </tr>\n",
       "    <tr>\n",
       "      <th>Long Beach</th>\n",
       "      <td>78</td>\n",
       "      <td>78</td>\n",
       "    </tr>\n",
       "    <tr>\n",
       "      <th>Los Angeles</th>\n",
       "      <td>134</td>\n",
       "      <td>134</td>\n",
       "    </tr>\n",
       "    <tr>\n",
       "      <th>Louisville</th>\n",
       "      <td>78</td>\n",
       "      <td>78</td>\n",
       "    </tr>\n",
       "    <tr>\n",
       "      <th>Memphis</th>\n",
       "      <td>78</td>\n",
       "      <td>78</td>\n",
       "    </tr>\n",
       "    <tr>\n",
       "      <th>Milwaukee</th>\n",
       "      <td>78</td>\n",
       "      <td>78</td>\n",
       "    </tr>\n",
       "    <tr>\n",
       "      <th>Minneapolis</th>\n",
       "      <td>78</td>\n",
       "      <td>78</td>\n",
       "    </tr>\n",
       "    <tr>\n",
       "      <th>New York City</th>\n",
       "      <td>146</td>\n",
       "      <td>134</td>\n",
       "    </tr>\n",
       "    <tr>\n",
       "      <th>Oakland</th>\n",
       "      <td>163</td>\n",
       "      <td>163</td>\n",
       "    </tr>\n",
       "    <tr>\n",
       "      <th>Oklahoma City</th>\n",
       "      <td>78</td>\n",
       "      <td>78</td>\n",
       "    </tr>\n",
       "    <tr>\n",
       "      <th>Philadelphia</th>\n",
       "      <td>134</td>\n",
       "      <td>134</td>\n",
       "    </tr>\n",
       "    <tr>\n",
       "      <th>Phoenix</th>\n",
       "      <td>78</td>\n",
       "      <td>78</td>\n",
       "    </tr>\n",
       "    <tr>\n",
       "      <th>Portland</th>\n",
       "      <td>177</td>\n",
       "      <td>177</td>\n",
       "    </tr>\n",
       "    <tr>\n",
       "      <th>San Antonio</th>\n",
       "      <td>78</td>\n",
       "      <td>78</td>\n",
       "    </tr>\n",
       "    <tr>\n",
       "      <th>San Diego</th>\n",
       "      <td>134</td>\n",
       "      <td>134</td>\n",
       "    </tr>\n",
       "    <tr>\n",
       "      <th>San Francisco</th>\n",
       "      <td>145</td>\n",
       "      <td>145</td>\n",
       "    </tr>\n",
       "    <tr>\n",
       "      <th>San Jose</th>\n",
       "      <td>78</td>\n",
       "      <td>78</td>\n",
       "    </tr>\n",
       "    <tr>\n",
       "      <th>Seattle</th>\n",
       "      <td>153</td>\n",
       "      <td>153</td>\n",
       "    </tr>\n",
       "    <tr>\n",
       "      <th>Tucson</th>\n",
       "      <td>78</td>\n",
       "      <td>78</td>\n",
       "    </tr>\n",
       "    <tr>\n",
       "      <th>U.S. Total</th>\n",
       "      <td>182</td>\n",
       "      <td>182</td>\n",
       "    </tr>\n",
       "    <tr>\n",
       "      <th>Washington</th>\n",
       "      <td>142</td>\n",
       "      <td>142</td>\n",
       "    </tr>\n",
       "  </tbody>\n",
       "</table>\n",
       "</div>"
      ],
      "text/plain": [
       "                value_95_ci_low  value_95_ci_high\n",
       "geo_label_city                                   \n",
       "Austin                       78                78\n",
       "Baltimore                   150               150\n",
       "Boston                      133               133\n",
       "Charlotte                   154               154\n",
       "Chicago                     143               143\n",
       "Cleveland                   142               142\n",
       "Columbus                     78                78\n",
       "Dallas                      150               150\n",
       "Denver                       78                78\n",
       "Detroit                     132               132\n",
       "El Paso                      78                78\n",
       "Fort Worth                  159               159\n",
       "Houston                     134               134\n",
       "Indianapolis                 78                78\n",
       "Kansas City                  78                78\n",
       "Las Vegas                   122               122\n",
       "Long Beach                   78                78\n",
       "Los Angeles                 134               134\n",
       "Louisville                   78                78\n",
       "Memphis                      78                78\n",
       "Milwaukee                    78                78\n",
       "Minneapolis                  78                78\n",
       "New York City               146               134\n",
       "Oakland                     163               163\n",
       "Oklahoma City                78                78\n",
       "Philadelphia                134               134\n",
       "Phoenix                      78                78\n",
       "Portland                    177               177\n",
       "San Antonio                  78                78\n",
       "San Diego                   134               134\n",
       "San Francisco               145               145\n",
       "San Jose                     78                78\n",
       "Seattle                     153               153\n",
       "Tucson                       78                78\n",
       "U.S. Total                  182               182\n",
       "Washington                  142               142"
      ]
     },
     "execution_count": 54,
     "metadata": {},
     "output_type": "execute_result"
    }
   ],
   "source": [
    "df.groupby(\"geo_label_city\")[col_list].count().rsub(df.groupby(\"geo_label_city\")[col_list].size(), axis=0)"
   ]
  },
  {
   "cell_type": "code",
   "execution_count": 55,
   "metadata": {},
   "outputs": [
    {
     "data": {
      "text/html": [
       "<div>\n",
       "<style scoped>\n",
       "    .dataframe tbody tr th:only-of-type {\n",
       "        vertical-align: middle;\n",
       "    }\n",
       "\n",
       "    .dataframe tbody tr th {\n",
       "        vertical-align: top;\n",
       "    }\n",
       "\n",
       "    .dataframe thead th {\n",
       "        text-align: right;\n",
       "    }\n",
       "</style>\n",
       "<table border=\"1\" class=\"dataframe\">\n",
       "  <thead>\n",
       "    <tr style=\"text-align: right;\">\n",
       "      <th></th>\n",
       "      <th>value_95_ci_low</th>\n",
       "      <th>value_95_ci_high</th>\n",
       "    </tr>\n",
       "    <tr>\n",
       "      <th>date_label</th>\n",
       "      <th></th>\n",
       "      <th></th>\n",
       "    </tr>\n",
       "  </thead>\n",
       "  <tbody>\n",
       "    <tr>\n",
       "      <th>2010.0</th>\n",
       "      <td>3658</td>\n",
       "      <td>3658</td>\n",
       "    </tr>\n",
       "    <tr>\n",
       "      <th>2011.0</th>\n",
       "      <td>4262</td>\n",
       "      <td>4263</td>\n",
       "    </tr>\n",
       "    <tr>\n",
       "      <th>2012.0</th>\n",
       "      <td>3699</td>\n",
       "      <td>3700</td>\n",
       "    </tr>\n",
       "    <tr>\n",
       "      <th>2013.0</th>\n",
       "      <td>4435</td>\n",
       "      <td>4436</td>\n",
       "    </tr>\n",
       "    <tr>\n",
       "      <th>2014.0</th>\n",
       "      <td>3759</td>\n",
       "      <td>3760</td>\n",
       "    </tr>\n",
       "    <tr>\n",
       "      <th>2015.0</th>\n",
       "      <td>4447</td>\n",
       "      <td>4448</td>\n",
       "    </tr>\n",
       "    <tr>\n",
       "      <th>2016.0</th>\n",
       "      <td>3842</td>\n",
       "      <td>3843</td>\n",
       "    </tr>\n",
       "    <tr>\n",
       "      <th>2017.0</th>\n",
       "      <td>4607</td>\n",
       "      <td>4608</td>\n",
       "    </tr>\n",
       "    <tr>\n",
       "      <th>2018.0</th>\n",
       "      <td>3857</td>\n",
       "      <td>3858</td>\n",
       "    </tr>\n",
       "    <tr>\n",
       "      <th>2019.0</th>\n",
       "      <td>4365</td>\n",
       "      <td>4366</td>\n",
       "    </tr>\n",
       "    <tr>\n",
       "      <th>2020.0</th>\n",
       "      <td>3797</td>\n",
       "      <td>3798</td>\n",
       "    </tr>\n",
       "    <tr>\n",
       "      <th>2021.0</th>\n",
       "      <td>3785</td>\n",
       "      <td>3786</td>\n",
       "    </tr>\n",
       "    <tr>\n",
       "      <th>2022.0</th>\n",
       "      <td>3662</td>\n",
       "      <td>3663</td>\n",
       "    </tr>\n",
       "  </tbody>\n",
       "</table>\n",
       "</div>"
      ],
      "text/plain": [
       "            value_95_ci_low  value_95_ci_high\n",
       "date_label                                   \n",
       "2010.0                 3658              3658\n",
       "2011.0                 4262              4263\n",
       "2012.0                 3699              3700\n",
       "2013.0                 4435              4436\n",
       "2014.0                 3759              3760\n",
       "2015.0                 4447              4448\n",
       "2016.0                 3842              3843\n",
       "2017.0                 4607              4608\n",
       "2018.0                 3857              3858\n",
       "2019.0                 4365              4366\n",
       "2020.0                 3797              3798\n",
       "2021.0                 3785              3786\n",
       "2022.0                 3662              3663"
      ]
     },
     "execution_count": 55,
     "metadata": {},
     "output_type": "execute_result"
    }
   ],
   "source": [
    "df.groupby(\"date_label\")[col_list].count()"
   ]
  },
  {
   "cell_type": "code",
   "execution_count": 56,
   "metadata": {},
   "outputs": [
    {
     "data": {
      "text/plain": [
       "date_label\n",
       "2010.0    3949\n",
       "2011.0    4554\n",
       "2012.0    4087\n",
       "2013.0    4705\n",
       "2014.0    4147\n",
       "2015.0    4725\n",
       "2016.0    4230\n",
       "2017.0    4875\n",
       "2018.0    4245\n",
       "2019.0    4753\n",
       "2020.0    4185\n",
       "2021.0    4010\n",
       "2022.0    3887\n",
       "dtype: int64"
      ]
     },
     "execution_count": 56,
     "metadata": {},
     "output_type": "execute_result"
    }
   ],
   "source": [
    "df.groupby(\"date_label\")[col_list].size()"
   ]
  },
  {
   "cell_type": "code",
   "execution_count": 57,
   "metadata": {},
   "outputs": [],
   "source": [
    "#CI가 null인것 구하기 위한 함수\n",
    "def get_nullcount(df,groupby,cols=None):\n",
    "    grouped = df.groupby(groupby)\n",
    "    if cols:\n",
    "        grouped = grouped[cols]\n",
    "    return grouped.count().rsub(grouped.size(),axis=0)\n",
    "\n",
    "#CI가 null인것/전체 비율 구하기 위한 함수\n",
    "def get_nullprop(df,groupby, cols=None):\n",
    "    grouped = df.groupby(groupby)\n",
    "    if cols:\n",
    "        grouped = grouped[cols]\n",
    "    count = grouped.size().to_frame()\n",
    "    count = pd.concat([count] * 2, axis=1)\n",
    "    count.columns = [\"value_95_ci_high\", \"value_95_ci_low\"]\n",
    "    return count.rdiv(get_nullcount(df,groupby,cols=cols))"
   ]
  },
  {
   "cell_type": "code",
   "execution_count": 58,
   "metadata": {},
   "outputs": [
    {
     "data": {
      "text/plain": [
       "[Text(0.5, 0, 'City'), Text(0, 0.5, 'Proportion of null CI')]"
      ]
     },
     "execution_count": 58,
     "metadata": {},
     "output_type": "execute_result"
    },
    {
     "data": {
      "image/png": "[encoded data removed]",
      "text/plain": [
       "<Figure size 2000x1000 with 6 Axes>"
      ]
     },
     "metadata": {},
     "output_type": "display_data"
    }
   ],
   "source": [
    "import seaborn as sns\n",
    "import matplotlib.pyplot as plt\n",
    "fig, axes = plt.subplots(3,2,figsize=(20,10))\n",
    "\n",
    "# 연도별 CI가 null 인것 count\n",
    "null_count_year = get_nullcount(df_city,\"date_label\",col_list)\n",
    "null_count_year.plot.bar(ax=axes[0][0])\n",
    "axes[0][0].set(xlabel=\"Year\", ylabel=\"Count of null CI\")\n",
    "\n",
    "# 연도 별 CI가 null / 전체 비율\n",
    "null_prop_year = get_nullprop(df_city,\"date_label\",col_list) #count_year.rdiv(null_count_year, axis=0)\n",
    "null_prop_year.plot.bar(ax=axes[1][0])\n",
    "null_prop_year.plot.box(ax=axes[2][0])\n",
    "axes[1][0].set(xlabel=\"Year\", ylabel=\"Proportion of null CI\")\n",
    "\n",
    "# 도시별 CI가 null 인것 count\n",
    "null_count_city = get_nullcount(df_city,\"geo_label_city\",col_list) #df_city.groupby(\"geo_label_city\")[col_list].count().rsub(df_city.groupby(\"geo_label_city\")[col_list].size(), axis=0)\n",
    "null_count_city.plot.bar(ax=axes[0][1])\n",
    "axes[0][1].set(xlabel=\"City\", ylabel=\"Count of null CI\")\n",
    "\n",
    "# 도시 별 CI가 null / 전체 비율\n",
    "null_prop_city = get_nullprop(df_city,\"geo_label_city\",col_list)\n",
    "null_prop_city.plot.bar(ax=axes[1][1])\n",
    "null_prop_city.plot.box(ax=axes[2][1])\n",
    "axes[1][1].set(xlabel=\"City\", ylabel=\"Proportion of null CI\")\n"
   ]
  },
  {
   "cell_type": "code",
   "execution_count": 59,
   "metadata": {},
   "outputs": [
    {
     "data": {
      "image/png": "[encoded data removed]",
      "text/plain": [
       "<Figure size 600x1800 with 3 Axes>"
      ]
     },
     "metadata": {},
     "output_type": "display_data"
    }
   ],
   "source": [
    "import seaborn as sns\n",
    "import matplotlib.pyplot as plt\n",
    "fig, axes = plt.subplots(3,1,figsize=(6,18))\n",
    "\n",
    "\n",
    "# Metric_label 별 CI 가 null인것 count\n",
    "null_count_label = get_nullcount(df_city,\"metric_label\",cols=col_list)\n",
    "null_count_label.plot.bar(ax=axes[0])\n",
    "axes[0].set(xlabel=\"Label\", ylabel=\"Count of null CI\")\n",
    "\n",
    "# Metric_label 별 CI 가 null인것 비율\n",
    "null_prop_label = get_nullprop(df_city,\"metric_label\",cols=col_list) \n",
    "null_prop_label.plot.bar(ax=axes[1])\n",
    "axes[1].set(xlabel=\"Label\", ylabel=\"Proportion of null CI\")\n",
    "\n",
    "# Metric_label 별 CI 가 null인것 중 0% 또는 100%가 아닌 것의 비율\n",
    "null_some_label = null_prop_label[(null_prop_label['value_95_ci_high'] != 1.0) & null_prop_label['value_95_ci_high'] != 0.0]\n",
    "null_some_label.plot.bar(ax=axes[2])\n",
    "axes[2].set(xlabel=\"Label\", ylabel=\"Proportion of null CI\", title=\"Proportion of null CI where its not 100% or 0%\")\n",
    "\n",
    "plt.show()"
   ]
  },
  {
   "cell_type": "code",
   "execution_count": 60,
   "metadata": {},
   "outputs": [
    {
     "data": {
      "text/html": [
       "<div>\n",
       "<style scoped>\n",
       "    .dataframe tbody tr th:only-of-type {\n",
       "        vertical-align: middle;\n",
       "    }\n",
       "\n",
       "    .dataframe tbody tr th {\n",
       "        vertical-align: top;\n",
       "    }\n",
       "\n",
       "    .dataframe thead th {\n",
       "        text-align: right;\n",
       "    }\n",
       "</style>\n",
       "<table border=\"1\" class=\"dataframe\">\n",
       "  <thead>\n",
       "    <tr style=\"text-align: right;\">\n",
       "      <th></th>\n",
       "      <th>value_95_ci_low</th>\n",
       "      <th>value_95_ci_high</th>\n",
       "    </tr>\n",
       "    <tr>\n",
       "      <th>metric_label</th>\n",
       "      <th></th>\n",
       "      <th></th>\n",
       "    </tr>\n",
       "  </thead>\n",
       "  <tbody>\n",
       "    <tr>\n",
       "      <th>Deaths | Deaths from All Causes</th>\n",
       "      <td>12</td>\n",
       "      <td>0</td>\n",
       "    </tr>\n",
       "  </tbody>\n",
       "</table>\n",
       "</div>"
      ],
      "text/plain": [
       "                                 value_95_ci_low  value_95_ci_high\n",
       "metric_label                                                      \n",
       "Deaths | Deaths from All Causes               12                 0"
      ]
     },
     "execution_count": 60,
     "metadata": {},
     "output_type": "execute_result"
    }
   ],
   "source": [
    "# ci_low 와 ci_high의 null 값 갯수가 다른것\n",
    "null_count_label[null_count_label['value_95_ci_high'].notna() & (null_count_label['value_95_ci_high'] != null_count_label['value_95_ci_low'])]"
   ]
  },
  {
   "cell_type": "code",
   "execution_count": 61,
   "metadata": {},
   "outputs": [
    {
     "data": {
      "text/html": [
       "<div>\n",
       "<style scoped>\n",
       "    .dataframe tbody tr th:only-of-type {\n",
       "        vertical-align: middle;\n",
       "    }\n",
       "\n",
       "    .dataframe tbody tr th {\n",
       "        vertical-align: top;\n",
       "    }\n",
       "\n",
       "    .dataframe thead th {\n",
       "        text-align: right;\n",
       "    }\n",
       "</style>\n",
       "<table border=\"1\" class=\"dataframe\">\n",
       "  <thead>\n",
       "    <tr style=\"text-align: right;\">\n",
       "      <th></th>\n",
       "      <th>value_95_ci_low</th>\n",
       "      <th>value_95_ci_high</th>\n",
       "    </tr>\n",
       "    <tr>\n",
       "      <th>metric_label</th>\n",
       "      <th></th>\n",
       "      <th></th>\n",
       "    </tr>\n",
       "  </thead>\n",
       "  <tbody>\n",
       "    <tr>\n",
       "      <th>Cancer | All Cancer Deaths</th>\n",
       "      <td>0</td>\n",
       "      <td>0</td>\n",
       "    </tr>\n",
       "    <tr>\n",
       "      <th>Cancer | Breast Cancer Deaths</th>\n",
       "      <td>0</td>\n",
       "      <td>0</td>\n",
       "    </tr>\n",
       "    <tr>\n",
       "      <th>Cancer | Colorectal Cancer Deaths</th>\n",
       "      <td>0</td>\n",
       "      <td>0</td>\n",
       "    </tr>\n",
       "    <tr>\n",
       "      <th>Cancer | Lung Cancer Deaths</th>\n",
       "      <td>0</td>\n",
       "      <td>0</td>\n",
       "    </tr>\n",
       "    <tr>\n",
       "      <th>Cancer | Prostate Cancer Deaths</th>\n",
       "      <td>0</td>\n",
       "      <td>0</td>\n",
       "    </tr>\n",
       "    <tr>\n",
       "      <th>Cardiovascular Disease | Cardiovascular Disease Deaths</th>\n",
       "      <td>0</td>\n",
       "      <td>0</td>\n",
       "    </tr>\n",
       "    <tr>\n",
       "      <th>Cardiovascular Disease | Heart Disease Deaths</th>\n",
       "      <td>0</td>\n",
       "      <td>0</td>\n",
       "    </tr>\n",
       "    <tr>\n",
       "      <th>Cardiovascular Disease | High Blood Pressure</th>\n",
       "      <td>0</td>\n",
       "      <td>0</td>\n",
       "    </tr>\n",
       "    <tr>\n",
       "      <th>Deaths | Deaths from All Causes</th>\n",
       "      <td>12</td>\n",
       "      <td>0</td>\n",
       "    </tr>\n",
       "    <tr>\n",
       "      <th>Deaths | Premature Death</th>\n",
       "      <td>0</td>\n",
       "      <td>0</td>\n",
       "    </tr>\n",
       "    <tr>\n",
       "      <th>Diabetes and Obesity | Adult Obesity</th>\n",
       "      <td>0</td>\n",
       "      <td>0</td>\n",
       "    </tr>\n",
       "    <tr>\n",
       "      <th>Diabetes and Obesity | Diabetes</th>\n",
       "      <td>0</td>\n",
       "      <td>0</td>\n",
       "    </tr>\n",
       "    <tr>\n",
       "      <th>Diabetes and Obesity | Diabetes Deaths</th>\n",
       "      <td>0</td>\n",
       "      <td>0</td>\n",
       "    </tr>\n",
       "    <tr>\n",
       "      <th>Diabetes and Obesity | Teen Obesity</th>\n",
       "      <td>142</td>\n",
       "      <td>142</td>\n",
       "    </tr>\n",
       "    <tr>\n",
       "      <th>Dietary Quality | Teen Breakfast</th>\n",
       "      <td>143</td>\n",
       "      <td>143</td>\n",
       "    </tr>\n",
       "    <tr>\n",
       "      <th>Dietary Quality | Teen Soda</th>\n",
       "      <td>141</td>\n",
       "      <td>141</td>\n",
       "    </tr>\n",
       "    <tr>\n",
       "      <th>Disability | People with Disabilities</th>\n",
       "      <td>2730</td>\n",
       "      <td>2730</td>\n",
       "    </tr>\n",
       "    <tr>\n",
       "      <th>Physical Activity | Adult Physical Inactivity</th>\n",
       "      <td>0</td>\n",
       "      <td>0</td>\n",
       "    </tr>\n",
       "    <tr>\n",
       "      <th>Physical Activity | Teen Computer Time</th>\n",
       "      <td>145</td>\n",
       "      <td>145</td>\n",
       "    </tr>\n",
       "    <tr>\n",
       "      <th>Physical Activity | Teen Physical Activity</th>\n",
       "      <td>143</td>\n",
       "      <td>143</td>\n",
       "    </tr>\n",
       "    <tr>\n",
       "      <th>Physical Activity | Teen Physical Education</th>\n",
       "      <td>121</td>\n",
       "      <td>121</td>\n",
       "    </tr>\n",
       "    <tr>\n",
       "      <th>Physical Activity | Teen Physical Inactivity</th>\n",
       "      <td>135</td>\n",
       "      <td>135</td>\n",
       "    </tr>\n",
       "    <tr>\n",
       "      <th>Physical Activity | Teen TV Time</th>\n",
       "      <td>145</td>\n",
       "      <td>145</td>\n",
       "    </tr>\n",
       "    <tr>\n",
       "      <th>Respiratory Disease | Teen Asthma</th>\n",
       "      <td>138</td>\n",
       "      <td>138</td>\n",
       "    </tr>\n",
       "  </tbody>\n",
       "</table>\n",
       "</div>"
      ],
      "text/plain": [
       "                                                    value_95_ci_low  \\\n",
       "metric_label                                                          \n",
       "Cancer | All Cancer Deaths                                        0   \n",
       "Cancer | Breast Cancer Deaths                                     0   \n",
       "Cancer | Colorectal Cancer Deaths                                 0   \n",
       "Cancer | Lung Cancer Deaths                                       0   \n",
       "Cancer | Prostate Cancer Deaths                                   0   \n",
       "Cardiovascular Disease | Cardiovascular Disease...                0   \n",
       "Cardiovascular Disease | Heart Disease Deaths                     0   \n",
       "Cardiovascular Disease | High Blood Pressure                      0   \n",
       "Deaths | Deaths from All Causes                                  12   \n",
       "Deaths | Premature Death                                          0   \n",
       "Diabetes and Obesity | Adult Obesity                              0   \n",
       "Diabetes and Obesity | Diabetes                                   0   \n",
       "Diabetes and Obesity | Diabetes Deaths                            0   \n",
       "Diabetes and Obesity | Teen Obesity                             142   \n",
       "Dietary Quality | Teen Breakfast                                143   \n",
       "Dietary Quality | Teen Soda                                     141   \n",
       "Disability | People with Disabilities                          2730   \n",
       "Physical Activity | Adult Physical Inactivity                     0   \n",
       "Physical Activity | Teen Computer Time                          145   \n",
       "Physical Activity | Teen Physical Activity                      143   \n",
       "Physical Activity | Teen Physical Education                     121   \n",
       "Physical Activity | Teen Physical Inactivity                    135   \n",
       "Physical Activity | Teen TV Time                                145   \n",
       "Respiratory Disease | Teen Asthma                               138   \n",
       "\n",
       "                                                    value_95_ci_high  \n",
       "metric_label                                                          \n",
       "Cancer | All Cancer Deaths                                         0  \n",
       "Cancer | Breast Cancer Deaths                                      0  \n",
       "Cancer | Colorectal Cancer Deaths                                  0  \n",
       "Cancer | Lung Cancer Deaths                                        0  \n",
       "Cancer | Prostate Cancer Deaths                                    0  \n",
       "Cardiovascular Disease | Cardiovascular Disease...                 0  \n",
       "Cardiovascular Disease | Heart Disease Deaths                      0  \n",
       "Cardiovascular Disease | High Blood Pressure                       0  \n",
       "Deaths | Deaths from All Causes                                    0  \n",
       "Deaths | Premature Death                                           0  \n",
       "Diabetes and Obesity | Adult Obesity                               0  \n",
       "Diabetes and Obesity | Diabetes                                    0  \n",
       "Diabetes and Obesity | Diabetes Deaths                             0  \n",
       "Diabetes and Obesity | Teen Obesity                              142  \n",
       "Dietary Quality | Teen Breakfast                                 143  \n",
       "Dietary Quality | Teen Soda                                      141  \n",
       "Disability | People with Disabilities                           2730  \n",
       "Physical Activity | Adult Physical Inactivity                      0  \n",
       "Physical Activity | Teen Computer Time                           145  \n",
       "Physical Activity | Teen Physical Activity                       143  \n",
       "Physical Activity | Teen Physical Education                      121  \n",
       "Physical Activity | Teen Physical Inactivity                     135  \n",
       "Physical Activity | Teen TV Time                                 145  \n",
       "Respiratory Disease | Teen Asthma                                138  "
      ]
     },
     "execution_count": 61,
     "metadata": {},
     "output_type": "execute_result"
    }
   ],
   "source": [
    "# \n",
    "null_count_label"
   ]
  },
  {
   "cell_type": "code",
   "execution_count": 62,
   "metadata": {},
   "outputs": [
    {
     "data": {
      "text/plain": [
       "9"
      ]
     },
     "execution_count": 62,
     "metadata": {},
     "output_type": "execute_result"
    }
   ],
   "source": [
    "len(null_some_label.index.to_list())"
   ]
  },
  {
   "cell_type": "code",
   "execution_count": 63,
   "metadata": {},
   "outputs": [
    {
     "name": "stdout",
     "output_type": "stream",
     "text": [
      "date_label\n",
      "2010.0     67\n",
      "2011.0     67\n",
      "2012.0    163\n",
      "2013.0     45\n",
      "2014.0    163\n",
      "2015.0     53\n",
      "2016.0    163\n",
      "2017.0     43\n",
      "2018.0    163\n",
      "2019.0    163\n",
      "2020.0    163\n",
      "dtype: int64\n"
     ]
    },
    {
     "data": {
      "text/plain": [
       "<Axes: xlabel='date_label'>"
      ]
     },
     "execution_count": 63,
     "metadata": {},
     "output_type": "execute_result"
    },
    {
     "data": {
      "image/png": "[encoded data removed]",
      "text/plain": [
       "<Figure size 1200x1600 with 4 Axes>"
      ]
     },
     "metadata": {},
     "output_type": "display_data"
    }
   ],
   "source": [
    "# CI null 비율이 0/1이 아닌것에 대한 연도/도시 세부 파악\n",
    "\n",
    "# df_city.where(df_city[\"metric_label\"].isin(null_some_label.index.to_list()))\n",
    "# df_city[df_city[\"metric_label\"].isin(null_some_label.index.to_list()) & df_city[\"value_95_ci_high\"].isna()].groupby([\"geo_label_city\", \"date_label\"]).count()\n",
    "fig, axes = plt.subplots(2,2,figsize=(12,16))\n",
    "df_somena = df_city[df_city[\"date_label\"].isin(null_some_label.index.to_list()) & df_city[\"value_95_ci_high\"].isna()]\n",
    "\n",
    "print(df_somena.groupby(\"date_label\").size())\n",
    "\n",
    "get_nullcount(df_somena, \"date_label\", cols=col_list).plot.bar(ax=axes[0][0])\n",
    "# get_nullprop(df_somena, \"date_label\", cols=col_list).plot.bar(ax=axes[0][1])\n"
   ]
  },
  {
   "cell_type": "code",
   "execution_count": 64,
   "metadata": {},
   "outputs": [
    {
     "data": {
      "text/plain": [
       "metric_label\n",
       "Cancer | All Cancer Deaths                                6220\n",
       "Cancer | Breast Cancer Deaths                             1773\n",
       "Cancer | Colorectal Cancer Deaths                         5044\n",
       "Cancer | Lung Cancer Deaths                               5475\n",
       "Cancer | Prostate Cancer Deaths                           1713\n",
       "Cardiovascular Disease | Cardiovascular Disease Deaths    6182\n",
       "Cardiovascular Disease | Heart Disease Deaths             6125\n",
       "Cardiovascular Disease | High Blood Pressure               455\n",
       "Deaths | Deaths from All Causes                           6231\n",
       "Deaths | Premature Death                                  2635\n",
       "Diabetes and Obesity | Adult Obesity                       455\n",
       "Diabetes and Obesity | Diabetes                            455\n",
       "Diabetes and Obesity | Diabetes Deaths                    5476\n",
       "Diabetes and Obesity | Teen Obesity                        560\n",
       "Dietary Quality | Teen Breakfast                           475\n",
       "Dietary Quality | Teen Soda                                507\n",
       "Disability | People with Disabilities                     2730\n",
       "Physical Activity | Adult Physical Inactivity              455\n",
       "Physical Activity | Teen Computer Time                     518\n",
       "Physical Activity | Teen Physical Activity                 555\n",
       "Physical Activity | Teen Physical Education                444\n",
       "Physical Activity | Teen Physical Inactivity               538\n",
       "Physical Activity | Teen TV Time                           544\n",
       "Respiratory Disease | Teen Asthma                          506\n",
       "dtype: int64"
      ]
     },
     "execution_count": 64,
     "metadata": {},
     "output_type": "execute_result"
    }
   ],
   "source": [
    "df_city.groupby(\"metric_label\")[col_list].size()"
   ]
  },
  {
   "cell_type": "code",
   "execution_count": 65,
   "metadata": {},
   "outputs": [
    {
     "data": {
      "text/html": [
       "<div>\n",
       "<style scoped>\n",
       "    .dataframe tbody tr th:only-of-type {\n",
       "        vertical-align: middle;\n",
       "    }\n",
       "\n",
       "    .dataframe tbody tr th {\n",
       "        vertical-align: top;\n",
       "    }\n",
       "\n",
       "    .dataframe thead th {\n",
       "        text-align: right;\n",
       "    }\n",
       "</style>\n",
       "<table border=\"1\" class=\"dataframe\">\n",
       "  <thead>\n",
       "    <tr style=\"text-align: right;\">\n",
       "      <th></th>\n",
       "      <th>value_95_ci_low</th>\n",
       "      <th>value_95_ci_high</th>\n",
       "    </tr>\n",
       "  </thead>\n",
       "  <tbody>\n",
       "    <tr>\n",
       "      <th>count</th>\n",
       "      <td>35.000000</td>\n",
       "      <td>35.000000</td>\n",
       "    </tr>\n",
       "    <tr>\n",
       "      <th>mean</th>\n",
       "      <td>114.142857</td>\n",
       "      <td>113.800000</td>\n",
       "    </tr>\n",
       "    <tr>\n",
       "      <th>std</th>\n",
       "      <td>34.973219</td>\n",
       "      <td>34.709551</td>\n",
       "    </tr>\n",
       "    <tr>\n",
       "      <th>min</th>\n",
       "      <td>78.000000</td>\n",
       "      <td>78.000000</td>\n",
       "    </tr>\n",
       "    <tr>\n",
       "      <th>25%</th>\n",
       "      <td>78.000000</td>\n",
       "      <td>78.000000</td>\n",
       "    </tr>\n",
       "    <tr>\n",
       "      <th>50%</th>\n",
       "      <td>132.000000</td>\n",
       "      <td>132.000000</td>\n",
       "    </tr>\n",
       "    <tr>\n",
       "      <th>75%</th>\n",
       "      <td>144.000000</td>\n",
       "      <td>142.500000</td>\n",
       "    </tr>\n",
       "    <tr>\n",
       "      <th>max</th>\n",
       "      <td>177.000000</td>\n",
       "      <td>177.000000</td>\n",
       "    </tr>\n",
       "  </tbody>\n",
       "</table>\n",
       "</div>"
      ],
      "text/plain": [
       "       value_95_ci_low  value_95_ci_high\n",
       "count        35.000000         35.000000\n",
       "mean        114.142857        113.800000\n",
       "std          34.973219         34.709551\n",
       "min          78.000000         78.000000\n",
       "25%          78.000000         78.000000\n",
       "50%         132.000000        132.000000\n",
       "75%         144.000000        142.500000\n",
       "max         177.000000        177.000000"
      ]
     },
     "execution_count": 65,
     "metadata": {},
     "output_type": "execute_result"
    }
   ],
   "source": [
    "null_count_city.describe()\n"
   ]
  },
  {
   "cell_type": "code",
   "execution_count": 66,
   "metadata": {},
   "outputs": [
    {
     "data": {
      "text/html": [
       "<div>\n",
       "<style scoped>\n",
       "    .dataframe tbody tr th:only-of-type {\n",
       "        vertical-align: middle;\n",
       "    }\n",
       "\n",
       "    .dataframe tbody tr th {\n",
       "        vertical-align: top;\n",
       "    }\n",
       "\n",
       "    .dataframe thead th {\n",
       "        text-align: right;\n",
       "    }\n",
       "</style>\n",
       "<table border=\"1\" class=\"dataframe\">\n",
       "  <thead>\n",
       "    <tr style=\"text-align: right;\">\n",
       "      <th></th>\n",
       "      <th>value_95_ci_high</th>\n",
       "      <th>value_95_ci_low</th>\n",
       "    </tr>\n",
       "  </thead>\n",
       "  <tbody>\n",
       "    <tr>\n",
       "      <th>count</th>\n",
       "      <td>13.000000</td>\n",
       "      <td>13.000000</td>\n",
       "    </tr>\n",
       "    <tr>\n",
       "      <th>mean</th>\n",
       "      <td>0.071440</td>\n",
       "      <td>0.071654</td>\n",
       "    </tr>\n",
       "    <tr>\n",
       "      <th>std</th>\n",
       "      <td>0.016843</td>\n",
       "      <td>0.016849</td>\n",
       "    </tr>\n",
       "    <tr>\n",
       "      <th>min</th>\n",
       "      <td>0.052143</td>\n",
       "      <td>0.052350</td>\n",
       "    </tr>\n",
       "    <tr>\n",
       "      <th>25%</th>\n",
       "      <td>0.054464</td>\n",
       "      <td>0.054677</td>\n",
       "    </tr>\n",
       "    <tr>\n",
       "      <th>50%</th>\n",
       "      <td>0.070555</td>\n",
       "      <td>0.070555</td>\n",
       "    </tr>\n",
       "    <tr>\n",
       "      <th>75%</th>\n",
       "      <td>0.088662</td>\n",
       "      <td>0.088899</td>\n",
       "    </tr>\n",
       "    <tr>\n",
       "      <th>max</th>\n",
       "      <td>0.091781</td>\n",
       "      <td>0.092028</td>\n",
       "    </tr>\n",
       "  </tbody>\n",
       "</table>\n",
       "</div>"
      ],
      "text/plain": [
       "       value_95_ci_high  value_95_ci_low\n",
       "count         13.000000        13.000000\n",
       "mean           0.071440         0.071654\n",
       "std            0.016843         0.016849\n",
       "min            0.052143         0.052350\n",
       "25%            0.054464         0.054677\n",
       "50%            0.070555         0.070555\n",
       "75%            0.088662         0.088899\n",
       "max            0.091781         0.092028"
      ]
     },
     "execution_count": 66,
     "metadata": {},
     "output_type": "execute_result"
    }
   ],
   "source": [
    "null_prop_year.describe()"
   ]
  },
  {
   "cell_type": "code",
   "execution_count": 67,
   "metadata": {},
   "outputs": [
    {
     "data": {
      "text/html": [
       "<div>\n",
       "<style scoped>\n",
       "    .dataframe tbody tr th:only-of-type {\n",
       "        vertical-align: middle;\n",
       "    }\n",
       "\n",
       "    .dataframe tbody tr th {\n",
       "        vertical-align: top;\n",
       "    }\n",
       "\n",
       "    .dataframe thead th {\n",
       "        text-align: right;\n",
       "    }\n",
       "</style>\n",
       "<table border=\"1\" class=\"dataframe\">\n",
       "  <thead>\n",
       "    <tr style=\"text-align: right;\">\n",
       "      <th></th>\n",
       "      <th>value_95_ci_high</th>\n",
       "      <th>value_95_ci_low</th>\n",
       "    </tr>\n",
       "    <tr>\n",
       "      <th>geo_label_city</th>\n",
       "      <th></th>\n",
       "      <th></th>\n",
       "    </tr>\n",
       "  </thead>\n",
       "  <tbody>\n",
       "    <tr>\n",
       "      <th>Austin</th>\n",
       "      <td>0.049840</td>\n",
       "      <td>0.049840</td>\n",
       "    </tr>\n",
       "    <tr>\n",
       "      <th>Baltimore</th>\n",
       "      <td>0.100739</td>\n",
       "      <td>0.100739</td>\n",
       "    </tr>\n",
       "    <tr>\n",
       "      <th>Boston</th>\n",
       "      <td>0.070745</td>\n",
       "      <td>0.070745</td>\n",
       "    </tr>\n",
       "    <tr>\n",
       "      <th>Charlotte</th>\n",
       "      <td>0.096130</td>\n",
       "      <td>0.096130</td>\n",
       "    </tr>\n",
       "    <tr>\n",
       "      <th>Chicago</th>\n",
       "      <td>0.073108</td>\n",
       "      <td>0.073108</td>\n",
       "    </tr>\n",
       "    <tr>\n",
       "      <th>Cleveland</th>\n",
       "      <td>0.100781</td>\n",
       "      <td>0.100781</td>\n",
       "    </tr>\n",
       "    <tr>\n",
       "      <th>Columbus</th>\n",
       "      <td>0.056727</td>\n",
       "      <td>0.056727</td>\n",
       "    </tr>\n",
       "    <tr>\n",
       "      <th>Dallas</th>\n",
       "      <td>0.087873</td>\n",
       "      <td>0.087873</td>\n",
       "    </tr>\n",
       "    <tr>\n",
       "      <th>Denver</th>\n",
       "      <td>0.050518</td>\n",
       "      <td>0.050518</td>\n",
       "    </tr>\n",
       "    <tr>\n",
       "      <th>Detroit</th>\n",
       "      <td>0.091858</td>\n",
       "      <td>0.091858</td>\n",
       "    </tr>\n",
       "    <tr>\n",
       "      <th>El Paso</th>\n",
       "      <td>0.062802</td>\n",
       "      <td>0.062802</td>\n",
       "    </tr>\n",
       "    <tr>\n",
       "      <th>Fort Worth</th>\n",
       "      <td>0.092334</td>\n",
       "      <td>0.092334</td>\n",
       "    </tr>\n",
       "    <tr>\n",
       "      <th>Houston</th>\n",
       "      <td>0.066567</td>\n",
       "      <td>0.066567</td>\n",
       "    </tr>\n",
       "    <tr>\n",
       "      <th>Indianapolis</th>\n",
       "      <td>0.058340</td>\n",
       "      <td>0.058340</td>\n",
       "    </tr>\n",
       "    <tr>\n",
       "      <th>Kansas City</th>\n",
       "      <td>0.056440</td>\n",
       "      <td>0.056440</td>\n",
       "    </tr>\n",
       "    <tr>\n",
       "      <th>Las Vegas</th>\n",
       "      <td>0.069279</td>\n",
       "      <td>0.069279</td>\n",
       "    </tr>\n",
       "    <tr>\n",
       "      <th>Long Beach</th>\n",
       "      <td>0.048267</td>\n",
       "      <td>0.048267</td>\n",
       "    </tr>\n",
       "    <tr>\n",
       "      <th>Los Angeles</th>\n",
       "      <td>0.068124</td>\n",
       "      <td>0.068124</td>\n",
       "    </tr>\n",
       "    <tr>\n",
       "      <th>Louisville</th>\n",
       "      <td>0.072089</td>\n",
       "      <td>0.072089</td>\n",
       "    </tr>\n",
       "    <tr>\n",
       "      <th>Memphis</th>\n",
       "      <td>0.066270</td>\n",
       "      <td>0.066270</td>\n",
       "    </tr>\n",
       "    <tr>\n",
       "      <th>Milwaukee</th>\n",
       "      <td>0.059002</td>\n",
       "      <td>0.059002</td>\n",
       "    </tr>\n",
       "    <tr>\n",
       "      <th>Minneapolis</th>\n",
       "      <td>0.062802</td>\n",
       "      <td>0.062802</td>\n",
       "    </tr>\n",
       "    <tr>\n",
       "      <th>New York City</th>\n",
       "      <td>0.066206</td>\n",
       "      <td>0.072134</td>\n",
       "    </tr>\n",
       "    <tr>\n",
       "      <th>Oakland</th>\n",
       "      <td>0.089610</td>\n",
       "      <td>0.089610</td>\n",
       "    </tr>\n",
       "    <tr>\n",
       "      <th>Oklahoma City</th>\n",
       "      <td>0.053571</td>\n",
       "      <td>0.053571</td>\n",
       "    </tr>\n",
       "    <tr>\n",
       "      <th>Philadelphia</th>\n",
       "      <td>0.066042</td>\n",
       "      <td>0.066042</td>\n",
       "    </tr>\n",
       "    <tr>\n",
       "      <th>Phoenix</th>\n",
       "      <td>0.047970</td>\n",
       "      <td>0.047970</td>\n",
       "    </tr>\n",
       "    <tr>\n",
       "      <th>Portland</th>\n",
       "      <td>0.109938</td>\n",
       "      <td>0.109938</td>\n",
       "    </tr>\n",
       "    <tr>\n",
       "      <th>San Antonio</th>\n",
       "      <td>0.049904</td>\n",
       "      <td>0.049904</td>\n",
       "    </tr>\n",
       "    <tr>\n",
       "      <th>San Diego</th>\n",
       "      <td>0.065977</td>\n",
       "      <td>0.065977</td>\n",
       "    </tr>\n",
       "    <tr>\n",
       "      <th>San Francisco</th>\n",
       "      <td>0.075758</td>\n",
       "      <td>0.075758</td>\n",
       "    </tr>\n",
       "    <tr>\n",
       "      <th>San Jose</th>\n",
       "      <td>0.049242</td>\n",
       "      <td>0.049242</td>\n",
       "    </tr>\n",
       "    <tr>\n",
       "      <th>Seattle</th>\n",
       "      <td>0.087729</td>\n",
       "      <td>0.087729</td>\n",
       "    </tr>\n",
       "    <tr>\n",
       "      <th>Tucson</th>\n",
       "      <td>0.060700</td>\n",
       "      <td>0.060700</td>\n",
       "    </tr>\n",
       "    <tr>\n",
       "      <th>Washington</th>\n",
       "      <td>0.091084</td>\n",
       "      <td>0.091084</td>\n",
       "    </tr>\n",
       "  </tbody>\n",
       "</table>\n",
       "</div>"
      ],
      "text/plain": [
       "                value_95_ci_high  value_95_ci_low\n",
       "geo_label_city                                   \n",
       "Austin                  0.049840         0.049840\n",
       "Baltimore               0.100739         0.100739\n",
       "Boston                  0.070745         0.070745\n",
       "Charlotte               0.096130         0.096130\n",
       "Chicago                 0.073108         0.073108\n",
       "Cleveland               0.100781         0.100781\n",
       "Columbus                0.056727         0.056727\n",
       "Dallas                  0.087873         0.087873\n",
       "Denver                  0.050518         0.050518\n",
       "Detroit                 0.091858         0.091858\n",
       "El Paso                 0.062802         0.062802\n",
       "Fort Worth              0.092334         0.092334\n",
       "Houston                 0.066567         0.066567\n",
       "Indianapolis            0.058340         0.058340\n",
       "Kansas City             0.056440         0.056440\n",
       "Las Vegas               0.069279         0.069279\n",
       "Long Beach              0.048267         0.048267\n",
       "Los Angeles             0.068124         0.068124\n",
       "Louisville              0.072089         0.072089\n",
       "Memphis                 0.066270         0.066270\n",
       "Milwaukee               0.059002         0.059002\n",
       "Minneapolis             0.062802         0.062802\n",
       "New York City           0.066206         0.072134\n",
       "Oakland                 0.089610         0.089610\n",
       "Oklahoma City           0.053571         0.053571\n",
       "Philadelphia            0.066042         0.066042\n",
       "Phoenix                 0.047970         0.047970\n",
       "Portland                0.109938         0.109938\n",
       "San Antonio             0.049904         0.049904\n",
       "San Diego               0.065977         0.065977\n",
       "San Francisco           0.075758         0.075758\n",
       "San Jose                0.049242         0.049242\n",
       "Seattle                 0.087729         0.087729\n",
       "Tucson                  0.060700         0.060700\n",
       "Washington              0.091084         0.091084"
      ]
     },
     "execution_count": 67,
     "metadata": {},
     "output_type": "execute_result"
    }
   ],
   "source": [
    "count_city = df_city.groupby(\"geo_label_city\")[col_list].size().to_frame()\n",
    "count_city = pd.concat([count_city] * 2, axis=1)\n",
    "count_city.columns = [\"value_95_ci_high\", \"value_95_ci_low\"]\n",
    "count_city.rdiv(null_count_city, axis=0)\n",
    "# pd.merge(df_city.groupby(\"geo_label_city\")[col_list].size().to_frame(),df_city.groupby(\"geo_label_city\")[col_list].size().to_frame())#.rdiv(null_count_city, axis=0)\n",
    "# null_count_city"
   ]
  },
  {
   "cell_type": "code",
   "execution_count": 68,
   "metadata": {},
   "outputs": [
    {
     "data": {
      "text/html": [
       "<div>\n",
       "<style scoped>\n",
       "    .dataframe tbody tr th:only-of-type {\n",
       "        vertical-align: middle;\n",
       "    }\n",
       "\n",
       "    .dataframe tbody tr th {\n",
       "        vertical-align: top;\n",
       "    }\n",
       "\n",
       "    .dataframe thead th {\n",
       "        text-align: right;\n",
       "    }\n",
       "</style>\n",
       "<table border=\"1\" class=\"dataframe\">\n",
       "  <thead>\n",
       "    <tr style=\"text-align: right;\">\n",
       "      <th></th>\n",
       "      <th>value_95_ci_high</th>\n",
       "      <th>value_95_ci_low</th>\n",
       "    </tr>\n",
       "    <tr>\n",
       "      <th>geo_label_city</th>\n",
       "      <th></th>\n",
       "      <th></th>\n",
       "    </tr>\n",
       "  </thead>\n",
       "  <tbody>\n",
       "    <tr>\n",
       "      <th>Austin</th>\n",
       "      <td>1565</td>\n",
       "      <td>1565</td>\n",
       "    </tr>\n",
       "    <tr>\n",
       "      <th>Baltimore</th>\n",
       "      <td>1489</td>\n",
       "      <td>1489</td>\n",
       "    </tr>\n",
       "    <tr>\n",
       "      <th>Boston</th>\n",
       "      <td>1880</td>\n",
       "      <td>1880</td>\n",
       "    </tr>\n",
       "    <tr>\n",
       "      <th>Charlotte</th>\n",
       "      <td>1602</td>\n",
       "      <td>1602</td>\n",
       "    </tr>\n",
       "    <tr>\n",
       "      <th>Chicago</th>\n",
       "      <td>1956</td>\n",
       "      <td>1956</td>\n",
       "    </tr>\n",
       "    <tr>\n",
       "      <th>Cleveland</th>\n",
       "      <td>1409</td>\n",
       "      <td>1409</td>\n",
       "    </tr>\n",
       "    <tr>\n",
       "      <th>Columbus</th>\n",
       "      <td>1375</td>\n",
       "      <td>1375</td>\n",
       "    </tr>\n",
       "    <tr>\n",
       "      <th>Dallas</th>\n",
       "      <td>1707</td>\n",
       "      <td>1707</td>\n",
       "    </tr>\n",
       "    <tr>\n",
       "      <th>Denver</th>\n",
       "      <td>1544</td>\n",
       "      <td>1544</td>\n",
       "    </tr>\n",
       "    <tr>\n",
       "      <th>Detroit</th>\n",
       "      <td>1437</td>\n",
       "      <td>1437</td>\n",
       "    </tr>\n",
       "    <tr>\n",
       "      <th>El Paso</th>\n",
       "      <td>1242</td>\n",
       "      <td>1242</td>\n",
       "    </tr>\n",
       "    <tr>\n",
       "      <th>Fort Worth</th>\n",
       "      <td>1722</td>\n",
       "      <td>1722</td>\n",
       "    </tr>\n",
       "    <tr>\n",
       "      <th>Houston</th>\n",
       "      <td>2013</td>\n",
       "      <td>2013</td>\n",
       "    </tr>\n",
       "    <tr>\n",
       "      <th>Indianapolis</th>\n",
       "      <td>1337</td>\n",
       "      <td>1337</td>\n",
       "    </tr>\n",
       "    <tr>\n",
       "      <th>Kansas City</th>\n",
       "      <td>1382</td>\n",
       "      <td>1382</td>\n",
       "    </tr>\n",
       "    <tr>\n",
       "      <th>Las Vegas</th>\n",
       "      <td>1761</td>\n",
       "      <td>1761</td>\n",
       "    </tr>\n",
       "    <tr>\n",
       "      <th>Long Beach</th>\n",
       "      <td>1616</td>\n",
       "      <td>1616</td>\n",
       "    </tr>\n",
       "    <tr>\n",
       "      <th>Los Angeles</th>\n",
       "      <td>1967</td>\n",
       "      <td>1967</td>\n",
       "    </tr>\n",
       "    <tr>\n",
       "      <th>Louisville</th>\n",
       "      <td>1082</td>\n",
       "      <td>1082</td>\n",
       "    </tr>\n",
       "    <tr>\n",
       "      <th>Memphis</th>\n",
       "      <td>1177</td>\n",
       "      <td>1177</td>\n",
       "    </tr>\n",
       "    <tr>\n",
       "      <th>Milwaukee</th>\n",
       "      <td>1322</td>\n",
       "      <td>1322</td>\n",
       "    </tr>\n",
       "    <tr>\n",
       "      <th>Minneapolis</th>\n",
       "      <td>1242</td>\n",
       "      <td>1242</td>\n",
       "    </tr>\n",
       "    <tr>\n",
       "      <th>New York City</th>\n",
       "      <td>2024</td>\n",
       "      <td>2024</td>\n",
       "    </tr>\n",
       "    <tr>\n",
       "      <th>Oakland</th>\n",
       "      <td>1819</td>\n",
       "      <td>1819</td>\n",
       "    </tr>\n",
       "    <tr>\n",
       "      <th>Oklahoma City</th>\n",
       "      <td>1456</td>\n",
       "      <td>1456</td>\n",
       "    </tr>\n",
       "    <tr>\n",
       "      <th>Philadelphia</th>\n",
       "      <td>2029</td>\n",
       "      <td>2029</td>\n",
       "    </tr>\n",
       "    <tr>\n",
       "      <th>Phoenix</th>\n",
       "      <td>1626</td>\n",
       "      <td>1626</td>\n",
       "    </tr>\n",
       "    <tr>\n",
       "      <th>Portland</th>\n",
       "      <td>1610</td>\n",
       "      <td>1610</td>\n",
       "    </tr>\n",
       "    <tr>\n",
       "      <th>San Antonio</th>\n",
       "      <td>1563</td>\n",
       "      <td>1563</td>\n",
       "    </tr>\n",
       "    <tr>\n",
       "      <th>San Diego</th>\n",
       "      <td>2031</td>\n",
       "      <td>2031</td>\n",
       "    </tr>\n",
       "    <tr>\n",
       "      <th>San Francisco</th>\n",
       "      <td>1914</td>\n",
       "      <td>1914</td>\n",
       "    </tr>\n",
       "    <tr>\n",
       "      <th>San Jose</th>\n",
       "      <td>1584</td>\n",
       "      <td>1584</td>\n",
       "    </tr>\n",
       "    <tr>\n",
       "      <th>Seattle</th>\n",
       "      <td>1744</td>\n",
       "      <td>1744</td>\n",
       "    </tr>\n",
       "    <tr>\n",
       "      <th>Tucson</th>\n",
       "      <td>1285</td>\n",
       "      <td>1285</td>\n",
       "    </tr>\n",
       "    <tr>\n",
       "      <th>Washington</th>\n",
       "      <td>1559</td>\n",
       "      <td>1559</td>\n",
       "    </tr>\n",
       "  </tbody>\n",
       "</table>\n",
       "</div>"
      ],
      "text/plain": [
       "                value_95_ci_high  value_95_ci_low\n",
       "geo_label_city                                   \n",
       "Austin                      1565             1565\n",
       "Baltimore                   1489             1489\n",
       "Boston                      1880             1880\n",
       "Charlotte                   1602             1602\n",
       "Chicago                     1956             1956\n",
       "Cleveland                   1409             1409\n",
       "Columbus                    1375             1375\n",
       "Dallas                      1707             1707\n",
       "Denver                      1544             1544\n",
       "Detroit                     1437             1437\n",
       "El Paso                     1242             1242\n",
       "Fort Worth                  1722             1722\n",
       "Houston                     2013             2013\n",
       "Indianapolis                1337             1337\n",
       "Kansas City                 1382             1382\n",
       "Las Vegas                   1761             1761\n",
       "Long Beach                  1616             1616\n",
       "Los Angeles                 1967             1967\n",
       "Louisville                  1082             1082\n",
       "Memphis                     1177             1177\n",
       "Milwaukee                   1322             1322\n",
       "Minneapolis                 1242             1242\n",
       "New York City               2024             2024\n",
       "Oakland                     1819             1819\n",
       "Oklahoma City               1456             1456\n",
       "Philadelphia                2029             2029\n",
       "Phoenix                     1626             1626\n",
       "Portland                    1610             1610\n",
       "San Antonio                 1563             1563\n",
       "San Diego                   2031             2031\n",
       "San Francisco               1914             1914\n",
       "San Jose                    1584             1584\n",
       "Seattle                     1744             1744\n",
       "Tucson                      1285             1285\n",
       "Washington                  1559             1559"
      ]
     },
     "execution_count": 68,
     "metadata": {},
     "output_type": "execute_result"
    }
   ],
   "source": [
    "count_city"
   ]
  },
  {
   "cell_type": "code",
   "execution_count": 70,
   "metadata": {},
   "outputs": [
    {
     "ename": "NameError",
     "evalue": "name 'date_label' is not defined",
     "output_type": "error",
     "traceback": [
      "\u001b[1;31m---------------------------------------------------------------------------\u001b[0m",
      "\u001b[1;31mNameError\u001b[0m                                 Traceback (most recent call last)",
      "Cell \u001b[1;32mIn[70], line 1\u001b[0m\n\u001b[1;32m----> 1\u001b[0m \u001b[43mdate_label\u001b[49m\n",
      "\u001b[1;31mNameError\u001b[0m: name 'date_label' is not defined"
     ]
    }
   ],
   "source": [
    "date_label"
   ]
  },
  {
   "cell_type": "code",
   "execution_count": 76,
   "metadata": {},
   "outputs": [
    {
     "data": {
      "image/png": "[encoded data removed]",
      "text/plain": [
       "<Figure size 600x1800 with 3 Axes>"
      ]
     },
     "metadata": {},
     "output_type": "display_data"
    }
   ],
   "source": [
    "fig, axes = plt.subplots(3,1,figsize=(6,18))\n",
    "\n",
    "\n",
    "# date_label 별 CI 가 null인것 count\n",
    "null_count_label = get_nullcount(df_city,\"date_label\",cols=col_list)\n",
    "null_count_label.plot.bar(ax=axes[0])\n",
    "axes[0].set(xlabel=\"Label\", ylabel=\"Count of null CI\")\n",
    "\n",
    "# date_label 별 CI 가 null인것 비율\n",
    "null_prop_label = get_nullprop(df_city,\"date_label\",cols=col_list) \n",
    "null_prop_label.plot.bar(ax=axes[1])\n",
    "axes[1].set(xlabel=\"Label\", ylabel=\"Proportion of null CI\")\n",
    "\n",
    "# date_label 별 CI 가 null인것 중 0% 또는 100%가 아닌 것의 비율\n",
    "null_some_label = null_prop_label[(null_prop_label['value_95_ci_high'] != 1.0) & null_prop_label['value_95_ci_high'] != 0.0]\n",
    "null_some_label.plot.bar(ax=axes[2])\n",
    "axes[2].set(xlabel=\"Label\", ylabel=\"Proportion of null CI\", title=\"Proportion of null CI where its not 100% or 0%\")\n",
    "\n",
    "plt.show()"
   ]
  },
  {
   "cell_type": "code",
   "execution_count": 74,
   "metadata": {},
   "outputs": [
    {
     "ename": "NameError",
     "evalue": "name 'null_ratio_high' is not defined",
     "output_type": "error",
     "traceback": [
      "\u001b[1;31m---------------------------------------------------------------------------\u001b[0m",
      "\u001b[1;31mNameError\u001b[0m                                 Traceback (most recent call last)",
      "Cell \u001b[1;32mIn[74], line 8\u001b[0m\n\u001b[0;32m      5\u001b[0m plt\u001b[38;5;241m.\u001b[39mfigure(figsize\u001b[38;5;241m=\u001b[39m(\u001b[38;5;241m12\u001b[39m, \u001b[38;5;241m6\u001b[39m))\n\u001b[0;32m      7\u001b[0m plt\u001b[38;5;241m.\u001b[39mbar(null_ratio_low\u001b[38;5;241m.\u001b[39mindex \u001b[38;5;241m-\u001b[39m \u001b[38;5;241m0.2\u001b[39m, null_ratio_low, width\u001b[38;5;241m=\u001b[39m\u001b[38;5;241m0.4\u001b[39m, label\u001b[38;5;241m=\u001b[39m\u001b[38;5;124m'\u001b[39m\u001b[38;5;124mvalue_95_ci_low\u001b[39m\u001b[38;5;124m'\u001b[39m, color\u001b[38;5;241m=\u001b[39m\u001b[38;5;124m'\u001b[39m\u001b[38;5;124morange\u001b[39m\u001b[38;5;124m'\u001b[39m)\n\u001b[1;32m----> 8\u001b[0m plt\u001b[38;5;241m.\u001b[39mbar(\u001b[43mnull_ratio_high\u001b[49m\u001b[38;5;241m.\u001b[39mindex \u001b[38;5;241m+\u001b[39m \u001b[38;5;241m0.2\u001b[39m, null_ratio_high, width\u001b[38;5;241m=\u001b[39m\u001b[38;5;241m0.4\u001b[39m, label\u001b[38;5;241m=\u001b[39m\u001b[38;5;124m'\u001b[39m\u001b[38;5;124mvalue_95_ci_high\u001b[39m\u001b[38;5;124m'\u001b[39m, color\u001b[38;5;241m=\u001b[39m\u001b[38;5;124m'\u001b[39m\u001b[38;5;124mblue\u001b[39m\u001b[38;5;124m'\u001b[39m)\n\u001b[0;32m     10\u001b[0m plt\u001b[38;5;241m.\u001b[39mtitle(\u001b[38;5;124m'\u001b[39m\u001b[38;5;124mProportion of Missing CI Values by Year\u001b[39m\u001b[38;5;124m'\u001b[39m)\n\u001b[0;32m     11\u001b[0m plt\u001b[38;5;241m.\u001b[39mxlabel(\u001b[38;5;124m'\u001b[39m\u001b[38;5;124mYear\u001b[39m\u001b[38;5;124m'\u001b[39m)\n",
      "\u001b[1;31mNameError\u001b[0m: name 'null_ratio_high' is not defined"
     ]
    },
    {
     "data": {
      "image/png": "[encoded data removed]",
      "text/plain": [
       "<Figure size 1200x600 with 1 Axes>"
      ]
     },
     "metadata": {},
     "output_type": "display_data"
    }
   ],
   "source": [
    "# date_label별로 그룹화하고, value_ci 값에 따라 비율 계산\n",
    "null_ratio_by_year = df_city.groupby('date_label')['value_95_ci_high'].apply(lambda x: x.isnull().mean())\n",
    "null_ratio_low = df_city.groupby('date_label')['value_95_ci_low'].apply(lambda x: x.isnull().mean())\n",
    "\n",
    "plt.figure(figsize=(12, 6))\n",
    "\n",
    "plt.bar(null_ratio_low.index - 0.2, null_ratio_low, width=0.4, label='value_95_ci_low', color='orange')\n",
    "plt.bar(null_ratio_high.index + 0.2, null_ratio_high, width=0.4, label='value_95_ci_high', color='blue')\n",
    "\n",
    "plt.title('Proportion of Missing CI Values by Year')\n",
    "plt.xlabel('Year')\n",
    "plt.ylabel('Proportion of null CI')\n",
    "plt.xticks(rotation=45)\n",
    "plt.legend()\n",
    "plt.show()"
   ]
  },
  {
   "cell_type": "code",
   "execution_count": null,
   "metadata": {},
   "outputs": [],
   "source": []
  },
  {
   "cell_type": "code",
   "execution_count": null,
   "metadata": {},
   "outputs": [],
   "source": []
  },
  {
   "cell_type": "code",
   "execution_count": null,
   "metadata": {},
   "outputs": [],
   "source": []
  }
 ],
 "metadata": {
  "kernelspec": {
   "display_name": "Python 3 (ipykernel)",
   "language": "python",
   "name": "python3"
  },
  "language_info": {
   "codemirror_mode": {
    "name": "ipython",
    "version": 3
   },
   "file_extension": ".py",
   "mimetype": "text/x-python",
   "name": "python",
   "nbconvert_exporter": "python",
   "pygments_lexer": "ipython3",
   "version": "3.12.2"
  }
 },
 "nbformat": 4,
 "nbformat_minor": 4
}
