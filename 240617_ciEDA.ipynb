{
 "cells": [
  {
   "cell_type": "code",
   "execution_count": null,
   "metadata": {},
   "outputs": [],
   "source": [
    "import pandas as pd\n",
    "import numpy as np\n",
    "import os"
   ]
  },
  {
   "cell_type": "code",
   "execution_count": null,
   "metadata": {},
   "outputs": [],
   "source": [
    "import matplotlib.pyplot as plt\n",
    "plt.rcParams['font.family'] ='Malgun Gothic'\n",
    "plt.rcParams['axes.unicode_minus'] =False"
   ]
  },
  {
   "cell_type": "code",
   "execution_count": null,
   "metadata": {},
   "outputs": [],
   "source": [
    "DATASET_DIR = ''\n",
    "dir_name = './'\n",
    "file_name = 'BigCitiesHealth.csv'"
   ]
  },
  {
   "cell_type": "code",
   "execution_count": null,
   "metadata": {},
   "outputs": [],
   "source": [
    "file_path = os.path.join(DATASET_DIR,dir_name,file_name)\n",
    "df = pd.read_csv(file_path)\n",
    "\n",
    "df.info()"
   ]
  },
  {
   "cell_type": "code",
   "execution_count": null,
   "metadata": {},
   "outputs": [],
   "source": [
    "df[\"metric_label\"] = df[\"metric_subcat_label\"]+' | '+df[\"metric_item_label\"] "
   ]
  },
  {
   "cell_type": "code",
   "execution_count": null,
   "metadata": {},
   "outputs": [],
   "source": [
    "df[\"metric_label\"].value_counts()"
   ]
  },
  {
   "cell_type": "markdown",
   "metadata": {},
   "source": [
    "3. value_ci 관련 col 확인"
   ]
  },
  {
   "cell_type": "code",
   "execution_count": null,
   "metadata": {},
   "outputs": [],
   "source": [
    "df['value_ci_flag_yesno'].value_counts()"
   ]
  },
  {
   "cell_type": "code",
   "execution_count": null,
   "metadata": {},
   "outputs": [],
   "source": [
    "np.sum(df['value_ci_flag_yesno'].isna())"
   ]
  },
  {
   "cell_type": "code",
   "execution_count": null,
   "metadata": {},
   "outputs": [],
   "source": [
    "list(filter(lambda x: 'ci' in x,df.columns))"
   ]
  },
  {
   "cell_type": "code",
   "execution_count": null,
   "metadata": {},
   "outputs": [],
   "source": [
    "df[['value_90_ci_high','value_90_ci_low']].info()\n",
    "# 90% 신뢰구간은 무시해도 상관없음"
   ]
  },
  {
   "cell_type": "code",
   "execution_count": null,
   "metadata": {},
   "outputs": [],
   "source": [
    "df[['value_ci_flag_yesno',\n",
    "    'value_95_ci_low',\n",
    " 'value_95_ci_high']]"
   ]
  },
  {
   "cell_type": "code",
   "execution_count": null,
   "metadata": {},
   "outputs": [],
   "source": [
    "#flag = yes 일 경우 low, high 모두 존재\n",
    "# no 일 경우 최소 1가지 이상 공백\n",
    "col_list = ['value_95_ci_low',\n",
    " 'value_95_ci_high']\n",
    "\n",
    "cond1 = df[col_list].isna().all(axis=1)\n",
    "cond2 = df['value_ci_flag_yesno'] == 'no'\n",
    "\n",
    "\n",
    "cond3 = df[col_list].isna().any(axis=1)\n",
    "cond4 = df['value_ci_flag_yesno'] == 'yes'\n",
    "\n",
    "# np.sum(cond1 != cond2), np.sum(cond1), np.sum(cond2)\n",
    "\n",
    "#둘중 하나만 있는 경우, 둘다 있는 경우, flag = yes인 경우\n",
    "np.sum((~cond3) != cond4), np.sum(~cond3), np.sum(cond4)"
   ]
  },
  {
   "cell_type": "code",
   "execution_count": null,
   "metadata": {},
   "outputs": [],
   "source": [
    "#CI가 없는 컬럼 = \n",
    "len(df.loc[cond1,'metric_label'].unique())"
   ]
  },
  {
   "cell_type": "code",
   "execution_count": null,
   "metadata": {},
   "outputs": [],
   "source": [
    "# CI가 존재하는 컬럼 = 53개\n",
    "len(df.loc[~cond1,'metric_label'].unique())"
   ]
  },
  {
   "cell_type": "code",
   "execution_count": null,
   "metadata": {},
   "outputs": [],
   "source": [
    "df.loc[~cond1,'metric_label'].value_counts()"
   ]
  },
  {
   "cell_type": "code",
   "execution_count": null,
   "metadata": {},
   "outputs": [],
   "source": [
    "metric_w_ci = set(df.loc[~cond1,'metric_label'].unique())\n",
    "metric_wo_ci = set(df.loc[cond1,'metric_label'].unique())\n",
    "\n",
    "metric_w_ci.difference(metric_wo_ci)\n",
    "\n",
    "df[df['metric_label'] == 'Deaths | Premature Death'][col_list]"
   ]
  },
  {
   "cell_type": "code",
   "execution_count": null,
   "metadata": {},
   "outputs": [],
   "source": [
    "len(metric_wo_ci.difference(metric_w_ci)), len(metric_wo_ci)"
   ]
  },
  {
   "cell_type": "code",
   "execution_count": null,
   "metadata": {},
   "outputs": [],
   "source": [
    "metirc_null_ci = sorted(list(metric_wo_ci.difference(metric_w_ci)))\n",
    "\n",
    "for col in metirc_null_ci[:20]:\n",
    "    cond = df['metric_label'] == col\n",
    "    print(col.ljust(75),f\"     : {np.sum(cond):>10}\")"
   ]
  },
  {
   "cell_type": "code",
   "execution_count": null,
   "metadata": {},
   "outputs": [],
   "source": [
    "for col in metirc_null_ci[20:40]:\n",
    "    cond = df['metric_label'] == col\n",
    "    print(col.ljust(75),f\"     : {np.sum(cond):>10}\")"
   ]
  },
  {
   "cell_type": "code",
   "execution_count": null,
   "metadata": {},
   "outputs": [],
   "source": [
    "for col in metirc_null_ci[40:]:\n",
    "    cond = df['metric_label'] == col\n",
    "    print(col.ljust(75),f\"     : {np.sum(cond):>10}\")"
   ]
  },
  {
   "cell_type": "markdown",
   "metadata": {},
   "source": [
    "### U.S. Total 분리"
   ]
  },
  {
   "cell_type": "code",
   "execution_count": null,
   "metadata": {},
   "outputs": [],
   "source": [
    "df['geo_label_city'].value_counts()"
   ]
  },
  {
   "cell_type": "code",
   "execution_count": null,
   "metadata": {},
   "outputs": [],
   "source": [
    "cond0 = df['geo_label_city'] == 'U.S. Total'\n",
    "\n",
    "df_US = df.loc[cond0].copy()\n",
    "df_city = df.loc[~cond0].copy()\n",
    "\n",
    "display(df_US.info())\n",
    "display(df_city.info())"
   ]
  },
  {
   "cell_type": "code",
   "execution_count": null,
   "metadata": {},
   "outputs": [],
   "source": [
    "cond1 = (df_city['strata_race_label'] == 'All') & (df_city['strata_sex_label'] == 'Both')\n",
    "np.sum(cond1)"
   ]
  },
  {
   "cell_type": "code",
   "execution_count": null,
   "metadata": {},
   "outputs": [],
   "source": [
    "col_list = ['value_95_ci_low',\n",
    " 'value_95_ci_high',\n",
    " 'value_90_ci_low',\n",
    " 'value_90_ci_high']\n",
    "\n",
    "#전부다 없는 경우\n",
    "cond1 = df_city[col_list].isna().all(axis=1)\n",
    "\n",
    "# flag = no 인 경우\n",
    "cond2 = df_city['value_ci_flag_yesno'] == 'no'\n",
    "\n",
    "np.sum(cond1 != cond2), np.sum(cond1), np.sum(cond2)"
   ]
  },
  {
   "cell_type": "code",
   "execution_count": null,
   "metadata": {},
   "outputs": [],
   "source": [
    "df_city.loc[cond1,'metric_label'].value_counts()"
   ]
  },
  {
   "cell_type": "code",
   "execution_count": null,
   "metadata": {},
   "outputs": [],
   "source": [
    "#하나라도 있는 경우\n",
    "df_city.loc[~cond1,'metric_label'].value_counts()"
   ]
  },
  {
   "cell_type": "code",
   "execution_count": null,
   "metadata": {},
   "outputs": [],
   "source": [
    "len(df_city.loc[~cond1,'metric_label'].value_counts())"
   ]
  },
  {
   "cell_type": "code",
   "execution_count": null,
   "metadata": {},
   "outputs": [],
   "source": [
    "metric_w_ci = set(df_city.loc[~cond1,'metric_label'].unique()) # 최소 한개에 대해 CI 있는\n",
    "metric_wo_ci = set(df_city.loc[cond1,'metric_label'].unique()) # CI 없는\n",
    "\n",
    "metric_w_ci.difference(metric_wo_ci)"
   ]
  },
  {
   "cell_type": "code",
   "execution_count": null,
   "metadata": {},
   "outputs": [],
   "source": [
    "#모든 레코드에 대해 CI 있는\n",
    "metirc_full_ci = sorted(list(metric_w_ci.difference(metric_wo_ci)))\n",
    "\n",
    "for col in metirc_full_ci[:20]:\n",
    "    cond = df_city['metric_label'] == col\n",
    "    print(col.ljust(75),f\"     : {np.sum(cond):>10}\")"
   ]
  },
  {
   "cell_type": "code",
   "execution_count": null,
   "metadata": {},
   "outputs": [],
   "source": []
  },
  {
   "cell_type": "code",
   "execution_count": null,
   "metadata": {},
   "outputs": [],
   "source": [
    "for col in metirc_full_ci[20:]:\n",
    "    cond = df_city['metric_label'] == col\n",
    "    print(col.ljust(75),f\"     : {np.sum(cond):>10}\")"
   ]
  },
  {
   "cell_type": "code",
   "execution_count": null,
   "metadata": {},
   "outputs": [],
   "source": [
    "len(metirc_full_ci)"
   ]
  },
  {
   "cell_type": "code",
   "execution_count": null,
   "metadata": {},
   "outputs": [],
   "source": [
    "# CI 아예 없는 경우\n",
    "metirc_null_ci = sorted(list(metric_wo_ci.difference(metric_w_ci)))\n",
    "print(len(metirc_null_ci))\n",
    "\n",
    "for col in metirc_null_ci:\n",
    "    cond = df['metric_label'] == col\n",
    "    print(col.ljust(75),f\"     : {np.sum(cond):>10}\")"
   ]
  },
  {
   "cell_type": "code",
   "execution_count": null,
   "metadata": {},
   "outputs": [],
   "source": [
    "metirc_null_ci = sorted(list(metric_wo_ci.difference(metric_w_ci)))\n",
    "\n",
    "for col in metirc_null_ci[20:]:\n",
    "    cond = df['metric_label'] == col\n",
    "    print(col.ljust(75),f\"     : {np.sum(cond):>10}\")"
   ]
  },
  {
   "cell_type": "code",
   "execution_count": null,
   "metadata": {},
   "outputs": [],
   "source": [
    "table = pd.pivot_table(df_city, index=[\"geo_label_city\",\"date_label\"], values='value', columns=['metric_label'])"
   ]
  },
  {
   "cell_type": "code",
   "execution_count": null,
   "metadata": {},
   "outputs": [],
   "source": [
    "table[metirc_null_ci]"
   ]
  },
  {
   "cell_type": "code",
   "execution_count": null,
   "metadata": {},
   "outputs": [],
   "source": [
    "null_count = table.groupby(by=[\"geo_label_city\", \"date_label\"])[metirc_null_ci].count()\n",
    "\n",
    "null_count \n",
    "# null_count_city = "
   ]
  },
  {
   "cell_type": "code",
   "execution_count": null,
   "metadata": {},
   "outputs": [],
   "source": [
    "df_city[col_list].isna().astype(int)"
   ]
  },
  {
   "cell_type": "code",
   "execution_count": null,
   "metadata": {},
   "outputs": [],
   "source": [
    "col_list = [\"value_95_ci_low\", \"value_95_ci_high\"]"
   ]
  },
  {
   "cell_type": "code",
   "execution_count": null,
   "metadata": {},
   "outputs": [],
   "source": [
    "#CI가 null인것 구하기 위한 함수\n",
    "def get_nullcount(df,groupby,cols=None):\n",
    "    grouped = df.groupby(groupby)\n",
    "    if cols:\n",
    "        grouped = grouped[cols]\n",
    "    return grouped.count().rsub(grouped.size(),axis=0)\n",
    "\n",
    "#CI가 null인것/전체 비율 구하기 위한 함수\n",
    "def get_nullprop(df,groupby, cols=None):\n",
    "    grouped = df.groupby(groupby)\n",
    "    if cols:\n",
    "        grouped = grouped[cols]\n",
    "    count = grouped.size().to_frame()\n",
    "    count = pd.concat([count] * 2, axis=1)\n",
    "    count.columns = [\"value_95_ci_high\", \"value_95_ci_low\"]\n",
    "    return count.rdiv(get_nullcount(df,groupby,cols=cols))"
   ]
  },
  {
   "cell_type": "code",
   "execution_count": null,
   "metadata": {},
   "outputs": [],
   "source": [
    "import seaborn as sns\n",
    "import matplotlib.pyplot as plt\n",
    "fig, axes = plt.subplots(3,2,figsize=(20,10))\n",
    "\n",
    "# 연도별 CI가 null 인것 count\n",
    "null_count_year = get_nullcount(df_city,\"date_label\",col_list)\n",
    "null_count_year.plot.bar(ax=axes[0][0])\n",
    "axes[0][0].set(xlabel=\"Year\", ylabel=\"Count of null CI\")\n",
    "\n",
    "# 연도 별 CI가 null / 전체 비율\n",
    "null_prop_year = get_nullprop(df_city,\"date_label\",col_list) #count_year.rdiv(null_count_year, axis=0)\n",
    "null_prop_year.plot.bar(ax=axes[1][0])\n",
    "null_prop_year.plot.box(ax=axes[2][0])\n",
    "axes[1][0].set(xlabel=\"Year\", ylabel=\"Proportion of null CI\")\n",
    "\n",
    "# 도시별 CI가 null 인것 count\n",
    "null_count_city = get_nullcount(df_city,\"geo_label_city\",col_list) #df_city.groupby(\"geo_label_city\")[col_list].count().rsub(df_city.groupby(\"geo_label_city\")[col_list].size(), axis=0)\n",
    "null_count_city.plot.bar(ax=axes[0][1])\n",
    "axes[0][1].set(xlabel=\"City\", ylabel=\"Count of null CI\")\n",
    "\n",
    "# 도시 별 CI가 null / 전체 비율\n",
    "null_prop_city = get_nullprop(df_city,\"geo_label_city\",col_list)\n",
    "null_prop_city.plot.bar(ax=axes[1][1])\n",
    "null_prop_city.plot.box(ax=axes[2][1])\n",
    "axes[1][1].set(xlabel=\"City\", ylabel=\"Proportion of null CI\")\n",
    "\n",
    "plt.show()"
   ]
  },
  {
   "cell_type": "code",
   "execution_count": null,
   "metadata": {},
   "outputs": [],
   "source": [
    "import seaborn as sns\n",
    "import matplotlib.pyplot as plt\n",
    "fig, axes = plt.subplots(3,1,figsize=(6,18))\n",
    "\n",
    "\n",
    "# Metric_label 별 CI 가 null인것 count\n",
    "null_count_label = get_nullcount(df_city,\"metric_label\",cols=col_list)\n",
    "null_count_label.plot.bar(ax=axes[0])\n",
    "axes[0].set(xlabel=\"Label\", ylabel=\"Count of null CI\")\n",
    "\n",
    "# Metric_label 별 CI 가 null인것 비율\n",
    "null_prop_label = get_nullprop(df_city,\"metric_label\",cols=col_list) \n",
    "null_prop_label.plot.bar(ax=axes[1])\n",
    "axes[1].set(xlabel=\"Label\", ylabel=\"Proportion of null CI\")\n",
    "\n",
    "# Metric_label 별 CI 가 null인것 중 0% 또는 100%가 아닌 것의 비율\n",
    "null_some_label = null_prop_label[(null_prop_label['value_95_ci_high'] != 1.0) & null_prop_label['value_95_ci_high'] != 0.0]\n",
    "null_some_label.plot.bar(ax=axes[2])\n",
    "axes[2].set(xlabel=\"Label\", ylabel=\"Proportion of null CI\", title=\"Proportion of null CI where its not 100% or 0%\")\n",
    "\n",
    "plt.show()"
   ]
  },
  {
   "cell_type": "code",
   "execution_count": null,
   "metadata": {},
   "outputs": [],
   "source": [
    "# ci_low 와 ci_high의 null 값 갯수가 다른것\n",
    "null_count_label[null_count_label['value_95_ci_high'].notna() & (null_count_label['value_95_ci_high'] != null_count_label['value_95_ci_low'])]"
   ]
  },
  {
   "cell_type": "code",
   "execution_count": null,
   "metadata": {},
   "outputs": [],
   "source": [
    "# 일부 레코드만 CI가 없는 항목들의 갯수 = 19\n",
    "len(null_some_label.index.to_list())"
   ]
  },
  {
   "cell_type": "code",
   "execution_count": null,
   "metadata": {},
   "outputs": [],
   "source": [
    "null_none_label['value_95_ci_high']"
   ]
  },
  {
   "cell_type": "code",
   "execution_count": null,
   "metadata": {},
   "outputs": [],
   "source": [
    "# CI null 비율이 0/1이 아닌것에 대한 연도/도시 세부 파악\n",
    "\n",
    "fig, axes = plt.subplots(3,2,figsize=(12,16))\n",
    "df_somena = df_city[df_city[\"metric_label\"].isin(null_some_label.index.to_list())]\n",
    "df_all_or_nothing = df_city[~df_city[\"metric_label\"].isin(null_some_label.index.to_list())]\n",
    "\n",
    "\n",
    "get_nullcount(df_somena, \"geo_label_city\", cols=col_list).plot.bar(ax=axes[0][0])\n",
    "get_nullprop(df_somena, \"geo_label_city\", cols=col_list).plot.bar(ax=axes[0][1])\n",
    "axes[0][0].set(title=\"\")\n",
    "\n",
    "get_nullcount(df_all_or_nothing, \"geo_label_city\", cols=col_list).plot.bar(ax=axes[1][0])\n",
    "get_nullprop(df_all_or_nothing, \"geo_label_city\", cols=col_list).plot.bar(ax=axes[1][1])\n",
    "\n",
    "\n",
    "get_nullcount(df_city, \"geo_label_city\", cols=col_list).plot.bar(ax=axes[2][0])\n",
    "get_nullprop(df_city, \"geo_label_city\", cols=col_list).plot.bar(ax=axes[2][1])\n"
   ]
  },
  {
   "cell_type": "code",
   "execution_count": null,
   "metadata": {},
   "outputs": [],
   "source": [
    "fig, axes = plt.subplots(2,4,figsize=(24,12),sharey=True)\n",
    "\n",
    "# CI가 null인 레코드가 하나라도 있으면\n",
    "null_any_label = null_prop_label[(null_prop_label['value_95_ci_high'] > 0.0)]\n",
    "null_all_label = null_prop_label[(null_prop_label['value_95_ci_high'] == 1.0)]\n",
    "null_thresh_label = null_prop_label[(null_prop_label['value_95_ci_high'] > 0.3)]\n",
    "# CI가 0 이상인 데이터를 다 지웠을떄 분포차이가 생기는지?\n",
    "\n",
    "df_nona = df_city[~df_city[\"metric_label\"].isin(null_any_label.index.to_list())]\n",
    "df_nofullna = df_city[~df_city[\"metric_label\"].isin(null_all_label.index.to_list())]\n",
    "\n",
    "labelwise_counts = df_city.groupby([\"metric_label\"])[\"value\"].size()\n",
    "nona_counts = df_nona.groupby([\"metric_label\"])[\"value\"].size()\n",
    "# CI가 1인 데이터만 다 지웠을때랑 비교하면?\n",
    "nofullna_counts = df_nofullna.groupby([\"metric_label\"])[\"value\"].size()\n",
    "\n",
    "labelwise_counts.plot.bar(ax=axes[0][0])\n",
    "axes[0][0].set(title=\"metric_label별 데이터 분포\")\n",
    "nona_counts.plot.bar(ax=axes[0][1])\n",
    "axes[0][1].set(title=\"CI가 하나라도 없는 항목 제거 시 metric_label별 데이터 분포\")\n",
    "nofullna_counts.plot.bar(ax=axes[0][2])\n",
    "axes[0][2].set(title=\"전체가 CI 없는 항목 제거 시 metric_label별 데이터 분포\")\n",
    "\n",
    "labelwise_counts.plot.box(ax=axes[1][0])\n",
    "nona_counts.plot.box(ax=axes[1][1])\n",
    "nofullna_counts.plot.box(ax=axes[1][2])\n",
    "\n",
    "df_thresh = df_city[~df_city[\"metric_label\"].isin(null_thresh_label.index.to_list())]\n",
    "thresh_counts = df_thresh.groupby([\"metric_label\"])[\"value\"].size()\n",
    "thresh_counts.plot.bar(ax=axes[0][3])\n",
    "axes[0][3].set(title=\"CI 없는 비율이 threshold 이상인 항목 제거 시 metric_label별 데이터 분포\")\n",
    "thresh_counts.plot.box(ax=axes[1][3])\n",
    "\n",
    "\n",
    "plt.show()"
   ]
  },
  {
   "cell_type": "code",
   "execution_count": null,
   "metadata": {},
   "outputs": [],
   "source": [
    "null_any_label = null_prop_label[(null_prop_label['value_95_ci_high'] > 0.0)]"
   ]
  },
  {
   "cell_type": "code",
   "execution_count": null,
   "metadata": {},
   "outputs": [],
   "source": [
    "null_none_label = null_prop_label[(null_prop_label['value_95_ci_high'] <= 0.0)]\n",
    "null_none_label['value_95_ci_high']"
   ]
  },
  {
   "cell_type": "code",
   "execution_count": null,
   "metadata": {},
   "outputs": [],
   "source": [
    "pd.set_option('display.max_rows', 65)\n",
    "null_all_label['value_95_ci_high']"
   ]
  },
  {
   "cell_type": "code",
   "execution_count": null,
   "metadata": {},
   "outputs": [],
   "source": [
    "fig, axes = plt.subplots(3,4,figsize=(24,12))\n",
    "\n",
    "# CI가 null인 레코드가 하나라도 있으면\n",
    "null_any_label = null_prop_label[(null_prop_label['value_95_ci_high'] > 0.0)]\n",
    "# 모든 레코드의 CI가 null이면\n",
    "null_all_label = null_prop_label[(null_prop_label['value_95_ci_high'] == 1.0)]\n",
    "\n",
    "# CI null rate가 0 이상인 데이터를 다 지웠을떄 분포차이가 생기는지?\n",
    "df_nona = df_city[~df_city[\"metric_label\"].isin(null_any_label.index.to_list())]\n",
    "\n",
    "# CI null rate가 1인 데이터만 다 지웠을때랑 비교하면?\n",
    "df_nofullna = df_city[~df_city[\"metric_label\"].isin(null_all_label.index.to_list())]\n",
    "\n",
    "citywise_counts = df_city.groupby([\"date_label\"])[\"value\"].size()\n",
    "nona_counts = df_nona.groupby([\"date_label\"])[\"value\"].size()\n",
    "\n",
    "nofullna_counts = df_nofullna.groupby([\"date_label\"])[\"value\"].size()\n",
    "\n",
    "citywise_counts.plot.bar(ax=axes[0][0])\n",
    "axes[0][0].set(title=\"연도별 데이터 분포\")\n",
    "nona_counts.plot.bar(ax=axes[0][1])\n",
    "axes[0][1].set(title=\"CI가 하나라도 없는 항목 제거 시 연도별 데이터 분포\")\n",
    "nofullna_counts.plot.bar(ax=axes[0][2])\n",
    "axes[0][2].set(title=\"전체가 CI 없는 항목 제거 시 연도별 데이터 분포\")\n",
    "\n",
    "citywise_counts.plot.box(ax=axes[1][0])\n",
    "nona_counts.plot.box(ax=axes[1][1])\n",
    "nofullna_counts.plot.box(ax=axes[1][2])\n",
    "\n",
    "df_thresh = df_city[~df_city[\"date_label\"].isin(null_thresh_label.index.to_list())]\n",
    "thresh_counts = df_thresh.groupby([\"date_label\"])[\"value\"].size()\n",
    "thresh_counts.plot.bar(ax=axes[0][3])\n",
    "axes[0][3].set(title=\"CI 없는 비율이 threshold 이상인 항목 제거 시 연도별 데이터 분포\")\n",
    "thresh_counts.plot.box(ax=axes[1][3])\n",
    "\n",
    "# axes[0][1].sharey(axes[0][0])\n",
    "# axes[0][2].sharey(axes[0][0])\n",
    "# axes[0][3].sharey(axes[0][0])\n",
    "\n",
    "get_nullprop(df_city,\"date_label\",cols=col_list).plot.bar(ax=axes[2][0])\n",
    "get_nullprop(df_nona,\"date_label\",cols=col_list).plot.bar(ax=axes[2][1])\n",
    "get_nullprop(df_nofullna,\"date_label\",cols=col_list).plot.bar(ax=axes[2][2])\n",
    "get_nullprop(df_thresh,\"date_label\",cols=col_list).plot.bar(ax=axes[2][3])\n",
    "\n",
    "plt.show()"
   ]
  },
  {
   "cell_type": "code",
   "execution_count": null,
   "metadata": {},
   "outputs": [],
   "source": [
    "get_nullprop(df_city,\"date_label\",cols=col_list)"
   ]
  },
  {
   "cell_type": "code",
   "execution_count": null,
   "metadata": {},
   "outputs": [],
   "source": [
    "fig, axes = plt.subplots(3,4,figsize=(24,12),sharey=True)\n",
    "\n",
    "# CI가 null인 레코드가 하나라도 있으면\n",
    "null_any_label = null_prop_label[(null_prop_label['value_95_ci_high'] > 0.0)]\n",
    "null_all_label = null_prop_label[(null_prop_label['value_95_ci_high'] == 1.0)]\n",
    "# CI가 0 이상인 데이터를 다 지웠을떄 분포차이가 생기는지?\n",
    "\n",
    "df_nona = df_city[~df_city[\"metric_label\"].isin(null_any_label.index.to_list())]\n",
    "df_nofullna = df_city[~df_city[\"metric_label\"].isin(null_all_label.index.to_list())]\n",
    "\n",
    "citywise_counts = df_city.groupby([\"geo_label_city\"])[\"value\"].size()\n",
    "nona_counts = df_nona.groupby([\"geo_label_city\"])[\"value\"].size()\n",
    "# CI가 1인 데이터만 다 지웠을때랑 비교하면?\n",
    "nofullna_counts = df_nofullna.groupby([\"geo_label_city\"])[\"value\"].size()\n",
    "\n",
    "citywise_counts.plot.bar(ax=axes[0][0])\n",
    "\n",
    "nona_counts.plot.bar(ax=axes[0][1])\n",
    "axes[0][1].set(title=\"CI가 하나라도 없는 항목 제거 시 도시별 데이터 분포\")\n",
    "nofullna_counts.plot.bar(ax=axes[0][2])\n",
    "axes[0][2].set(title=\"전체가 CI 없는 항목 제거 시 도시별 데이터 분포\")\n",
    "\n",
    "citywise_counts.plot.box(ax=axes[1][0])\n",
    "nona_counts.plot.box(ax=axes[1][1])\n",
    "nofullna_counts.plot.box(ax=axes[1][2])\n",
    "\n",
    "df_thresh = df_city[~df_city[\"geo_label_city\"].isin(null_thresh_label.index.to_list())]\n",
    "thresh_counts = df_thresh.groupby([\"geo_label_city\"])[\"value\"].size()\n",
    "thresh_counts.plot.bar(ax=axes[0][3])\n",
    "axes[0][3].set(title=\"CI 없는 비율이 threshold 이상인 항목 제거 시 도시별 데이터 분포\")\n",
    "thresh_counts.plot.box(ax=axes[1][3])\n",
    "\n",
    "plt.show()"
   ]
  },
  {
   "cell_type": "code",
   "execution_count": null,
   "metadata": {},
   "outputs": [],
   "source": [
    "#값의 분포 확인\n",
    "\n",
    "from scipy.stats import chi2_contingency\n",
    "\n",
    "fig, axes = plt.subplots(4,2,figsize=(24,18),sharey=True)\n",
    "\n",
    "data_somena_city=[]\n",
    "data_somena_year=[]\n",
    "data_allna_city=[]\n",
    "data_allna_year=[]\n",
    "data_anyna_city=[]\n",
    "data_anyna_year=[]\n",
    "data_all_city=[]\n",
    "data_all_year=[]\n",
    "\n",
    "for col in null_some_label.index:\n",
    "    target_df = df_city[df_city[\"metric_label\"] == col]\n",
    "    chi2,p,dof,ex = chi2_contingency(pd.crosstab(target_df[\"geo_label_city\"],target_df[\"value\"]))\n",
    "    data_somena_city.append((col,p))\n",
    "\n",
    "    chi2,p,dof,ex = chi2_contingency(pd.crosstab(target_df[\"date_label\"],target_df[\"value\"]))\n",
    "    data_somena_year.append((col,p))\n",
    "\n",
    "for col in null_all_label.index:\n",
    "    target_df = df_city[df_city[\"metric_label\"] == col]\n",
    "    chi2,p,dof,ex = chi2_contingency(pd.crosstab(target_df[\"geo_label_city\"],target_df[\"value\"]))\n",
    "    data_allna_city.append((col,p))\n",
    "\n",
    "    chi2,p,dof,ex = chi2_contingency(pd.crosstab(target_df[\"date_label\"],target_df[\"value\"]))\n",
    "    data_allna_year.append((col,p))\n",
    "\n",
    "for col in null_any_label.index:\n",
    "    target_df = df_city[df_city[\"metric_label\"] == col]\n",
    "    chi2,p,dof,ex = chi2_contingency(pd.crosstab(target_df[\"geo_label_city\"],target_df[\"value\"]))\n",
    "    data_anyna_city.append((col,p))\n",
    "\n",
    "    chi2,p,dof,ex = chi2_contingency(pd.crosstab(target_df[\"date_label\"],target_df[\"value\"]))\n",
    "    data_anyna_year.append((col,p))\n",
    "\n",
    "for col in null_prop_label.index:\n",
    "    target_df = df_city[df_city[\"metric_label\"] == col]\n",
    "    chi2,p,dof,ex = chi2_contingency(pd.crosstab(target_df[\"geo_label_city\"],target_df[\"value\"]))\n",
    "    data_all_city.append((col,p))\n",
    "\n",
    "    chi2,p,dof,ex = chi2_contingency(pd.crosstab(target_df[\"date_label\"],target_df[\"value\"]))\n",
    "    data_all_year.append((col,p))\n",
    "\n",
    "# p < 0.05 -> same distribution\n",
    "\n",
    "axes[0][0].bar(*zip(*data_somena_city))\n",
    "axes[0][0].axhline(y=0.05,color='r',linestyle='-')\n",
    "axes[0][0].set(xlabel=\"metric_label\",ylabel=\"p-value\",title=\"chi-square homogenieity test across cities for 0<CI null<1\")\n",
    "axes[0][0].tick_params(axis='x', rotation=90)\n",
    "axes[0][1].bar(*zip(*data_somena_year))\n",
    "axes[0][1].axhline(y=0.05,color='r',linestyle='-')\n",
    "axes[0][1].set(xlabel=\"metric_label\",ylabel=\"p-value\",title=\"chi-square homogenieity test across year for 0<CI null<1\")\n",
    "axes[0][1].tick_params(axis='x', rotation=90)\n",
    "\n",
    "axes[1][0].bar(*zip(*data_allna_city))\n",
    "axes[1][0].axhline(y=0.05,color='r',linestyle='-')\n",
    "axes[1][0].set(xlabel=\"metric_label\",ylabel=\"p-value\",title=\"chi-square homogenieity test across year for CI null = 1\")\n",
    "axes[1][0].tick_params(axis='x', rotation=90)\n",
    "axes[1][1].bar(*zip(*data_allna_year))\n",
    "axes[1][1].axhline(y=0.05,color='r',linestyle='-')\n",
    "axes[1][1].set(xlabel=\"metric_label\",ylabel=\"p-value\",title=\"chi-square homogenieity test across year for CI null = 1\")\n",
    "axes[1][1].tick_params(axis='x', rotation=90)\n",
    "\n",
    "axes[2][0].bar(*zip(*data_anyna_city))\n",
    "axes[2][0].axhline(y=0.05,color='r',linestyle='-')\n",
    "axes[2][0].set(xlabel=\"metric_label\",ylabel=\"p-value\",title=\"chi-square homogenieity test across year for CI null > 0\")\n",
    "axes[2][0].tick_params(axis='x', rotation=90)\n",
    "axes[2][1].bar(*zip(*data_anyna_year))\n",
    "axes[2][1].axhline(y=0.05,color='r',linestyle='-')\n",
    "axes[2][1].set(xlabel=\"metric_label\",ylabel=\"p-value\",title=\"chi-square homogenieity test across year for CI null > 0\")\n",
    "axes[2][1].tick_params(axis='x', rotation=90)\n",
    "\n",
    "axes[3][0].bar(*zip(*data_all_city))\n",
    "axes[3][0].axhline(y=0.05,color='r',linestyle='-')\n",
    "axes[3][0].set(xlabel=\"metric_label\",ylabel=\"p-value\",title=\"chi-square homogenieity test across year for CI null > 0\")\n",
    "axes[3][0].tick_params(axis='x', rotation=90)\n",
    "axes[3][1].bar(*zip(*data_all_year))\n",
    "axes[3][1].axhline(y=0.05,color='r',linestyle='-')\n",
    "axes[3][1].set(xlabel=\"metric_label\",ylabel=\"p-value\",title=\"chi-square homogenieity test across year for CI null > 0\")\n",
    "axes[3][1].tick_params(axis='x', rotation=90)\n",
    "\n",
    "\n"
   ]
  },
  {
   "cell_type": "code",
   "execution_count": null,
   "metadata": {},
   "outputs": [],
   "source": [
    "# 도시별 분포가 유사한(즉 데이터 분포에 영향을 줄 가능성이 적은) 컬럼들과 연도별 분포가 서로 다른(즉 데이터 분포에 영향 줄 가능성이 큰) 항목들 선별\n",
    "ambivalence = []\n",
    "important = []\n",
    "for col in null_any_label.index:\n",
    "    target_df = df_city[df_city[\"metric_label\"] == col]\n",
    "    chi2,p,dof,ex = chi2_contingency(pd.crosstab(target_df[\"geo_label_city\"],target_df[\"value\"]))\n",
    "    if p > 0.05:\n",
    "        ambivalence.append(col)\n",
    "\n",
    "    chi2,p,dof,ex = chi2_contingency(pd.crosstab(target_df[\"date_label\"],target_df[\"value\"]))\n",
    "    if p < 0.05:\n",
    "        important.append(col)\n",
    "\n",
    "\n",
    "# 도시별 분포가 유사한(즉 데이터 분포에 영향을 줄 가능성이 적은) 항목\n",
    "df_amb = pd.DataFrame(ambivalence)\n",
    "\n",
    "df_amb\n",
    "\n",
    "    "
   ]
  },
  {
   "cell_type": "code",
   "execution_count": null,
   "metadata": {},
   "outputs": [],
   "source": [
    "#연도별 분포가 서로 다른(즉 데이터 분포에 영향 줄 가능성이 큰) 항목\n",
    "\n",
    "df_imp = pd.DataFrame(important)\n",
    "\n",
    "df_imp"
   ]
  },
  {
   "cell_type": "code",
   "execution_count": null,
   "metadata": {},
   "outputs": [],
   "source": [
    "pd.crosstab(target_df[\"geo_label_city\"],target_df[\"value\"])"
   ]
  },
  {
   "cell_type": "code",
   "execution_count": null,
   "metadata": {},
   "outputs": [],
   "source": [
    "for col in null_any_label.index:\n",
    "    target_df = df_city[df_city[\"metric_label\"] == col]\n",
    "    chi2,p,dof,ex = chi2_contingency(pd.crosstab(target_df[\"geo_label_city\"],target_df[\"value\"]))\n",
    "    print(col, p)"
   ]
  },
  {
   "cell_type": "code",
   "execution_count": null,
   "metadata": {},
   "outputs": [],
   "source": [
    "len(null_some_label)"
   ]
  },
  {
   "cell_type": "code",
   "execution_count": null,
   "metadata": {},
   "outputs": [],
   "source": [
    "citywise_counts"
   ]
  },
  {
   "cell_type": "code",
   "execution_count": null,
   "metadata": {},
   "outputs": [],
   "source": [
    "# 집계 년도가 격년인지 확인하는 함수 정의\n",
    "def is_biennial(df, year_column='date_label'):\n",
    "    # 연도 리스트 추출 및 정렬\n",
    "    years = sorted(df[year_column].unique())\n",
    "    \n",
    "    # 연도 간 차이 계산\n",
    "    differences = [years[i+1] - years[i] for i in range(len(years) - 1)]\n",
    "    \n",
    "    # 모든 차이가 2년인지 확인\n",
    "    return all(diff == 2 for diff in differences)\n",
    "\n",
    "# 함수 사용\n",
    "if is_biennial(df_city[df_city[\"metric_label\"] == \"Mental Health | Teen Mental Distress\"]):\n",
    "    print(\"집계 년도가 격년입니다.\")\n",
    "else:\n",
    "    print(\"집계 년도가 격년이 아닙니다.\") "
   ]
  },
  {
   "cell_type": "code",
   "execution_count": null,
   "metadata": {},
   "outputs": [],
   "source": [
    "null_some_label.index"
   ]
  },
  {
   "cell_type": "code",
   "execution_count": null,
   "metadata": {},
   "outputs": [],
   "source": [
    "fig, ax = plt.subplots(figsize=(6,8))\n",
    "ax.hist(x = df_city[df_city[\"metric_label\"].isin(null_some_label.index)][\"date_label\"])"
   ]
  },
  {
   "cell_type": "code",
   "execution_count": null,
   "metadata": {},
   "outputs": [],
   "source": [
    "df_city[df_city[\"metric_label\"].isin(null_some_label.index)][\"date_label\"].value_counts()"
   ]
  },
  {
   "cell_type": "code",
   "execution_count": null,
   "metadata": {},
   "outputs": [],
   "source": [
    "display(df_city[df_city[\"metric_label\"].isin(null_some_label.index)][\"strata_race_label\"].value_counts())\n",
    "display(df_city[df_city[\"metric_label\"].isin(null_some_label.index)][\"strata_sex_label\"].value_counts())"
   ]
  },
  {
   "cell_type": "code",
   "execution_count": null,
   "metadata": {},
   "outputs": [],
   "source": [
    "df_city[(df_city[\"metric_label\"].isin(null_some_label.index)) & (df_city[\"strata_race_label\"] == \"All\") & (df_city[\"strata_sex_label\"] == \"Both\")][\"date_label\"].plot.hist()"
   ]
  },
  {
   "cell_type": "code",
   "execution_count": null,
   "metadata": {},
   "outputs": [],
   "source": [
    "df_city[(df_city[\"metric_label\"].isin(null_some_label.index)) & (df_city[\"strata_race_label\"] == \"All\") & (df_city[\"strata_sex_label\"] == \"Both\")][\"date_label\"].value_counts()"
   ]
  },
  {
   "cell_type": "code",
   "execution_count": null,
   "metadata": {},
   "outputs": [],
   "source": [
    "df_city[(df_city[\"metric_label\"].isin(null_some_label.index)) & (df_city[\"strata_race_label\"] == \"All\") & (df_city[\"strata_sex_label\"] == \"Both\")].groupby(\"metric_label\")[\"geo_label_city\"].value_counts()\n",
    "# 19 * 11 -> 19 column, 11 years (2021/2022 missing)\n",
    "# only in 19 cities, and LV has half data\n",
    "# LV has Diabetes and Obesity | Teen Obesity, "
   ]
  },
  {
   "cell_type": "code",
   "execution_count": null,
   "metadata": {},
   "outputs": [],
   "source": [
    "pd.set_option('display.max_rows', None)\n",
    "df_city[(df_city[\"metric_label\"].isin(null_some_label.index)) & (df_city[\"strata_race_label\"] == \"All\") & (df_city[\"strata_sex_label\"] == \"Both\")].groupby([\"metric_label\",\"date_label\",\"geo_label_city\"])[\"value\"].count()"
   ]
  },
  {
   "cell_type": "code",
   "execution_count": null,
   "metadata": {},
   "outputs": [],
   "source": [
    "teen_index = [\"Mental Health | Teen Suicidal Ideation\",\n",
    "\n",
    "\"Physical Activity | Teen Computer Time\",\n",
    "\n",
    "\"Physical Activity | Teen Physical Activity\",\n",
    "\n",
    "\"Physical Activity | Teen TV Time\",\n",
    "\n",
    "\"Respiratory Disease | Teen Asthma\",\n",
    "\n",
    "\"Substance Use | Teen Alcohol\",\n",
    "\n",
    "\"Substance Use | Teen Marijuana\",\n",
    "\n",
    "\"Substance Use | Teen Smoking\",\n",
    "\n",
    "\"Diabetes and Obesity | Teen Obesity\"]"
   ]
  },
  {
   "cell_type": "code",
   "execution_count": null,
   "metadata": {},
   "outputs": [],
   "source": [
    "df_city[(df_city[\"metric_label\"].isin(teen_index)) & (df_city[\"strata_race_label\"] == \"All\") & (df_city[\"strata_sex_label\"] == \"Both\")].groupby(\"geo_label_city\")[\"metric_label\"].value_counts()"
   ]
  },
  {
   "cell_type": "code",
   "execution_count": null,
   "metadata": {},
   "outputs": [],
   "source": [
    "teen_index = [\"Physical Activity | Teen Computer Time\",\n",
    "\n",
    "\"Physical Activity | Teen Physical Activity\",\n",
    "\n",
    "\"Physical Activity | Teen TV Time\",\n",
    "\n",
    "\"Respiratory Disease | Teen Asthma\",\n",
    "\n",
    "\"Substance Use | Teen Alcohol\",\n",
    "\n",
    "\"Substance Use | Teen Marijuana\",\n",
    "\n",
    "\"Substance Use | Teen Smoking\",\n",
    "\n",
    "\"Diabetes and Obesity | Teen Obesity\"]"
   ]
  },
  {
   "cell_type": "code",
   "execution_count": null,
   "metadata": {},
   "outputs": [],
   "source": [
    "df_teen = df_city[(df_city[\"metric_label\"].isin(teen_index)) & (df_city[\"strata_race_label\"] == \"All\") & (df_city[\"strata_sex_label\"] == \"Both\")]\n",
    "\n",
    "table_teen = pd.pivot_table(df_teen, values=\"value\", index=[\"date_label\",\"geo_label_city\"], columns=\"metric_label\")\n",
    "\n",
    "fig, ax = plt.subplots(figsize=(20,20))\n",
    "table_teen.plot.bar(ax=ax)"
   ]
  },
  {
   "cell_type": "code",
   "execution_count": null,
   "metadata": {},
   "outputs": [],
   "source": [
    "df_teen"
   ]
  },
  {
   "cell_type": "code",
   "execution_count": 145,
   "metadata": {},
   "outputs": [
    {
     "data": {
      "text/plain": [
       "All         2673\n",
       "Hispanic     498\n",
       "Black        447\n",
       "White        410\n",
       "Asian/PI     320\n",
       "Name: strata_race_label, dtype: int64"
      ]
     },
     "metadata": {},
     "output_type": "display_data"
    },
    {
     "data": {
      "text/plain": [
       "Both      3336\n",
       "Male       506\n",
       "Female     506\n",
       "Name: strata_sex_label, dtype: int64"
      ]
     },
     "metadata": {},
     "output_type": "display_data"
    }
   ],
   "source": [
    "pd.set_option('display.max_rows', 65)\n",
    "display(df_city[df_city[\"metric_label\"].isin(teen_index)][\"strata_race_label\"].value_counts())\n",
    "display(df_city[df_city[\"metric_label\"].isin(teen_index)][\"strata_sex_label\"].value_counts())"
   ]
  },
  {
   "cell_type": "code",
   "execution_count": 156,
   "metadata": {},
   "outputs": [
    {
     "data": {
      "text/plain": [
       "All         2622\n",
       "White       1260\n",
       "Black       1179\n",
       "Hispanic     808\n",
       "Asian/PI     485\n",
       "Name: strata_race_label, dtype: int64"
      ]
     },
     "metadata": {},
     "output_type": "display_data"
    },
    {
     "data": {
      "text/plain": [
       "Both      3122\n",
       "Male      1646\n",
       "Female    1586\n",
       "Name: strata_sex_label, dtype: int64"
      ]
     },
     "metadata": {},
     "output_type": "display_data"
    }
   ],
   "source": [
    "display(df_city[df_city[\"metric_label\"].isin(ambivalence)][\"strata_race_label\"].value_counts())\n",
    "display(df_city[df_city[\"metric_label\"].isin(ambivalence)][\"strata_sex_label\"].value_counts())"
   ]
  },
  {
   "cell_type": "code",
   "execution_count": 161,
   "metadata": {},
   "outputs": [
    {
     "data": {
      "text/plain": [
       "All                              2603\n",
       "White                             795\n",
       "Hispanic                          775\n",
       "Black                             775\n",
       "Asian/PI                          385\n",
       "Asian                             373\n",
       "American Indian/Alaska Native      94\n",
       "Name: strata_race_label, dtype: int64"
      ]
     },
     "metadata": {},
     "output_type": "display_data"
    },
    {
     "data": {
      "text/plain": [
       "Both      4980\n",
       "Male       410\n",
       "Female     410\n",
       "Name: strata_sex_label, dtype: int64"
      ]
     },
     "metadata": {},
     "output_type": "display_data"
    }
   ],
   "source": [
    "display(df_city[df_city[\"metric_label\"].isin(important)][\"strata_race_label\"].value_counts())\n",
    "display(df_city[df_city[\"metric_label\"].isin(important)][\"strata_sex_label\"].value_counts())"
   ]
  },
  {
   "cell_type": "code",
   "execution_count": 160,
   "metadata": {},
   "outputs": [
    {
     "data": {
      "text/plain": [
       "date_label\n",
       "2010     35\n",
       "2011     70\n",
       "2012     70\n",
       "2013     70\n",
       "2014     70\n",
       "2015    168\n",
       "2016    168\n",
       "2017    166\n",
       "2018    166\n",
       "2019    166\n",
       "2020    164\n",
       "2021    234\n",
       "2022    235\n",
       "Name: metric_label, dtype: int64"
      ]
     },
     "execution_count": 160,
     "metadata": {},
     "output_type": "execute_result"
    }
   ],
   "source": [
    "df_city[df_city[\"metric_label\"].isin(ambivalence) & (df_city[\"strata_race_label\"] == \"All\") & (df_city[\"strata_sex_label\"] == \"Both\")].groupby(\"date_label\")[\"metric_label\"].count()"
   ]
  },
  {
   "cell_type": "code",
   "execution_count": null,
   "metadata": {},
   "outputs": [],
   "source": []
  }
 ],
 "metadata": {
  "kernelspec": {
   "display_name": "EST_NA",
   "language": "python",
   "name": "python3"
  },
  "language_info": {
   "codemirror_mode": {
    "name": "ipython",
    "version": 3
   },
   "file_extension": ".py",
   "mimetype": "text/x-python",
   "name": "python",
   "nbconvert_exporter": "python",
   "pygments_lexer": "ipython3",
   "version": "3.8.15"
  },
  "orig_nbformat": 4
 },
 "nbformat": 4,
 "nbformat_minor": 2
}
